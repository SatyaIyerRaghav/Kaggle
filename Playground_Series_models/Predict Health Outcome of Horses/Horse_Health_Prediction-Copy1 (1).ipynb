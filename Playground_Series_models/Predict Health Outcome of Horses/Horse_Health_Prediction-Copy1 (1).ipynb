{
 "cells": [
  {
   "cell_type": "markdown",
   "id": "1900ef82",
   "metadata": {},
   "source": [
    "# Predict Health Outcomes of Horses\n",
    "#### Playground Series - Season 3, Episode 22"
   ]
  },
  {
   "cell_type": "markdown",
   "id": "91ca52f8",
   "metadata": {},
   "source": [
    "### Description\n",
    "Synthetically-Generated Datasets\n",
    "Using synthetic data for Playground competitions allows us to strike a balance between having real-world data (with named features) and ensuring test labels are not publicly available. This allows us to host competitions with more interesting datasets than in the past. While there are still challenges with synthetic data generation, the state-of-the-art is much better now than when we started the Tabular Playground Series two years ago, and that goal is to produce datasets that have far fewer artifacts. Please feel free to give us feedback on the datasets for the different competitions so that we can continue to improve!"
   ]
  },
  {
   "cell_type": "code",
   "execution_count": null,
   "id": "7c0b0034",
   "metadata": {},
   "outputs": [],
   "source": [
    "import pandas as pd\n",
    "import numpy as np\n",
    "import matplotlib.pyplot as plt\n",
    "import seaborn as sns\n",
    "\n",
    "import warnings\n",
    "warnings.filterwarnings('ignore')"
   ]
  },
  {
   "cell_type": "code",
   "execution_count": null,
   "id": "1a03284e",
   "metadata": {},
   "outputs": [],
   "source": [
    "trainData = pd.read_csv('train.csv')\n",
    "trainData.head(5)\n"
   ]
  },
  {
   "cell_type": "code",
   "execution_count": null,
   "id": "4de1ff16",
   "metadata": {},
   "outputs": [],
   "source": [
    "testData = pd.read_csv('test.csv')\n",
    "testData.head(5)"
   ]
  },
  {
   "cell_type": "code",
   "execution_count": null,
   "id": "8a41a3c2",
   "metadata": {},
   "outputs": [],
   "source": [
    "trainData.shape,testData.shape"
   ]
  },
  {
   "cell_type": "code",
   "execution_count": null,
   "id": "01bdc17c",
   "metadata": {},
   "outputs": [],
   "source": [
    "trainData.info()"
   ]
  },
  {
   "cell_type": "markdown",
   "id": "99af0335",
   "metadata": {},
   "source": [
    "\n",
    "## Step 2 : EDA and Data Visualization"
   ]
  },
  {
   "cell_type": "markdown",
   "id": "5a0b0a23",
   "metadata": {},
   "source": [
    "### ON TRAIN DATASET"
   ]
  },
  {
   "cell_type": "code",
   "execution_count": null,
   "id": "5436eb9a",
   "metadata": {},
   "outputs": [],
   "source": [
    "trainData.isnull().sum()"
   ]
  },
  {
   "cell_type": "markdown",
   "id": "ee7f9cff",
   "metadata": {},
   "source": [
    "### Data is perfectly cleaned no missing values."
   ]
  },
  {
   "cell_type": "code",
   "execution_count": null,
   "id": "01c51360",
   "metadata": {},
   "outputs": [],
   "source": [
    "categoricallist = ['surgery','age','temp_of_extremities','peripheral_pulse','mucous_membrane','capillary_refill_time','pain','peristalsis','abdominal_distention'\n",
    "                  ,'nasogastric_tube','nasogastric_reflux','rectal_exam_feces','abdomen','abdomo_appearance','surgical_lesion','cp_data','outcome']"
   ]
  },
  {
   "cell_type": "markdown",
   "id": "50fc874f",
   "metadata": {},
   "source": [
    "### Univariate Analysis:"
   ]
  },
  {
   "cell_type": "code",
   "execution_count": null,
   "id": "5dd6c18b",
   "metadata": {},
   "outputs": [],
   "source": [
    "# # univariate Analysis on Categorical variable\n",
    "# for i in categoricallist:\n",
    "#     plt.figure(figsize=(8,2))\n",
    "#     sns.countplot(x=trainData[i],data = trainData)\n",
    "#     plt.show()"
   ]
  },
  {
   "cell_type": "code",
   "execution_count": null,
   "id": "7b2b89b2",
   "metadata": {},
   "outputs": [],
   "source": [
    "trainData.describe()"
   ]
  },
  {
   "cell_type": "code",
   "execution_count": null,
   "id": "aae8b0d3",
   "metadata": {},
   "outputs": [],
   "source": [
    "# Univariate Analysis on Numerical variable"
   ]
  },
  {
   "cell_type": "markdown",
   "id": "9e3e609b",
   "metadata": {},
   "source": [
    "#### we can see that lesion_1,lesion_2,lesion_3 are having outliers hence we do IQR"
   ]
  },
  {
   "cell_type": "code",
   "execution_count": null,
   "id": "a3b8a084",
   "metadata": {},
   "outputs": [],
   "source": [
    "list_outlier = ['total_protein','lesion_1','lesion_2','lesion_3']\n",
    "numerical_list = ['rectal_temp','pulse','respiratory_rate','nasogastric_reflux_ph','packed_cell_volume','abdomo_protein']"
   ]
  },
  {
   "cell_type": "code",
   "execution_count": null,
   "id": "91142d4b",
   "metadata": {},
   "outputs": [],
   "source": [
    "for i in list_outlier:\n",
    "    trainData[i].describe(percentiles = [0.05,.25, .5, .75, .90, .95, .99])\n",
    "    # As we can see there are a number of outliers in the data.\n",
    "    # We will cap the outliers to 95% value for analysis.\n",
    "    percentiles = trainData[i].quantile([0.05,0.95]).values\n",
    "    trainData[i][trainData[i] <= percentiles[0]] = percentiles[0]\n",
    "    trainData[i][trainData[i] >= percentiles[1]] = percentiles[1]"
   ]
  },
  {
   "cell_type": "code",
   "execution_count": null,
   "id": "d958f25c",
   "metadata": {},
   "outputs": [],
   "source": [
    "# for i in list_outlier:\n",
    "#     plt.figure(figsize=(3,3))\n",
    "#     sns.boxplot(trainData[i])\n",
    "#     plt.title(trainData[i].name)\n",
    "#     plt.show()"
   ]
  },
  {
   "cell_type": "code",
   "execution_count": null,
   "id": "b92f3174",
   "metadata": {},
   "outputs": [],
   "source": [
    "# for i in numerical_list:\n",
    "#     plt.figure(figsize=(2,2))\n",
    "#     sns.boxplot(trainData[i])\n",
    "#     plt.title(trainData[i].name)\n",
    "#     plt.show()"
   ]
  },
  {
   "cell_type": "markdown",
   "id": "766e7217",
   "metadata": {},
   "source": [
    "### BIVARIATE Analysis"
   ]
  },
  {
   "cell_type": "code",
   "execution_count": null,
   "id": "c427de0e",
   "metadata": {},
   "outputs": [],
   "source": [
    "# # categorical variable list with respect to target column Outcome\n",
    "# for i in categoricallist:\n",
    "#     sns.countplot(x=trainData[i],data=trainData,hue=trainData['outcome'])\n",
    "#     plt.show()"
   ]
  },
  {
   "cell_type": "code",
   "execution_count": null,
   "id": "789bb253",
   "metadata": {},
   "outputs": [],
   "source": [
    "# # Numerical variable list with respect to target column Outcome\n",
    "# for i in numerical_list:\n",
    "#     plt.figure(figsize=(17,3))\n",
    "#     sns.countplot(x=trainData[i],data=trainData,hue=trainData['outcome'])\n",
    "#     plt.xticks(rotation=30)\n",
    "#     plt.show()"
   ]
  },
  {
   "cell_type": "markdown",
   "id": "14024b65",
   "metadata": {},
   "source": [
    "### Multivariate Analysis:"
   ]
  },
  {
   "cell_type": "code",
   "execution_count": null,
   "id": "a4c9d07b",
   "metadata": {},
   "outputs": [],
   "source": [
    "# plt.figure(figsize=(10,5))\n",
    "# sns.heatmap(trainData.corr(),annot=True)\n",
    "# plt.show()"
   ]
  },
  {
   "cell_type": "code",
   "execution_count": null,
   "id": "9c76546a",
   "metadata": {},
   "outputs": [],
   "source": [
    "# plt.figure(figsize=(20,5))\n",
    "# sns.pairplot(trainData)\n",
    "# plt.show()"
   ]
  },
  {
   "cell_type": "code",
   "execution_count": null,
   "id": "1cef2525",
   "metadata": {},
   "outputs": [],
   "source": [
    "# Insights:"
   ]
  },
  {
   "cell_type": "markdown",
   "id": "c83add17",
   "metadata": {},
   "source": [
    "# step3 : Data Preparation"
   ]
  },
  {
   "cell_type": "markdown",
   "id": "ef71c4a4",
   "metadata": {},
   "source": [
    "## For TrainSet Data"
   ]
  },
  {
   "cell_type": "code",
   "execution_count": null,
   "id": "c1860640",
   "metadata": {},
   "outputs": [],
   "source": [
    "# dropping all variables which are not producing any inpact on our model building.\n",
    "trainData = trainData.drop(['hospital_number','lesion_2','lesion_3'],axis=1)\n",
    "testData = testData.drop(['hospital_number','lesion_2','lesion_3'],axis=1)"
   ]
  },
  {
   "cell_type": "code",
   "execution_count": null,
   "id": "725a6ee0",
   "metadata": {},
   "outputs": [],
   "source": [
    "trainData.shape,testData.shape"
   ]
  },
  {
   "cell_type": "markdown",
   "id": "11622119",
   "metadata": {},
   "source": [
    "### creating dummy variable and droping first_element from that and create a dataframe."
   ]
  },
  {
   "cell_type": "code",
   "execution_count": null,
   "id": "fce96f03",
   "metadata": {},
   "outputs": [],
   "source": [
    "# substituting binary value for Yes-No Variable\n",
    "binary_list_var = ['surgery','surgical_lesion','cp_data']"
   ]
  },
  {
   "cell_type": "code",
   "execution_count": null,
   "id": "4a79f3e5",
   "metadata": {},
   "outputs": [],
   "source": [
    "def change_to_binary(x):\n",
    "    x=x.map({'yes':1,'no':0})\n",
    "    return x\n",
    "trainData[binary_list_var] = trainData[binary_list_var].apply(change_to_binary)\n",
    "testData[binary_list_var] = testData[binary_list_var].apply(change_to_binary)\n"
   ]
  },
  {
   "cell_type": "code",
   "execution_count": null,
   "id": "ee6dbd9b",
   "metadata": {},
   "outputs": [],
   "source": [
    "# substitute adult = 1 , young = 0\n",
    "trainData['age'] = trainData['age'].map({'adult':1,'young':0})\n",
    "testData['age'] = testData['age'].map({'adult':1,'young':0})"
   ]
  },
  {
   "cell_type": "markdown",
   "id": "a6ea6b29",
   "metadata": {},
   "source": [
    "#### Replacing in TrainData Set"
   ]
  },
  {
   "cell_type": "code",
   "execution_count": null,
   "id": "e5e7d5cf",
   "metadata": {},
   "outputs": [],
   "source": [
    "# replacing all None with no_issues , correcting data , mergeing if necessary , as values such as normal,slight are used with many parameter\n",
    "# hence append each with their root Variable name to avoid confusion in naming the variable before creating dummy vars.\n",
    "\n",
    "trainData['temp_of_extremities'] = trainData['temp_of_extremities'].replace({'cool':'cool_temp_of_extremities','cold':'cool_temp_of_extremities','None':'no_issues','normal':'normal_temp_of_extremities','warm':'warm_temp_of_extremities'})\n",
    "trainData['peripheral_pulse'] = trainData['peripheral_pulse'].replace({'None':'absent','reduced':'reduced_peripheral_pulse','normal':'normal_peripheral_pulse','increased':'increased_peripheral_pulse'})\n",
    "trainData['mucous_membrane'] = trainData['mucous_membrane'].replace({'None':'no_color'})\n",
    "trainData['capillary_refill_time'] = trainData['capillary_refill_time'].replace({'3':'None'})\n",
    "trainData['pain'] = trainData['pain'].replace({'None':'no_pain'})\n",
    "trainData['peristalsis'] = trainData['peristalsis'].replace({'None':'absent','hypomotile':'hypermotile','normal':'normal_peristalsis'})\n",
    "trainData['abdominal_distention'] = trainData['abdominal_distention'].replace({'None':'nothing','none':'nothing','moderate':'moderate_abdominal_distention','slight':'slight_abdominal_distention','severe':'severe_abdominal_distention'})\n",
    "trainData['nasogastric_tube'] = trainData['nasogastric_tube'].replace({'None':'no_issues','none':'no_issues','slight':'slight_nasogastric_tube','significant':'significant_nasogastric_tube'})\n",
    "trainData['nasogastric_reflux'] = trainData['nasogastric_reflux'].replace({'None':'no_issues','none':'no_issues','slight':'slight_nasogastric_reflux'})\n",
    "trainData['rectal_exam_feces'] = trainData['rectal_exam_feces'].replace({'None':'no_traces_rectal_exam_feces','decreased':'decreased_rectal_exam_feces','normal':'normal_rectal_exam_feces','increased':'increased_rectal_exam_feces'})\n",
    "trainData['abdomen'] = trainData['abdomen'].replace({'None':'no_issues','other':'no_issues','distend_small':'distend_small_abdomen','distend_large':'distend_large_abdomen','normal':'normal_abdomen','firm':'firm_abdomen'})\n",
    "trainData['abdomo_appearance'] = trainData['abdomo_appearance'].replace({'None':'no_issues','serosanguious':'serosanguious_abdomo_appearance','cloudy':'cloudy_abdomo_appearance','clear':'clear_abdomo_appearance'})"
   ]
  },
  {
   "cell_type": "markdown",
   "id": "9ab817c0",
   "metadata": {},
   "source": [
    "#### Replacing in TestData Set"
   ]
  },
  {
   "cell_type": "code",
   "execution_count": null,
   "id": "10ca4d4f",
   "metadata": {},
   "outputs": [],
   "source": [
    "# replacing all None with no_issues , correcting data , mergeing if necessary , as values such as normal,slight are used with many parameter\n",
    "# hence append each with their root Variable name to avoid confusion in naming the variable before creating dummy vars.\n",
    "\n",
    "testData['temp_of_extremities'] = testData['temp_of_extremities'].replace({'cool':'cool_temp_of_extremities','cold':'cool_temp_of_extremities','None':'no_issues','normal':'normal_temp_of_extremities','warm':'warm_temp_of_extremities'})\n",
    "testData['peripheral_pulse'] = testData['peripheral_pulse'].replace({'None':'absent','reduced':'reduced_peripheral_pulse','normal':'normal_peripheral_pulse','increased':'increased_peripheral_pulse'})\n",
    "testData['mucous_membrane'] = testData['mucous_membrane'].replace({'None':'no_color'})\n",
    "testData['capillary_refill_time'] = testData['capillary_refill_time'].replace({'3':'None'})\n",
    "testData['pain'] = testData['pain'].replace({'None':'no_pain'})\n",
    "testData['peristalsis'] = testData['peristalsis'].replace({'None':'absent','hypomotile':'hypermotile','normal':'normal_peristalsis'})\n",
    "testData['abdominal_distention'] = testData['abdominal_distention'].replace({'None':'nothing','none':'nothing','moderate':'moderate_abdominal_distention','slight':'slight_abdominal_distention','severe':'severe_abdominal_distention'})\n",
    "testData['nasogastric_tube'] = testData['nasogastric_tube'].replace({'None':'no_issues','none':'no_issues','slight':'slight_nasogastric_tube','significant':'significant_nasogastric_tube'})\n",
    "testData['nasogastric_reflux'] = testData['nasogastric_reflux'].replace({'None':'no_issues','none':'no_issues','slight':'slight_nasogastric_reflux'})\n",
    "testData['rectal_exam_feces'] = testData['rectal_exam_feces'].replace({'None':'no_traces_rectal_exam_feces','decreased':'decreased_rectal_exam_feces','normal':'normal_rectal_exam_feces','increased':'increased_rectal_exam_feces'})\n",
    "testData['abdomen'] = testData['abdomen'].replace({'None':'no_issues','other':'no_issues','distend_small':'distend_small_abdomen','distend_large':'distend_large_abdomen','normal':'normal_abdomen','firm':'firm_abdomen'})\n",
    "testData['abdomo_appearance'] = testData['abdomo_appearance'].replace({'None':'no_issues','serosanguious':'serosanguious_abdomo_appearance','cloudy':'cloudy_abdomo_appearance','clear':'clear_abdomo_appearance'})"
   ]
  },
  {
   "cell_type": "markdown",
   "id": "b1e0babf",
   "metadata": {},
   "source": [
    "#### creating dummy for TrainData Set"
   ]
  },
  {
   "cell_type": "code",
   "execution_count": null,
   "id": "7c300d72",
   "metadata": {},
   "outputs": [],
   "source": [
    "#creating dummy variable for temp_of_extremities\n",
    "dummy_var1 = pd.get_dummies(trainData['temp_of_extremities'])\n",
    "df = pd.DataFrame(dummy_var1)\n",
    "df.drop('no_issues',1,inplace=True)\n",
    "trainData = pd.concat([trainData , df],axis =1)\n",
    "trainData = trainData.drop('temp_of_extremities',axis=1)\n",
    "\n",
    "#creating dummy variable for peripheral_pulse\n",
    "dummy_var2 = pd.get_dummies(trainData['peripheral_pulse'])\n",
    "df = pd.DataFrame(dummy_var2)\n",
    "df.drop('absent',1,inplace=True)\n",
    "trainData = pd.concat([trainData , df],axis =1)\n",
    "trainData = trainData.drop('peripheral_pulse',axis=1)\n",
    "\n",
    "#creating dummy variable for mucous_membrane\n",
    "dummy_var3 = pd.get_dummies(trainData['mucous_membrane'])\n",
    "df = pd.DataFrame(dummy_var3)\n",
    "df.drop('no_color',1,inplace=True)\n",
    "trainData = pd.concat([trainData , df],axis =1)\n",
    "trainData = trainData.drop('mucous_membrane',axis=1)\n",
    "\n",
    "#creating dummy variable for capillary_refill_time\n",
    "dummy_var4 = pd.get_dummies(trainData['capillary_refill_time'])\n",
    "df = pd.DataFrame(dummy_var4)\n",
    "df.drop('None',1,inplace=True)\n",
    "trainData = pd.concat([trainData , df],axis =1)\n",
    "trainData = trainData.drop('capillary_refill_time',axis=1)\n",
    "\n",
    "#creating dummy variable for pain\n",
    "dummy_var5 = pd.get_dummies(trainData['pain'])\n",
    "df = pd.DataFrame(dummy_var5)\n",
    "df.drop('no_pain',1,inplace=True)\n",
    "trainData = pd.concat([trainData , df],axis =1)\n",
    "trainData = trainData.drop('pain',axis=1)\n",
    "\n",
    "#creating dummy variable for peristalsis\n",
    "dummy_var6 = pd.get_dummies(trainData['peristalsis'])\n",
    "df = pd.DataFrame(dummy_var6)\n",
    "df.drop('absent',1,inplace=True)\n",
    "trainData = pd.concat([trainData , df],axis =1)\n",
    "trainData = trainData.drop('peristalsis',axis=1)\n",
    "\n",
    "#creating dummy variable for abdominal_distention\n",
    "dummy_var7 = pd.get_dummies(trainData['abdominal_distention'])\n",
    "df = pd.DataFrame(dummy_var7)\n",
    "df.drop('nothing',1,inplace=True)\n",
    "trainData = pd.concat([trainData , df],axis =1)\n",
    "trainData = trainData.drop('abdominal_distention',axis=1)\n",
    "\n",
    "#creating dummy variable for nasogastric_tube\n",
    "dummy_var8 = pd.get_dummies(trainData['nasogastric_tube'])\n",
    "df = pd.DataFrame(dummy_var8)\n",
    "df = df.drop('no_issues',1,inplace=True)\n",
    "trainData = pd.concat([trainData , df],axis =1)\n",
    "trainData = trainData.drop('nasogastric_tube',axis=1)\n",
    "\n",
    "#creating dummy variable for nasogastric_reflux\n",
    "dummy_var9 = pd.get_dummies(trainData['nasogastric_reflux'])\n",
    "df = pd.DataFrame(dummy_var9)\n",
    "df = df.drop('no_issues',1,inplace=True)\n",
    "trainData = pd.concat([trainData , df],axis =1)\n",
    "trainData = trainData.drop('nasogastric_reflux',axis=1)\n",
    "\n",
    "#creating dummy variable for rectal_exam_feces\n",
    "dummy_var10 = pd.get_dummies(trainData['rectal_exam_feces'],drop_first=True)\n",
    "trainData = pd.concat([trainData ,dummy_var10 ],axis =1)\n",
    "trainData = trainData.drop('rectal_exam_feces',axis=1)\n",
    "\n",
    "#creating dummy variable for abdomen\n",
    "dummy_var11 = pd.get_dummies(trainData['abdomen'])\n",
    "df = pd.DataFrame(dummy_var11)\n",
    "df = df.drop('no_issues',1,inplace=True)\n",
    "trainData = pd.concat([trainData , df],axis =1)\n",
    "trainData = trainData.drop('abdomen',axis=1)\n",
    "\n",
    "#creating dummy variable for abdomo_appearance\n",
    "dummy_var12 = pd.get_dummies(trainData['abdomo_appearance'])\n",
    "df = pd.DataFrame(dummy_var12)\n",
    "df = df.drop('no_issues',1,inplace=True)\n",
    "trainData = pd.concat([trainData , df],axis =1)\n",
    "trainData = trainData.drop('abdomo_appearance',axis=1)\n",
    "\n",
    "trainData.head(5)"
   ]
  },
  {
   "cell_type": "markdown",
   "id": "d9256f89",
   "metadata": {},
   "source": [
    "#### creating dummy for testdata set"
   ]
  },
  {
   "cell_type": "code",
   "execution_count": null,
   "id": "180b6d40",
   "metadata": {},
   "outputs": [],
   "source": [
    "#creating dummy variable for temp_of_extremities\n",
    "dummy_var1 = pd.get_dummies(testData['temp_of_extremities'])\n",
    "df = pd.DataFrame(dummy_var1)\n",
    "df.drop('no_issues',1,inplace=True)\n",
    "testData = pd.concat([testData , df],axis =1)\n",
    "testData = testData.drop('temp_of_extremities',axis=1)\n",
    "\n",
    "#creating dummy variable for peripheral_pulse\n",
    "dummy_var2 = pd.get_dummies(testData['peripheral_pulse'])\n",
    "df = pd.DataFrame(dummy_var2)\n",
    "df.drop('absent',1,inplace=True)\n",
    "testData = pd.concat([testData , df],axis =1)\n",
    "testData = testData.drop('peripheral_pulse',axis=1)\n",
    "\n",
    "#creating dummy variable for mucous_membrane\n",
    "dummy_var3 = pd.get_dummies(testData['mucous_membrane'])\n",
    "df = pd.DataFrame(dummy_var3)\n",
    "df.drop('no_color',1,inplace=True)\n",
    "testData = pd.concat([testData , df],axis =1)\n",
    "testData = testData.drop('mucous_membrane',axis=1)\n",
    "\n",
    "#creating dummy variable for capillary_refill_time\n",
    "dummy_var4 = pd.get_dummies(testData['capillary_refill_time'])\n",
    "df = pd.DataFrame(dummy_var4)\n",
    "df.drop('None',1,inplace=True)\n",
    "testData = pd.concat([testData , df],axis =1)\n",
    "testData = testData.drop('capillary_refill_time',axis=1)\n",
    "\n",
    "#creating dummy variable for pain\n",
    "dummy_var5 = pd.get_dummies(testData['pain'])\n",
    "df = pd.DataFrame(dummy_var5)\n",
    "df.drop('no_pain',1,inplace=True)\n",
    "testData = pd.concat([testData , df],axis =1)\n",
    "testData = testData.drop('pain',axis=1)\n",
    "\n",
    "#creating dummy variable for peristalsis\n",
    "dummy_var6 = pd.get_dummies(testData['peristalsis'])\n",
    "df = pd.DataFrame(dummy_var6)\n",
    "df.drop('absent',1,inplace=True)\n",
    "testData = pd.concat([testData , df],axis =1)\n",
    "testData = testData.drop('peristalsis',axis=1)\n",
    "\n",
    "#creating dummy variable for abdominal_distention\n",
    "dummy_var7 = pd.get_dummies(testData['abdominal_distention'])\n",
    "df = pd.DataFrame(dummy_var7)\n",
    "df.drop('nothing',1,inplace=True)\n",
    "testData = pd.concat([testData , df],axis =1)\n",
    "testData = testData.drop('abdominal_distention',axis=1)\n",
    "\n",
    "#creating dummy variable for nasogastric_tube\n",
    "dummy_var8 = pd.get_dummies(testData['nasogastric_tube'])\n",
    "df = pd.DataFrame(dummy_var8)\n",
    "df = df.drop('no_issues',1,inplace=True)\n",
    "testData = pd.concat([testData , df],axis =1)\n",
    "testData = testData.drop('nasogastric_tube',axis=1)\n",
    "\n",
    "#creating dummy variable for nasogastric_reflux\n",
    "dummy_var9 = pd.get_dummies(testData['nasogastric_reflux'])\n",
    "df = pd.DataFrame(dummy_var9)\n",
    "df = df.drop('no_issues',1,inplace=True)\n",
    "testData = pd.concat([testData , df],axis =1)\n",
    "testData = testData.drop('nasogastric_reflux',axis=1)\n",
    "\n",
    "#creating dummy variable for rectal_exam_feces\n",
    "dummy_var10 = pd.get_dummies(testData['rectal_exam_feces'],drop_first=True)\n",
    "testData = pd.concat([testData ,dummy_var10 ],axis =1)\n",
    "testData = testData.drop('rectal_exam_feces',axis=1)\n",
    "\n",
    "#creating dummy variable for abdomen\n",
    "dummy_var11 = pd.get_dummies(testData['abdomen'])\n",
    "df = pd.DataFrame(dummy_var11)\n",
    "df = df.drop('no_issues',1,inplace=True)\n",
    "testData = pd.concat([testData , df],axis =1)\n",
    "testData = testData.drop('abdomen',axis=1)\n",
    "\n",
    "#creating dummy variable for abdomo_appearance\n",
    "dummy_var12 = pd.get_dummies(testData['abdomo_appearance'])\n",
    "df = pd.DataFrame(dummy_var12)\n",
    "df = df.drop('no_issues',1,inplace=True)\n",
    "testData = pd.concat([testData , df],axis =1)\n",
    "testData = testData.drop('abdomo_appearance',axis=1)\n",
    "\n",
    "testData.head(5)"
   ]
  },
  {
   "cell_type": "code",
   "execution_count": null,
   "id": "9927a374",
   "metadata": {},
   "outputs": [],
   "source": [
    "trainData.shape , testData.shape"
   ]
  },
  {
   "cell_type": "markdown",
   "id": "0d6c5a66",
   "metadata": {},
   "source": [
    "# Step 4 Creating X and Y on Traing Data Set and Scaling All Features"
   ]
  },
  {
   "cell_type": "code",
   "execution_count": null,
   "id": "f107ec8e",
   "metadata": {},
   "outputs": [],
   "source": [
    "X_train = trainData"
   ]
  },
  {
   "cell_type": "code",
   "execution_count": null,
   "id": "89e88934",
   "metadata": {},
   "outputs": [],
   "source": [
    "# Putting feature variable to X\n",
    "X = X_train.drop(['outcome','distend_small','slight','serosanguious'],axis=1)\n",
    "y = trainData['outcome']"
   ]
  },
  {
   "cell_type": "code",
   "execution_count": null,
   "id": "9002ecb6",
   "metadata": {},
   "outputs": [],
   "source": [
    "from sklearn.model_selection import train_test_split\n",
    "X_train, X_test, y_train, y_test = train_test_split(X, y, test_size=0.3, random_state=42)"
   ]
  },
  {
   "cell_type": "code",
   "execution_count": null,
   "id": "3d8c6f25",
   "metadata": {},
   "outputs": [],
   "source": [
    "X_train"
   ]
  },
  {
   "cell_type": "code",
   "execution_count": null,
   "id": "c9757ea3",
   "metadata": {},
   "outputs": [],
   "source": [
    "from sklearn.preprocessing import StandardScaler\n",
    "\n",
    "scaler = StandardScaler()\n",
    "\n",
    "# X_train[['rectal_temp','pulse','respiratory_rate','nasogastric_reflux_ph','packed_cell_volume','abdomo_protein']] = scaler.fit_transform(X_train[['rectal_temp','pulse','respiratory_rate','nasogastric_reflux_ph','packed_cell_volume','abdomo_protein']])\n",
    "# X_test[['rectal_temp','pulse','respiratory_rate','nasogastric_reflux_ph','packed_cell_volume','abdomo_protein']] = scaler.transform(X_test[['rectal_temp','pulse','respiratory_rate','nasogastric_reflux_ph','packed_cell_volume','abdomo_protein']])\n",
    "\n",
    "# X_train.head()\n",
    "\n",
    "X_train_scaled = scaler.fit_transform(X_train)\n",
    "# X_test_scaled = scaler.transform(X_test)\n"
   ]
  },
  {
   "cell_type": "markdown",
   "id": "536e3ace",
   "metadata": {},
   "source": [
    "# Step 7: Model Building\n",
    "#### Let's start by splitting our data into a training set and a test set.\n",
    "\n",
    "#### Running Your First Training Model"
   ]
  },
  {
   "cell_type": "code",
   "execution_count": null,
   "id": "059c5103",
   "metadata": {},
   "outputs": [],
   "source": [
    "from sklearn.linear_model import LogisticRegression\n",
    "from sklearn.multiclass import OneVsRestClassifier, OneVsOneClassifier\n",
    "from sklearn.svm import SVC\n",
    "from sklearn.metrics import accuracy_score, classification_report\n",
    "import statsmodels.api as sm\n",
    "from sklearn.tree import DecisionTreeClassifier\n",
    "import warnings"
   ]
  },
  {
   "cell_type": "code",
   "execution_count": null,
   "id": "6a61ba19",
   "metadata": {},
   "outputs": [],
   "source": [
    "lr = LogisticRegression()"
   ]
  },
  {
   "cell_type": "code",
   "execution_count": null,
   "id": "63552e6d",
   "metadata": {},
   "outputs": [],
   "source": [
    "lr.fit(X_train,y_train)"
   ]
  },
  {
   "cell_type": "code",
   "execution_count": null,
   "id": "2651ed03",
   "metadata": {},
   "outputs": [],
   "source": [
    "lr.predict(X_test)"
   ]
  },
  {
   "cell_type": "code",
   "execution_count": null,
   "id": "6a3bdcd7",
   "metadata": {},
   "outputs": [],
   "source": [
    "X_test"
   ]
  },
  {
   "cell_type": "code",
   "execution_count": null,
   "id": "dd80ca4c",
   "metadata": {},
   "outputs": [],
   "source": [
    "lr.score(X_test,y_test)"
   ]
  },
  {
   "cell_type": "code",
   "execution_count": null,
   "id": "cd3f9ada",
   "metadata": {},
   "outputs": [],
   "source": [
    "pred_outcome = lr.predict(X_test)\n",
    "pred_outcome"
   ]
  },
  {
   "cell_type": "code",
   "execution_count": null,
   "id": "b821ad90",
   "metadata": {},
   "outputs": [],
   "source": [
    "cm = confusion_matrix(y_test,pred_outcome)\n",
    "cm"
   ]
  },
  {
   "cell_type": "code",
   "execution_count": null,
   "id": "dfa86e8b",
   "metadata": {},
   "outputs": [],
   "source": [
    "metrics.accuracy_score(y_test,pred_outcome)"
   ]
  },
  {
   "cell_type": "code",
   "execution_count": null,
   "id": "a44a5d86",
   "metadata": {},
   "outputs": [],
   "source": [
    "test_data = testData"
   ]
  },
  {
   "cell_type": "code",
   "execution_count": null,
   "id": "34d0b65e",
   "metadata": {},
   "outputs": [],
   "source": [
    "test_data = test_data.drop('moderate',1)"
   ]
  },
  {
   "cell_type": "code",
   "execution_count": null,
   "id": "f7100f1e",
   "metadata": {},
   "outputs": [],
   "source": [
    "f = lr.predict(test_data)"
   ]
  },
  {
   "cell_type": "code",
   "execution_count": null,
   "id": "010de5ed",
   "metadata": {},
   "outputs": [],
   "source": [
    "metrics.accuracy_score(f)"
   ]
  },
  {
   "cell_type": "code",
   "execution_count": null,
   "id": "c81aa6e8",
   "metadata": {},
   "outputs": [],
   "source": []
  }
 ],
 "metadata": {
  "kernelspec": {
   "display_name": "Python 3 (ipykernel)",
   "language": "python",
   "name": "python3"
  },
  "language_info": {
   "codemirror_mode": {
    "name": "ipython",
    "version": 3
   },
   "file_extension": ".py",
   "mimetype": "text/x-python",
   "name": "python",
   "nbconvert_exporter": "python",
   "pygments_lexer": "ipython3",
   "version": "3.10.9"
  }
 },
 "nbformat": 4,
 "nbformat_minor": 5
}
