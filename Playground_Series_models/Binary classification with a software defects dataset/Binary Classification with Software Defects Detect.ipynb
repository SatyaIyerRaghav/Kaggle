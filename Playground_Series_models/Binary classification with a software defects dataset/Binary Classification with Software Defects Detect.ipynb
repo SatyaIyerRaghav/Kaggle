{
 "cells": [
  {
   "cell_type": "markdown",
   "id": "f0274617",
   "metadata": {},
   "source": [
    "# Binary Classification with Software Defects Detect"
   ]
  },
  {
   "cell_type": "markdown",
   "id": "cd5a662d",
   "metadata": {},
   "source": [
    "#### Using Logistic Binary Regression Method"
   ]
  },
  {
   "cell_type": "code",
   "execution_count": 21,
   "id": "df15749f",
   "metadata": {},
   "outputs": [],
   "source": [
    "# import libraries\n",
    "import pandas as pd\n",
    "import numpy as np\n",
    "import matplotlib.pyplot as plt\n",
    "import seaborn as sns\n",
    "import warnings\n",
    "warnings.filterwarnings('ignore')\n",
    "\n",
    "from sklearn.preprocessing import StandardScaler\n",
    "\n",
    "from sklearn.model_selection import train_test_split\n",
    "from sklearn.preprocessing import StandardScaler\n",
    "import statsmodels.api as sm\n",
    "\n",
    "from sklearn.linear_model import LogisticRegression\n",
    "from sklearn.feature_selection import RFE\n",
    "\n",
    "# Check for the VIF values of the feature variables. \n",
    "from statsmodels.stats.outliers_influence import variance_inflation_factor\n",
    "\n",
    "from sklearn.metrics import confusion_matrix\n",
    "from sklearn.metrics import precision_recall_curve\n",
    "\n",
    "from sklearn.metrics import precision_score, recall_score"
   ]
  },
  {
   "cell_type": "code",
   "execution_count": 84,
   "id": "9e87cd91",
   "metadata": {},
   "outputs": [
    {
     "data": {
      "text/html": [
       "<div>\n",
       "<style scoped>\n",
       "    .dataframe tbody tr th:only-of-type {\n",
       "        vertical-align: middle;\n",
       "    }\n",
       "\n",
       "    .dataframe tbody tr th {\n",
       "        vertical-align: top;\n",
       "    }\n",
       "\n",
       "    .dataframe thead th {\n",
       "        text-align: right;\n",
       "    }\n",
       "</style>\n",
       "<table border=\"1\" class=\"dataframe\">\n",
       "  <thead>\n",
       "    <tr style=\"text-align: right;\">\n",
       "      <th></th>\n",
       "      <th>id</th>\n",
       "      <th>loc</th>\n",
       "      <th>v(g)</th>\n",
       "      <th>ev(g)</th>\n",
       "      <th>iv(g)</th>\n",
       "      <th>n</th>\n",
       "      <th>v</th>\n",
       "      <th>l</th>\n",
       "      <th>d</th>\n",
       "      <th>i</th>\n",
       "      <th>...</th>\n",
       "      <th>lOCode</th>\n",
       "      <th>lOComment</th>\n",
       "      <th>lOBlank</th>\n",
       "      <th>locCodeAndComment</th>\n",
       "      <th>uniq_Op</th>\n",
       "      <th>uniq_Opnd</th>\n",
       "      <th>total_Op</th>\n",
       "      <th>total_Opnd</th>\n",
       "      <th>branchCount</th>\n",
       "      <th>defects</th>\n",
       "    </tr>\n",
       "  </thead>\n",
       "  <tbody>\n",
       "    <tr>\n",
       "      <th>0</th>\n",
       "      <td>0</td>\n",
       "      <td>22.0</td>\n",
       "      <td>3.0</td>\n",
       "      <td>1.0</td>\n",
       "      <td>2.0</td>\n",
       "      <td>60.0</td>\n",
       "      <td>278.63</td>\n",
       "      <td>0.06</td>\n",
       "      <td>19.56</td>\n",
       "      <td>14.25</td>\n",
       "      <td>...</td>\n",
       "      <td>17</td>\n",
       "      <td>1</td>\n",
       "      <td>1</td>\n",
       "      <td>0</td>\n",
       "      <td>16.0</td>\n",
       "      <td>9.0</td>\n",
       "      <td>38.0</td>\n",
       "      <td>22.0</td>\n",
       "      <td>5.0</td>\n",
       "      <td>False</td>\n",
       "    </tr>\n",
       "    <tr>\n",
       "      <th>1</th>\n",
       "      <td>1</td>\n",
       "      <td>14.0</td>\n",
       "      <td>2.0</td>\n",
       "      <td>1.0</td>\n",
       "      <td>2.0</td>\n",
       "      <td>32.0</td>\n",
       "      <td>151.27</td>\n",
       "      <td>0.14</td>\n",
       "      <td>7.00</td>\n",
       "      <td>21.11</td>\n",
       "      <td>...</td>\n",
       "      <td>11</td>\n",
       "      <td>0</td>\n",
       "      <td>1</td>\n",
       "      <td>0</td>\n",
       "      <td>11.0</td>\n",
       "      <td>11.0</td>\n",
       "      <td>18.0</td>\n",
       "      <td>14.0</td>\n",
       "      <td>3.0</td>\n",
       "      <td>False</td>\n",
       "    </tr>\n",
       "    <tr>\n",
       "      <th>2</th>\n",
       "      <td>2</td>\n",
       "      <td>11.0</td>\n",
       "      <td>2.0</td>\n",
       "      <td>1.0</td>\n",
       "      <td>2.0</td>\n",
       "      <td>45.0</td>\n",
       "      <td>197.65</td>\n",
       "      <td>0.11</td>\n",
       "      <td>8.05</td>\n",
       "      <td>22.76</td>\n",
       "      <td>...</td>\n",
       "      <td>8</td>\n",
       "      <td>0</td>\n",
       "      <td>1</td>\n",
       "      <td>0</td>\n",
       "      <td>12.0</td>\n",
       "      <td>11.0</td>\n",
       "      <td>28.0</td>\n",
       "      <td>17.0</td>\n",
       "      <td>3.0</td>\n",
       "      <td>False</td>\n",
       "    </tr>\n",
       "    <tr>\n",
       "      <th>3</th>\n",
       "      <td>3</td>\n",
       "      <td>8.0</td>\n",
       "      <td>1.0</td>\n",
       "      <td>1.0</td>\n",
       "      <td>1.0</td>\n",
       "      <td>23.0</td>\n",
       "      <td>94.01</td>\n",
       "      <td>0.19</td>\n",
       "      <td>5.25</td>\n",
       "      <td>17.86</td>\n",
       "      <td>...</td>\n",
       "      <td>4</td>\n",
       "      <td>0</td>\n",
       "      <td>2</td>\n",
       "      <td>0</td>\n",
       "      <td>8.0</td>\n",
       "      <td>6.0</td>\n",
       "      <td>16.0</td>\n",
       "      <td>7.0</td>\n",
       "      <td>1.0</td>\n",
       "      <td>True</td>\n",
       "    </tr>\n",
       "    <tr>\n",
       "      <th>4</th>\n",
       "      <td>4</td>\n",
       "      <td>11.0</td>\n",
       "      <td>2.0</td>\n",
       "      <td>1.0</td>\n",
       "      <td>2.0</td>\n",
       "      <td>17.0</td>\n",
       "      <td>60.94</td>\n",
       "      <td>0.18</td>\n",
       "      <td>5.63</td>\n",
       "      <td>12.44</td>\n",
       "      <td>...</td>\n",
       "      <td>7</td>\n",
       "      <td>0</td>\n",
       "      <td>2</td>\n",
       "      <td>0</td>\n",
       "      <td>7.0</td>\n",
       "      <td>6.0</td>\n",
       "      <td>10.0</td>\n",
       "      <td>10.0</td>\n",
       "      <td>3.0</td>\n",
       "      <td>False</td>\n",
       "    </tr>\n",
       "  </tbody>\n",
       "</table>\n",
       "<p>5 rows × 23 columns</p>\n",
       "</div>"
      ],
      "text/plain": [
       "   id   loc  v(g)  ev(g)  iv(g)     n       v     l      d      i  ...  \\\n",
       "0   0  22.0   3.0    1.0    2.0  60.0  278.63  0.06  19.56  14.25  ...   \n",
       "1   1  14.0   2.0    1.0    2.0  32.0  151.27  0.14   7.00  21.11  ...   \n",
       "2   2  11.0   2.0    1.0    2.0  45.0  197.65  0.11   8.05  22.76  ...   \n",
       "3   3   8.0   1.0    1.0    1.0  23.0   94.01  0.19   5.25  17.86  ...   \n",
       "4   4  11.0   2.0    1.0    2.0  17.0   60.94  0.18   5.63  12.44  ...   \n",
       "\n",
       "   lOCode  lOComment  lOBlank  locCodeAndComment  uniq_Op  uniq_Opnd  \\\n",
       "0      17          1        1                  0     16.0        9.0   \n",
       "1      11          0        1                  0     11.0       11.0   \n",
       "2       8          0        1                  0     12.0       11.0   \n",
       "3       4          0        2                  0      8.0        6.0   \n",
       "4       7          0        2                  0      7.0        6.0   \n",
       "\n",
       "   total_Op  total_Opnd  branchCount  defects  \n",
       "0      38.0        22.0          5.0    False  \n",
       "1      18.0        14.0          3.0    False  \n",
       "2      28.0        17.0          3.0    False  \n",
       "3      16.0         7.0          1.0     True  \n",
       "4      10.0        10.0          3.0    False  \n",
       "\n",
       "[5 rows x 23 columns]"
      ]
     },
     "execution_count": 84,
     "metadata": {},
     "output_type": "execute_result"
    }
   ],
   "source": [
    "trainData = pd.read_csv('BinaryClassification_train.csv')\n",
    "trainData.head(5)"
   ]
  },
  {
   "cell_type": "code",
   "execution_count": 85,
   "id": "8571423a",
   "metadata": {},
   "outputs": [
    {
     "data": {
      "text/html": [
       "<div>\n",
       "<style scoped>\n",
       "    .dataframe tbody tr th:only-of-type {\n",
       "        vertical-align: middle;\n",
       "    }\n",
       "\n",
       "    .dataframe tbody tr th {\n",
       "        vertical-align: top;\n",
       "    }\n",
       "\n",
       "    .dataframe thead th {\n",
       "        text-align: right;\n",
       "    }\n",
       "</style>\n",
       "<table border=\"1\" class=\"dataframe\">\n",
       "  <thead>\n",
       "    <tr style=\"text-align: right;\">\n",
       "      <th></th>\n",
       "      <th>id</th>\n",
       "      <th>loc</th>\n",
       "      <th>v(g)</th>\n",
       "      <th>ev(g)</th>\n",
       "      <th>iv(g)</th>\n",
       "      <th>n</th>\n",
       "      <th>v</th>\n",
       "      <th>l</th>\n",
       "      <th>d</th>\n",
       "      <th>i</th>\n",
       "      <th>...</th>\n",
       "      <th>t</th>\n",
       "      <th>lOCode</th>\n",
       "      <th>lOComment</th>\n",
       "      <th>lOBlank</th>\n",
       "      <th>locCodeAndComment</th>\n",
       "      <th>uniq_Op</th>\n",
       "      <th>uniq_Opnd</th>\n",
       "      <th>total_Op</th>\n",
       "      <th>total_Opnd</th>\n",
       "      <th>branchCount</th>\n",
       "    </tr>\n",
       "  </thead>\n",
       "  <tbody>\n",
       "    <tr>\n",
       "      <th>0</th>\n",
       "      <td>101763</td>\n",
       "      <td>33.0</td>\n",
       "      <td>5.0</td>\n",
       "      <td>1.0</td>\n",
       "      <td>4.0</td>\n",
       "      <td>144.0</td>\n",
       "      <td>824.82</td>\n",
       "      <td>0.04</td>\n",
       "      <td>26.96</td>\n",
       "      <td>30.05</td>\n",
       "      <td>...</td>\n",
       "      <td>1257.60</td>\n",
       "      <td>30</td>\n",
       "      <td>0</td>\n",
       "      <td>3</td>\n",
       "      <td>0</td>\n",
       "      <td>21.0</td>\n",
       "      <td>23.0</td>\n",
       "      <td>87.0</td>\n",
       "      <td>57.0</td>\n",
       "      <td>9.0</td>\n",
       "    </tr>\n",
       "    <tr>\n",
       "      <th>1</th>\n",
       "      <td>101764</td>\n",
       "      <td>27.0</td>\n",
       "      <td>8.0</td>\n",
       "      <td>8.0</td>\n",
       "      <td>2.0</td>\n",
       "      <td>125.0</td>\n",
       "      <td>646.24</td>\n",
       "      <td>0.04</td>\n",
       "      <td>22.82</td>\n",
       "      <td>27.22</td>\n",
       "      <td>...</td>\n",
       "      <td>804.58</td>\n",
       "      <td>23</td>\n",
       "      <td>0</td>\n",
       "      <td>2</td>\n",
       "      <td>0</td>\n",
       "      <td>18.0</td>\n",
       "      <td>19.0</td>\n",
       "      <td>70.0</td>\n",
       "      <td>49.0</td>\n",
       "      <td>15.0</td>\n",
       "    </tr>\n",
       "    <tr>\n",
       "      <th>2</th>\n",
       "      <td>101765</td>\n",
       "      <td>130.0</td>\n",
       "      <td>11.0</td>\n",
       "      <td>7.0</td>\n",
       "      <td>10.0</td>\n",
       "      <td>545.0</td>\n",
       "      <td>3831.40</td>\n",
       "      <td>0.02</td>\n",
       "      <td>48.15</td>\n",
       "      <td>66.17</td>\n",
       "      <td>...</td>\n",
       "      <td>6453.34</td>\n",
       "      <td>99</td>\n",
       "      <td>9</td>\n",
       "      <td>17</td>\n",
       "      <td>1</td>\n",
       "      <td>26.0</td>\n",
       "      <td>53.0</td>\n",
       "      <td>333.0</td>\n",
       "      <td>244.0</td>\n",
       "      <td>21.0</td>\n",
       "    </tr>\n",
       "    <tr>\n",
       "      <th>3</th>\n",
       "      <td>101766</td>\n",
       "      <td>65.0</td>\n",
       "      <td>7.0</td>\n",
       "      <td>1.0</td>\n",
       "      <td>7.0</td>\n",
       "      <td>156.0</td>\n",
       "      <td>855.71</td>\n",
       "      <td>0.06</td>\n",
       "      <td>17.23</td>\n",
       "      <td>49.89</td>\n",
       "      <td>...</td>\n",
       "      <td>896.42</td>\n",
       "      <td>45</td>\n",
       "      <td>8</td>\n",
       "      <td>10</td>\n",
       "      <td>0</td>\n",
       "      <td>15.0</td>\n",
       "      <td>26.0</td>\n",
       "      <td>88.0</td>\n",
       "      <td>60.0</td>\n",
       "      <td>13.0</td>\n",
       "    </tr>\n",
       "    <tr>\n",
       "      <th>4</th>\n",
       "      <td>101767</td>\n",
       "      <td>22.0</td>\n",
       "      <td>3.0</td>\n",
       "      <td>1.0</td>\n",
       "      <td>3.0</td>\n",
       "      <td>52.0</td>\n",
       "      <td>238.42</td>\n",
       "      <td>0.10</td>\n",
       "      <td>9.60</td>\n",
       "      <td>26.70</td>\n",
       "      <td>...</td>\n",
       "      <td>145.80</td>\n",
       "      <td>16</td>\n",
       "      <td>0</td>\n",
       "      <td>4</td>\n",
       "      <td>0</td>\n",
       "      <td>12.0</td>\n",
       "      <td>15.0</td>\n",
       "      <td>30.0</td>\n",
       "      <td>24.0</td>\n",
       "      <td>5.0</td>\n",
       "    </tr>\n",
       "  </tbody>\n",
       "</table>\n",
       "<p>5 rows × 22 columns</p>\n",
       "</div>"
      ],
      "text/plain": [
       "       id    loc  v(g)  ev(g)  iv(g)      n        v     l      d      i  ...  \\\n",
       "0  101763   33.0   5.0    1.0    4.0  144.0   824.82  0.04  26.96  30.05  ...   \n",
       "1  101764   27.0   8.0    8.0    2.0  125.0   646.24  0.04  22.82  27.22  ...   \n",
       "2  101765  130.0  11.0    7.0   10.0  545.0  3831.40  0.02  48.15  66.17  ...   \n",
       "3  101766   65.0   7.0    1.0    7.0  156.0   855.71  0.06  17.23  49.89  ...   \n",
       "4  101767   22.0   3.0    1.0    3.0   52.0   238.42  0.10   9.60  26.70  ...   \n",
       "\n",
       "         t  lOCode  lOComment  lOBlank  locCodeAndComment  uniq_Op  uniq_Opnd  \\\n",
       "0  1257.60      30          0        3                  0     21.0       23.0   \n",
       "1   804.58      23          0        2                  0     18.0       19.0   \n",
       "2  6453.34      99          9       17                  1     26.0       53.0   \n",
       "3   896.42      45          8       10                  0     15.0       26.0   \n",
       "4   145.80      16          0        4                  0     12.0       15.0   \n",
       "\n",
       "   total_Op  total_Opnd  branchCount  \n",
       "0      87.0        57.0          9.0  \n",
       "1      70.0        49.0         15.0  \n",
       "2     333.0       244.0         21.0  \n",
       "3      88.0        60.0         13.0  \n",
       "4      30.0        24.0          5.0  \n",
       "\n",
       "[5 rows x 22 columns]"
      ]
     },
     "execution_count": 85,
     "metadata": {},
     "output_type": "execute_result"
    }
   ],
   "source": [
    "testData = pd.read_csv('BinaryClassification_test.csv')\n",
    "testData.head(5)"
   ]
  },
  {
   "cell_type": "code",
   "execution_count": 24,
   "id": "5d894c10",
   "metadata": {},
   "outputs": [
    {
     "data": {
      "text/plain": [
       "((101763, 23), (67842, 22))"
      ]
     },
     "execution_count": 24,
     "metadata": {},
     "output_type": "execute_result"
    }
   ],
   "source": [
    "trainData.shape,testData.shape"
   ]
  },
  {
   "cell_type": "code",
   "execution_count": 25,
   "id": "36097ca0",
   "metadata": {},
   "outputs": [
    {
     "name": "stdout",
     "output_type": "stream",
     "text": [
      "<class 'pandas.core.frame.DataFrame'>\n",
      "RangeIndex: 101763 entries, 0 to 101762\n",
      "Data columns (total 23 columns):\n",
      " #   Column             Non-Null Count   Dtype  \n",
      "---  ------             --------------   -----  \n",
      " 0   id                 101763 non-null  int64  \n",
      " 1   loc                101763 non-null  float64\n",
      " 2   v(g)               101763 non-null  float64\n",
      " 3   ev(g)              101763 non-null  float64\n",
      " 4   iv(g)              101763 non-null  float64\n",
      " 5   n                  101763 non-null  float64\n",
      " 6   v                  101763 non-null  float64\n",
      " 7   l                  101763 non-null  float64\n",
      " 8   d                  101763 non-null  float64\n",
      " 9   i                  101763 non-null  float64\n",
      " 10  e                  101763 non-null  float64\n",
      " 11  b                  101763 non-null  float64\n",
      " 12  t                  101763 non-null  float64\n",
      " 13  lOCode             101763 non-null  int64  \n",
      " 14  lOComment          101763 non-null  int64  \n",
      " 15  lOBlank            101763 non-null  int64  \n",
      " 16  locCodeAndComment  101763 non-null  int64  \n",
      " 17  uniq_Op            101763 non-null  float64\n",
      " 18  uniq_Opnd          101763 non-null  float64\n",
      " 19  total_Op           101763 non-null  float64\n",
      " 20  total_Opnd         101763 non-null  float64\n",
      " 21  branchCount        101763 non-null  float64\n",
      " 22  defects            101763 non-null  bool   \n",
      "dtypes: bool(1), float64(17), int64(5)\n",
      "memory usage: 17.2 MB\n"
     ]
    }
   ],
   "source": [
    "trainData.info()"
   ]
  },
  {
   "cell_type": "code",
   "execution_count": 26,
   "id": "3c851860",
   "metadata": {},
   "outputs": [
    {
     "name": "stdout",
     "output_type": "stream",
     "text": [
      "<class 'pandas.core.frame.DataFrame'>\n",
      "RangeIndex: 67842 entries, 0 to 67841\n",
      "Data columns (total 22 columns):\n",
      " #   Column             Non-Null Count  Dtype  \n",
      "---  ------             --------------  -----  \n",
      " 0   id                 67842 non-null  int64  \n",
      " 1   loc                67842 non-null  float64\n",
      " 2   v(g)               67842 non-null  float64\n",
      " 3   ev(g)              67842 non-null  float64\n",
      " 4   iv(g)              67842 non-null  float64\n",
      " 5   n                  67842 non-null  float64\n",
      " 6   v                  67842 non-null  float64\n",
      " 7   l                  67842 non-null  float64\n",
      " 8   d                  67842 non-null  float64\n",
      " 9   i                  67842 non-null  float64\n",
      " 10  e                  67842 non-null  float64\n",
      " 11  b                  67842 non-null  float64\n",
      " 12  t                  67842 non-null  float64\n",
      " 13  lOCode             67842 non-null  int64  \n",
      " 14  lOComment          67842 non-null  int64  \n",
      " 15  lOBlank            67842 non-null  int64  \n",
      " 16  locCodeAndComment  67842 non-null  int64  \n",
      " 17  uniq_Op            67842 non-null  float64\n",
      " 18  uniq_Opnd          67842 non-null  float64\n",
      " 19  total_Op           67842 non-null  float64\n",
      " 20  total_Opnd         67842 non-null  float64\n",
      " 21  branchCount        67842 non-null  float64\n",
      "dtypes: float64(17), int64(5)\n",
      "memory usage: 11.4 MB\n"
     ]
    }
   ],
   "source": [
    "testData.info()"
   ]
  },
  {
   "cell_type": "markdown",
   "id": "9039f5c0",
   "metadata": {},
   "source": [
    "# Step2 Data Cleaning"
   ]
  },
  {
   "cell_type": "code",
   "execution_count": 27,
   "id": "58645c0c",
   "metadata": {},
   "outputs": [
    {
     "data": {
      "text/plain": [
       "id                   0\n",
       "loc                  0\n",
       "v(g)                 0\n",
       "ev(g)                0\n",
       "iv(g)                0\n",
       "n                    0\n",
       "v                    0\n",
       "l                    0\n",
       "d                    0\n",
       "i                    0\n",
       "e                    0\n",
       "b                    0\n",
       "t                    0\n",
       "lOCode               0\n",
       "lOComment            0\n",
       "lOBlank              0\n",
       "locCodeAndComment    0\n",
       "uniq_Op              0\n",
       "uniq_Opnd            0\n",
       "total_Op             0\n",
       "total_Opnd           0\n",
       "branchCount          0\n",
       "defects              0\n",
       "dtype: int64"
      ]
     },
     "execution_count": 27,
     "metadata": {},
     "output_type": "execute_result"
    }
   ],
   "source": [
    "trainData.isnull().sum()"
   ]
  },
  {
   "cell_type": "markdown",
   "id": "c0af0a41",
   "metadata": {},
   "source": [
    "#### no missing or null values present in data ."
   ]
  },
  {
   "cell_type": "code",
   "execution_count": 28,
   "id": "4264abca",
   "metadata": {},
   "outputs": [],
   "source": [
    "# trainData['defects'] = trainData['defects'].map({'True':'1','False':'0'})"
   ]
  },
  {
   "cell_type": "markdown",
   "id": "07e4eef9",
   "metadata": {},
   "source": [
    "# Step 3 : Train and Test Splitting the model"
   ]
  },
  {
   "cell_type": "markdown",
   "id": "82ff85cb",
   "metadata": {},
   "source": [
    "## Without Treating Class Imbalance"
   ]
  },
  {
   "cell_type": "code",
   "execution_count": 29,
   "id": "ddc6d67e",
   "metadata": {},
   "outputs": [],
   "source": [
    "X_train = trainData.drop(['id','defects'],axis =1)"
   ]
  },
  {
   "cell_type": "code",
   "execution_count": 30,
   "id": "d9cb96b0",
   "metadata": {},
   "outputs": [],
   "source": [
    "y_train = trainData['defects']"
   ]
  },
  {
   "cell_type": "code",
   "execution_count": 31,
   "id": "b7e18ddf",
   "metadata": {},
   "outputs": [],
   "source": [
    "# from sklearn.model_selection import train_test_split"
   ]
  },
  {
   "cell_type": "code",
   "execution_count": 32,
   "id": "8310a5f8",
   "metadata": {},
   "outputs": [],
   "source": [
    "# X_train ,X_test,y_train,y_test= train_test_split(X,y,test_size=0.3,random_state = 42)"
   ]
  },
  {
   "cell_type": "code",
   "execution_count": 33,
   "id": "fc0cb7ce",
   "metadata": {},
   "outputs": [
    {
     "data": {
      "text/plain": [
       "((101763, 21), (101763,))"
      ]
     },
     "execution_count": 33,
     "metadata": {},
     "output_type": "execute_result"
    }
   ],
   "source": [
    "X_train.shape , y_train.shape"
   ]
  },
  {
   "cell_type": "code",
   "execution_count": 34,
   "id": "caa27182",
   "metadata": {},
   "outputs": [],
   "source": [
    "X_test= testData.drop(['id'],axis =1)"
   ]
  },
  {
   "cell_type": "code",
   "execution_count": 35,
   "id": "541e6f5d",
   "metadata": {},
   "outputs": [],
   "source": [
    "y_test=testData"
   ]
  },
  {
   "cell_type": "markdown",
   "id": "b1d7c698",
   "metadata": {},
   "source": [
    "### Scaling Features"
   ]
  },
  {
   "cell_type": "code",
   "execution_count": 36,
   "id": "612c73c7",
   "metadata": {},
   "outputs": [],
   "source": [
    "scaler = StandardScaler()\n",
    "X_train_scaled = scaler.fit_transform(X_train)\n",
    "X_test_scaled = scaler.transform(X_test)"
   ]
  },
  {
   "cell_type": "code",
   "execution_count": 37,
   "id": "b13ba715",
   "metadata": {},
   "outputs": [
    {
     "data": {
      "text/plain": [
       "array([[-0.28108282, -0.31549702, -0.39838633, ..., -0.18776212,\n",
       "        -0.24060855, -0.33578367],\n",
       "       [-0.42760261, -0.44206622, -0.39838633, ..., -0.37908167,\n",
       "        -0.35219708, -0.47455019],\n",
       "       [-0.48254753, -0.44206622, -0.39838633, ..., -0.2834219 ,\n",
       "        -0.31035138, -0.47455019],\n",
       "       ...,\n",
       "       [-0.20782293, -0.56863542, -0.39838633, ..., -0.06340441,\n",
       "        -0.15691715, -0.61331671],\n",
       "       [-0.50086251, -0.44206622, -0.39838633, ..., -0.32168581,\n",
       "        -0.28245425, -0.47455019],\n",
       "       [ 1.80682418,  1.583041  ,  3.27233773, ...,  0.9984191 ,\n",
       "         1.33557943,  1.74571413]])"
      ]
     },
     "execution_count": 37,
     "metadata": {},
     "output_type": "execute_result"
    }
   ],
   "source": [
    "X_train_scaled"
   ]
  },
  {
   "cell_type": "code",
   "execution_count": 38,
   "id": "1276f053",
   "metadata": {},
   "outputs": [
    {
     "data": {
      "text/plain": [
       "array([[-0.07961811, -0.06235862, -0.39838633, ...,  0.28097078,\n",
       "         0.24759126, -0.05825063],\n",
       "       [-0.18950796,  0.31734899,  1.11308828, ...,  0.11834916,\n",
       "         0.13600274,  0.35804893],\n",
       "       [ 1.69693433,  0.69705659,  0.89716334, ...,  2.63420126,\n",
       "         2.85597314,  0.77434849],\n",
       "       ...,\n",
       "       [-0.24445288, -0.44206622, -0.39838633, ..., -0.20689408,\n",
       "        -0.29640282, -0.47455019],\n",
       "       [-0.35434272, -0.44206622, -0.39838633, ..., -0.27385592,\n",
       "        -0.24060855, -0.47455019],\n",
       "       [ 1.1658001 ,  1.20333339,  1.54493817, ..., -0.55126927,\n",
       "        -0.54747701,  1.32941457]])"
      ]
     },
     "execution_count": 38,
     "metadata": {},
     "output_type": "execute_result"
    }
   ],
   "source": [
    "X_test_scaled"
   ]
  },
  {
   "cell_type": "markdown",
   "id": "04dcd66e",
   "metadata": {},
   "source": [
    "# Step 4 Model Building"
   ]
  },
  {
   "cell_type": "code",
   "execution_count": 39,
   "id": "5c22d08a",
   "metadata": {},
   "outputs": [],
   "source": [
    "lr = LogisticRegression()"
   ]
  },
  {
   "cell_type": "code",
   "execution_count": 40,
   "id": "7fa01b59",
   "metadata": {},
   "outputs": [
    {
     "data": {
      "text/html": [
       "<table class=\"simpletable\">\n",
       "<caption>Generalized Linear Model Regression Results</caption>\n",
       "<tr>\n",
       "  <th>Dep. Variable:</th>        <td>defects</td>     <th>  No. Observations:  </th>  <td>101763</td> \n",
       "</tr>\n",
       "<tr>\n",
       "  <th>Model:</th>                  <td>GLM</td>       <th>  Df Residuals:      </th>  <td>101741</td> \n",
       "</tr>\n",
       "<tr>\n",
       "  <th>Model Family:</th>        <td>Binomial</td>     <th>  Df Model:          </th>  <td>    21</td> \n",
       "</tr>\n",
       "<tr>\n",
       "  <th>Link Function:</th>         <td>Logit</td>      <th>  Scale:             </th> <td>  1.0000</td>\n",
       "</tr>\n",
       "<tr>\n",
       "  <th>Method:</th>                <td>IRLS</td>       <th>  Log-Likelihood:    </th> <td> -45693.</td>\n",
       "</tr>\n",
       "<tr>\n",
       "  <th>Date:</th>            <td>Sun, 15 Oct 2023</td> <th>  Deviance:          </th> <td>  91385.</td>\n",
       "</tr>\n",
       "<tr>\n",
       "  <th>Time:</th>                <td>19:21:07</td>     <th>  Pearson chi2:      </th> <td>3.96e+11</td>\n",
       "</tr>\n",
       "<tr>\n",
       "  <th>No. Iterations:</th>          <td>9</td>        <th>  Pseudo R-squ. (CS):</th>  <td>0.1583</td> \n",
       "</tr>\n",
       "<tr>\n",
       "  <th>Covariance Type:</th>     <td>nonrobust</td>    <th>                     </th>     <td> </td>   \n",
       "</tr>\n",
       "</table>\n",
       "<table class=\"simpletable\">\n",
       "<tr>\n",
       "          <td></td>             <th>coef</th>     <th>std err</th>      <th>z</th>      <th>P>|z|</th>  <th>[0.025</th>    <th>0.975]</th>  \n",
       "</tr>\n",
       "<tr>\n",
       "  <th>const</th>             <td>   -2.4189</td> <td>    0.041</td> <td>  -59.218</td> <td> 0.000</td> <td>   -2.499</td> <td>   -2.339</td>\n",
       "</tr>\n",
       "<tr>\n",
       "  <th>loc</th>               <td>    0.0248</td> <td>    0.001</td> <td>   39.077</td> <td> 0.000</td> <td>    0.024</td> <td>    0.026</td>\n",
       "</tr>\n",
       "<tr>\n",
       "  <th>v(g)</th>              <td>   -0.0371</td> <td>    0.012</td> <td>   -3.146</td> <td> 0.002</td> <td>   -0.060</td> <td>   -0.014</td>\n",
       "</tr>\n",
       "<tr>\n",
       "  <th>ev(g)</th>             <td>   -0.0084</td> <td>    0.003</td> <td>   -2.615</td> <td> 0.009</td> <td>   -0.015</td> <td>   -0.002</td>\n",
       "</tr>\n",
       "<tr>\n",
       "  <th>iv(g)</th>             <td>    0.0087</td> <td>    0.004</td> <td>    2.258</td> <td> 0.024</td> <td>    0.001</td> <td>    0.016</td>\n",
       "</tr>\n",
       "<tr>\n",
       "  <th>n</th>                 <td> 9.459e-05</td> <td>    0.000</td> <td>    0.303</td> <td> 0.762</td> <td>   -0.001</td> <td>    0.001</td>\n",
       "</tr>\n",
       "<tr>\n",
       "  <th>v</th>                 <td>   -0.0001</td> <td> 4.39e-05</td> <td>   -3.380</td> <td> 0.001</td> <td>   -0.000</td> <td>-6.23e-05</td>\n",
       "</tr>\n",
       "<tr>\n",
       "  <th>l</th>                 <td>   -2.3832</td> <td>    0.158</td> <td>  -15.071</td> <td> 0.000</td> <td>   -2.693</td> <td>   -2.073</td>\n",
       "</tr>\n",
       "<tr>\n",
       "  <th>d</th>                 <td>    0.0113</td> <td>    0.002</td> <td>    6.903</td> <td> 0.000</td> <td>    0.008</td> <td>    0.014</td>\n",
       "</tr>\n",
       "<tr>\n",
       "  <th>i</th>                 <td>    0.0067</td> <td>    0.001</td> <td>    6.913</td> <td> 0.000</td> <td>    0.005</td> <td>    0.009</td>\n",
       "</tr>\n",
       "<tr>\n",
       "  <th>e</th>                 <td>-1.331e-07</td> <td> 9.45e-08</td> <td>   -1.408</td> <td> 0.159</td> <td>-3.18e-07</td> <td> 5.22e-08</td>\n",
       "</tr>\n",
       "<tr>\n",
       "  <th>b</th>                 <td>   -0.2271</td> <td>    0.084</td> <td>   -2.708</td> <td> 0.007</td> <td>   -0.392</td> <td>   -0.063</td>\n",
       "</tr>\n",
       "<tr>\n",
       "  <th>t</th>                 <td>-1.146e-05</td> <td> 2.26e-06</td> <td>   -5.063</td> <td> 0.000</td> <td>-1.59e-05</td> <td>-7.03e-06</td>\n",
       "</tr>\n",
       "<tr>\n",
       "  <th>lOCode</th>            <td>   -0.0179</td> <td>    0.001</td> <td>  -16.753</td> <td> 0.000</td> <td>   -0.020</td> <td>   -0.016</td>\n",
       "</tr>\n",
       "<tr>\n",
       "  <th>lOComment</th>         <td>   -0.0062</td> <td>    0.002</td> <td>   -3.207</td> <td> 0.001</td> <td>   -0.010</td> <td>   -0.002</td>\n",
       "</tr>\n",
       "<tr>\n",
       "  <th>lOBlank</th>           <td>    0.0145</td> <td>    0.003</td> <td>    5.520</td> <td> 0.000</td> <td>    0.009</td> <td>    0.020</td>\n",
       "</tr>\n",
       "<tr>\n",
       "  <th>locCodeAndComment</th> <td>    0.0420</td> <td>    0.008</td> <td>    5.122</td> <td> 0.000</td> <td>    0.026</td> <td>    0.058</td>\n",
       "</tr>\n",
       "<tr>\n",
       "  <th>uniq_Op</th>           <td>    0.0164</td> <td>    0.003</td> <td>    5.254</td> <td> 0.000</td> <td>    0.010</td> <td>    0.023</td>\n",
       "</tr>\n",
       "<tr>\n",
       "  <th>uniq_Opnd</th>         <td>    0.0194</td> <td>    0.002</td> <td>    9.175</td> <td> 0.000</td> <td>    0.015</td> <td>    0.024</td>\n",
       "</tr>\n",
       "<tr>\n",
       "  <th>total_Op</th>          <td>   -0.0003</td> <td>    0.000</td> <td>   -0.744</td> <td> 0.457</td> <td>   -0.001</td> <td>    0.001</td>\n",
       "</tr>\n",
       "<tr>\n",
       "  <th>total_Opnd</th>        <td>   -0.0025</td> <td>    0.001</td> <td>   -3.246</td> <td> 0.001</td> <td>   -0.004</td> <td>   -0.001</td>\n",
       "</tr>\n",
       "<tr>\n",
       "  <th>branchCount</th>       <td>    0.0326</td> <td>    0.006</td> <td>    5.368</td> <td> 0.000</td> <td>    0.021</td> <td>    0.044</td>\n",
       "</tr>\n",
       "</table>"
      ],
      "text/plain": [
       "<class 'statsmodels.iolib.summary.Summary'>\n",
       "\"\"\"\n",
       "                 Generalized Linear Model Regression Results                  \n",
       "==============================================================================\n",
       "Dep. Variable:                defects   No. Observations:               101763\n",
       "Model:                            GLM   Df Residuals:                   101741\n",
       "Model Family:                Binomial   Df Model:                           21\n",
       "Link Function:                  Logit   Scale:                          1.0000\n",
       "Method:                          IRLS   Log-Likelihood:                -45693.\n",
       "Date:                Sun, 15 Oct 2023   Deviance:                       91385.\n",
       "Time:                        19:21:07   Pearson chi2:                 3.96e+11\n",
       "No. Iterations:                     9   Pseudo R-squ. (CS):             0.1583\n",
       "Covariance Type:            nonrobust                                         \n",
       "=====================================================================================\n",
       "                        coef    std err          z      P>|z|      [0.025      0.975]\n",
       "-------------------------------------------------------------------------------------\n",
       "const                -2.4189      0.041    -59.218      0.000      -2.499      -2.339\n",
       "loc                   0.0248      0.001     39.077      0.000       0.024       0.026\n",
       "v(g)                 -0.0371      0.012     -3.146      0.002      -0.060      -0.014\n",
       "ev(g)                -0.0084      0.003     -2.615      0.009      -0.015      -0.002\n",
       "iv(g)                 0.0087      0.004      2.258      0.024       0.001       0.016\n",
       "n                  9.459e-05      0.000      0.303      0.762      -0.001       0.001\n",
       "v                    -0.0001   4.39e-05     -3.380      0.001      -0.000   -6.23e-05\n",
       "l                    -2.3832      0.158    -15.071      0.000      -2.693      -2.073\n",
       "d                     0.0113      0.002      6.903      0.000       0.008       0.014\n",
       "i                     0.0067      0.001      6.913      0.000       0.005       0.009\n",
       "e                 -1.331e-07   9.45e-08     -1.408      0.159   -3.18e-07    5.22e-08\n",
       "b                    -0.2271      0.084     -2.708      0.007      -0.392      -0.063\n",
       "t                 -1.146e-05   2.26e-06     -5.063      0.000   -1.59e-05   -7.03e-06\n",
       "lOCode               -0.0179      0.001    -16.753      0.000      -0.020      -0.016\n",
       "lOComment            -0.0062      0.002     -3.207      0.001      -0.010      -0.002\n",
       "lOBlank               0.0145      0.003      5.520      0.000       0.009       0.020\n",
       "locCodeAndComment     0.0420      0.008      5.122      0.000       0.026       0.058\n",
       "uniq_Op               0.0164      0.003      5.254      0.000       0.010       0.023\n",
       "uniq_Opnd             0.0194      0.002      9.175      0.000       0.015       0.024\n",
       "total_Op             -0.0003      0.000     -0.744      0.457      -0.001       0.001\n",
       "total_Opnd           -0.0025      0.001     -3.246      0.001      -0.004      -0.001\n",
       "branchCount           0.0326      0.006      5.368      0.000       0.021       0.044\n",
       "=====================================================================================\n",
       "\"\"\""
      ]
     },
     "execution_count": 40,
     "metadata": {},
     "output_type": "execute_result"
    }
   ],
   "source": [
    "# Logistic regression model\n",
    "logm1 = sm.GLM(y_train,(sm.add_constant(X_train)), family = sm.families.Binomial())\n",
    "logm1.fit().summary()"
   ]
  },
  {
   "cell_type": "markdown",
   "id": "566a7fa9",
   "metadata": {},
   "source": [
    "# Step 5: Feature Selection Using RFE"
   ]
  },
  {
   "cell_type": "code",
   "execution_count": 41,
   "id": "cddf6bd2",
   "metadata": {},
   "outputs": [
    {
     "data": {
      "text/html": [
       "<style>#sk-container-id-1 {color: black;}#sk-container-id-1 pre{padding: 0;}#sk-container-id-1 div.sk-toggleable {background-color: white;}#sk-container-id-1 label.sk-toggleable__label {cursor: pointer;display: block;width: 100%;margin-bottom: 0;padding: 0.3em;box-sizing: border-box;text-align: center;}#sk-container-id-1 label.sk-toggleable__label-arrow:before {content: \"▸\";float: left;margin-right: 0.25em;color: #696969;}#sk-container-id-1 label.sk-toggleable__label-arrow:hover:before {color: black;}#sk-container-id-1 div.sk-estimator:hover label.sk-toggleable__label-arrow:before {color: black;}#sk-container-id-1 div.sk-toggleable__content {max-height: 0;max-width: 0;overflow: hidden;text-align: left;background-color: #f0f8ff;}#sk-container-id-1 div.sk-toggleable__content pre {margin: 0.2em;color: black;border-radius: 0.25em;background-color: #f0f8ff;}#sk-container-id-1 input.sk-toggleable__control:checked~div.sk-toggleable__content {max-height: 200px;max-width: 100%;overflow: auto;}#sk-container-id-1 input.sk-toggleable__control:checked~label.sk-toggleable__label-arrow:before {content: \"▾\";}#sk-container-id-1 div.sk-estimator input.sk-toggleable__control:checked~label.sk-toggleable__label {background-color: #d4ebff;}#sk-container-id-1 div.sk-label input.sk-toggleable__control:checked~label.sk-toggleable__label {background-color: #d4ebff;}#sk-container-id-1 input.sk-hidden--visually {border: 0;clip: rect(1px 1px 1px 1px);clip: rect(1px, 1px, 1px, 1px);height: 1px;margin: -1px;overflow: hidden;padding: 0;position: absolute;width: 1px;}#sk-container-id-1 div.sk-estimator {font-family: monospace;background-color: #f0f8ff;border: 1px dotted black;border-radius: 0.25em;box-sizing: border-box;margin-bottom: 0.5em;}#sk-container-id-1 div.sk-estimator:hover {background-color: #d4ebff;}#sk-container-id-1 div.sk-parallel-item::after {content: \"\";width: 100%;border-bottom: 1px solid gray;flex-grow: 1;}#sk-container-id-1 div.sk-label:hover label.sk-toggleable__label {background-color: #d4ebff;}#sk-container-id-1 div.sk-serial::before {content: \"\";position: absolute;border-left: 1px solid gray;box-sizing: border-box;top: 0;bottom: 0;left: 50%;z-index: 0;}#sk-container-id-1 div.sk-serial {display: flex;flex-direction: column;align-items: center;background-color: white;padding-right: 0.2em;padding-left: 0.2em;position: relative;}#sk-container-id-1 div.sk-item {position: relative;z-index: 1;}#sk-container-id-1 div.sk-parallel {display: flex;align-items: stretch;justify-content: center;background-color: white;position: relative;}#sk-container-id-1 div.sk-item::before, #sk-container-id-1 div.sk-parallel-item::before {content: \"\";position: absolute;border-left: 1px solid gray;box-sizing: border-box;top: 0;bottom: 0;left: 50%;z-index: -1;}#sk-container-id-1 div.sk-parallel-item {display: flex;flex-direction: column;z-index: 1;position: relative;background-color: white;}#sk-container-id-1 div.sk-parallel-item:first-child::after {align-self: flex-end;width: 50%;}#sk-container-id-1 div.sk-parallel-item:last-child::after {align-self: flex-start;width: 50%;}#sk-container-id-1 div.sk-parallel-item:only-child::after {width: 0;}#sk-container-id-1 div.sk-dashed-wrapped {border: 1px dashed gray;margin: 0 0.4em 0.5em 0.4em;box-sizing: border-box;padding-bottom: 0.4em;background-color: white;}#sk-container-id-1 div.sk-label label {font-family: monospace;font-weight: bold;display: inline-block;line-height: 1.2em;}#sk-container-id-1 div.sk-label-container {text-align: center;}#sk-container-id-1 div.sk-container {/* jupyter's `normalize.less` sets `[hidden] { display: none; }` but bootstrap.min.css set `[hidden] { display: none !important; }` so we also need the `!important` here to be able to override the default hidden behavior on the sphinx rendered scikit-learn.org. See: https://github.com/scikit-learn/scikit-learn/issues/21755 */display: inline-block !important;position: relative;}#sk-container-id-1 div.sk-text-repr-fallback {display: none;}</style><div id=\"sk-container-id-1\" class=\"sk-top-container\"><div class=\"sk-text-repr-fallback\"><pre>RFE(estimator=LogisticRegression(), step=15)</pre><b>In a Jupyter environment, please rerun this cell to show the HTML representation or trust the notebook. <br />On GitHub, the HTML representation is unable to render, please try loading this page with nbviewer.org.</b></div><div class=\"sk-container\" hidden><div class=\"sk-item sk-dashed-wrapped\"><div class=\"sk-label-container\"><div class=\"sk-label sk-toggleable\"><input class=\"sk-toggleable__control sk-hidden--visually\" id=\"sk-estimator-id-1\" type=\"checkbox\" ><label for=\"sk-estimator-id-1\" class=\"sk-toggleable__label sk-toggleable__label-arrow\">RFE</label><div class=\"sk-toggleable__content\"><pre>RFE(estimator=LogisticRegression(), step=15)</pre></div></div></div><div class=\"sk-parallel\"><div class=\"sk-parallel-item\"><div class=\"sk-item\"><div class=\"sk-label-container\"><div class=\"sk-label sk-toggleable\"><input class=\"sk-toggleable__control sk-hidden--visually\" id=\"sk-estimator-id-2\" type=\"checkbox\" ><label for=\"sk-estimator-id-2\" class=\"sk-toggleable__label sk-toggleable__label-arrow\">estimator: LogisticRegression</label><div class=\"sk-toggleable__content\"><pre>LogisticRegression()</pre></div></div></div><div class=\"sk-serial\"><div class=\"sk-item\"><div class=\"sk-estimator sk-toggleable\"><input class=\"sk-toggleable__control sk-hidden--visually\" id=\"sk-estimator-id-3\" type=\"checkbox\" ><label for=\"sk-estimator-id-3\" class=\"sk-toggleable__label sk-toggleable__label-arrow\">LogisticRegression</label><div class=\"sk-toggleable__content\"><pre>LogisticRegression()</pre></div></div></div></div></div></div></div></div></div></div>"
      ],
      "text/plain": [
       "RFE(estimator=LogisticRegression(), step=15)"
      ]
     },
     "execution_count": 41,
     "metadata": {},
     "output_type": "execute_result"
    }
   ],
   "source": [
    "rfe = RFE(lr,step=15)\n",
    "rfe.fit(X_train,y_train)"
   ]
  },
  {
   "cell_type": "code",
   "execution_count": 42,
   "id": "091f1a0c",
   "metadata": {},
   "outputs": [
    {
     "data": {
      "text/plain": [
       "array([ True,  True,  True,  True,  True, False, False,  True,  True,\n",
       "       False, False, False, False,  True, False, False,  True,  True,\n",
       "       False, False, False])"
      ]
     },
     "execution_count": 42,
     "metadata": {},
     "output_type": "execute_result"
    }
   ],
   "source": [
    "rfe.support_"
   ]
  },
  {
   "cell_type": "code",
   "execution_count": 43,
   "id": "2334da4d",
   "metadata": {},
   "outputs": [
    {
     "data": {
      "text/plain": [
       "[('loc', True, 1),\n",
       " ('v(g)', True, 1),\n",
       " ('ev(g)', True, 1),\n",
       " ('iv(g)', True, 1),\n",
       " ('n', True, 1),\n",
       " ('v', False, 2),\n",
       " ('l', False, 2),\n",
       " ('d', True, 1),\n",
       " ('i', True, 1),\n",
       " ('e', False, 2),\n",
       " ('b', False, 2),\n",
       " ('t', False, 2),\n",
       " ('lOCode', False, 2),\n",
       " ('lOComment', True, 1),\n",
       " ('lOBlank', False, 2),\n",
       " ('locCodeAndComment', False, 2),\n",
       " ('uniq_Op', True, 1),\n",
       " ('uniq_Opnd', True, 1),\n",
       " ('total_Op', False, 2),\n",
       " ('total_Opnd', False, 2),\n",
       " ('branchCount', False, 2)]"
      ]
     },
     "execution_count": 43,
     "metadata": {},
     "output_type": "execute_result"
    }
   ],
   "source": [
    "list(zip(X_train.columns,rfe.support_,rfe.ranking_))"
   ]
  },
  {
   "cell_type": "code",
   "execution_count": 44,
   "id": "da6895a4",
   "metadata": {},
   "outputs": [
    {
     "data": {
      "text/plain": [
       "Index(['loc', 'v(g)', 'ev(g)', 'iv(g)', 'n', 'd', 'i', 'lOComment', 'uniq_Op',\n",
       "       'uniq_Opnd'],\n",
       "      dtype='object')"
      ]
     },
     "execution_count": 44,
     "metadata": {},
     "output_type": "execute_result"
    }
   ],
   "source": [
    "col=X_train.columns[rfe.support_]\n",
    "col"
   ]
  },
  {
   "cell_type": "code",
   "execution_count": 45,
   "id": "cf04654b",
   "metadata": {},
   "outputs": [
    {
     "data": {
      "text/plain": [
       "Index(['v', 'l', 'e', 'b', 't', 'lOCode', 'lOBlank', 'locCodeAndComment',\n",
       "       'total_Op', 'total_Opnd', 'branchCount'],\n",
       "      dtype='object')"
      ]
     },
     "execution_count": 45,
     "metadata": {},
     "output_type": "execute_result"
    }
   ],
   "source": [
    "X_train.columns[~rfe.support_]"
   ]
  },
  {
   "cell_type": "markdown",
   "id": "03df2487",
   "metadata": {},
   "source": [
    "#### Assessing the model with StatsModels"
   ]
  },
  {
   "cell_type": "code",
   "execution_count": 46,
   "id": "ca663537",
   "metadata": {},
   "outputs": [
    {
     "data": {
      "text/html": [
       "<table class=\"simpletable\">\n",
       "<caption>Generalized Linear Model Regression Results</caption>\n",
       "<tr>\n",
       "  <th>Dep. Variable:</th>        <td>defects</td>     <th>  No. Observations:  </th>  <td>101763</td> \n",
       "</tr>\n",
       "<tr>\n",
       "  <th>Model:</th>                  <td>GLM</td>       <th>  Df Residuals:      </th>  <td>101752</td> \n",
       "</tr>\n",
       "<tr>\n",
       "  <th>Model Family:</th>        <td>Binomial</td>     <th>  Df Model:          </th>  <td>    10</td> \n",
       "</tr>\n",
       "<tr>\n",
       "  <th>Link Function:</th>         <td>Logit</td>      <th>  Scale:             </th> <td>  1.0000</td>\n",
       "</tr>\n",
       "<tr>\n",
       "  <th>Method:</th>                <td>IRLS</td>       <th>  Log-Likelihood:    </th> <td> -46298.</td>\n",
       "</tr>\n",
       "<tr>\n",
       "  <th>Date:</th>            <td>Sun, 15 Oct 2023</td> <th>  Deviance:          </th> <td>  92595.</td>\n",
       "</tr>\n",
       "<tr>\n",
       "  <th>Time:</th>                <td>19:21:09</td>     <th>  Pearson chi2:      </th> <td>1.58e+16</td>\n",
       "</tr>\n",
       "<tr>\n",
       "  <th>No. Iterations:</th>          <td>7</td>        <th>  Pseudo R-squ. (CS):</th>  <td>0.1483</td> \n",
       "</tr>\n",
       "<tr>\n",
       "  <th>Covariance Type:</th>     <td>nonrobust</td>    <th>                     </th>     <td> </td>   \n",
       "</tr>\n",
       "</table>\n",
       "<table class=\"simpletable\">\n",
       "<tr>\n",
       "      <td></td>         <th>coef</th>     <th>std err</th>      <th>z</th>      <th>P>|z|</th>  <th>[0.025</th>    <th>0.975]</th>  \n",
       "</tr>\n",
       "<tr>\n",
       "  <th>const</th>     <td>   -2.7331</td> <td>    0.028</td> <td>  -98.808</td> <td> 0.000</td> <td>   -2.787</td> <td>   -2.679</td>\n",
       "</tr>\n",
       "<tr>\n",
       "  <th>loc</th>       <td>    0.0260</td> <td>    0.001</td> <td>   51.600</td> <td> 0.000</td> <td>    0.025</td> <td>    0.027</td>\n",
       "</tr>\n",
       "<tr>\n",
       "  <th>v(g)</th>      <td>    0.0235</td> <td>    0.004</td> <td>    6.537</td> <td> 0.000</td> <td>    0.016</td> <td>    0.030</td>\n",
       "</tr>\n",
       "<tr>\n",
       "  <th>ev(g)</th>     <td>    0.0006</td> <td>    0.003</td> <td>    0.171</td> <td> 0.864</td> <td>   -0.006</td> <td>    0.007</td>\n",
       "</tr>\n",
       "<tr>\n",
       "  <th>iv(g)</th>     <td>    0.0050</td> <td>    0.004</td> <td>    1.223</td> <td> 0.221</td> <td>   -0.003</td> <td>    0.013</td>\n",
       "</tr>\n",
       "<tr>\n",
       "  <th>n</th>         <td>   -0.0052</td> <td>    0.000</td> <td>  -26.682</td> <td> 0.000</td> <td>   -0.006</td> <td>   -0.005</td>\n",
       "</tr>\n",
       "<tr>\n",
       "  <th>d</th>         <td>    0.0117</td> <td>    0.002</td> <td>    6.691</td> <td> 0.000</td> <td>    0.008</td> <td>    0.015</td>\n",
       "</tr>\n",
       "<tr>\n",
       "  <th>i</th>         <td>    0.0050</td> <td>    0.001</td> <td>    5.223</td> <td> 0.000</td> <td>    0.003</td> <td>    0.007</td>\n",
       "</tr>\n",
       "<tr>\n",
       "  <th>lOComment</th> <td>   -0.0076</td> <td>    0.002</td> <td>   -3.806</td> <td> 0.000</td> <td>   -0.012</td> <td>   -0.004</td>\n",
       "</tr>\n",
       "<tr>\n",
       "  <th>uniq_Op</th>   <td>    0.0203</td> <td>    0.003</td> <td>    6.663</td> <td> 0.000</td> <td>    0.014</td> <td>    0.026</td>\n",
       "</tr>\n",
       "<tr>\n",
       "  <th>uniq_Opnd</th> <td>    0.0163</td> <td>    0.002</td> <td>    7.692</td> <td> 0.000</td> <td>    0.012</td> <td>    0.021</td>\n",
       "</tr>\n",
       "</table>"
      ],
      "text/plain": [
       "<class 'statsmodels.iolib.summary.Summary'>\n",
       "\"\"\"\n",
       "                 Generalized Linear Model Regression Results                  \n",
       "==============================================================================\n",
       "Dep. Variable:                defects   No. Observations:               101763\n",
       "Model:                            GLM   Df Residuals:                   101752\n",
       "Model Family:                Binomial   Df Model:                           10\n",
       "Link Function:                  Logit   Scale:                          1.0000\n",
       "Method:                          IRLS   Log-Likelihood:                -46298.\n",
       "Date:                Sun, 15 Oct 2023   Deviance:                       92595.\n",
       "Time:                        19:21:09   Pearson chi2:                 1.58e+16\n",
       "No. Iterations:                     7   Pseudo R-squ. (CS):             0.1483\n",
       "Covariance Type:            nonrobust                                         \n",
       "==============================================================================\n",
       "                 coef    std err          z      P>|z|      [0.025      0.975]\n",
       "------------------------------------------------------------------------------\n",
       "const         -2.7331      0.028    -98.808      0.000      -2.787      -2.679\n",
       "loc            0.0260      0.001     51.600      0.000       0.025       0.027\n",
       "v(g)           0.0235      0.004      6.537      0.000       0.016       0.030\n",
       "ev(g)          0.0006      0.003      0.171      0.864      -0.006       0.007\n",
       "iv(g)          0.0050      0.004      1.223      0.221      -0.003       0.013\n",
       "n             -0.0052      0.000    -26.682      0.000      -0.006      -0.005\n",
       "d              0.0117      0.002      6.691      0.000       0.008       0.015\n",
       "i              0.0050      0.001      5.223      0.000       0.003       0.007\n",
       "lOComment     -0.0076      0.002     -3.806      0.000      -0.012      -0.004\n",
       "uniq_Op        0.0203      0.003      6.663      0.000       0.014       0.026\n",
       "uniq_Opnd      0.0163      0.002      7.692      0.000       0.012       0.021\n",
       "==============================================================================\n",
       "\"\"\""
      ]
     },
     "execution_count": 46,
     "metadata": {},
     "output_type": "execute_result"
    }
   ],
   "source": [
    "X_train_sm = sm.add_constant(X_train[col])\n",
    "logm2 = sm.GLM(y_train,X_train_sm, family = sm.families.Binomial())\n",
    "res = logm2.fit()\n",
    "res.summary()"
   ]
  },
  {
   "cell_type": "code",
   "execution_count": 47,
   "id": "061f981e",
   "metadata": {},
   "outputs": [
    {
     "data": {
      "text/plain": [
       "0    0.163878\n",
       "1    0.131351\n",
       "2    0.119853\n",
       "3    0.099239\n",
       "4    0.108044\n",
       "5    0.164560\n",
       "6    0.176058\n",
       "7    0.133912\n",
       "8    0.258166\n",
       "9    0.102084\n",
       "dtype: float64"
      ]
     },
     "execution_count": 47,
     "metadata": {},
     "output_type": "execute_result"
    }
   ],
   "source": [
    "y_train_pred = res.predict(X_train_sm)\n",
    "y_train_pred[:10]"
   ]
  },
  {
   "cell_type": "markdown",
   "id": "729a2885",
   "metadata": {},
   "source": [
    "Creating a dataframe with the actual converted flag and the predicted probabilities"
   ]
  },
  {
   "cell_type": "code",
   "execution_count": 48,
   "id": "0e60abdd",
   "metadata": {},
   "outputs": [
    {
     "data": {
      "text/html": [
       "<div>\n",
       "<style scoped>\n",
       "    .dataframe tbody tr th:only-of-type {\n",
       "        vertical-align: middle;\n",
       "    }\n",
       "\n",
       "    .dataframe tbody tr th {\n",
       "        vertical-align: top;\n",
       "    }\n",
       "\n",
       "    .dataframe thead th {\n",
       "        text-align: right;\n",
       "    }\n",
       "</style>\n",
       "<table border=\"1\" class=\"dataframe\">\n",
       "  <thead>\n",
       "    <tr style=\"text-align: right;\">\n",
       "      <th></th>\n",
       "      <th>defects</th>\n",
       "      <th>defects_Prob</th>\n",
       "      <th>id</th>\n",
       "    </tr>\n",
       "  </thead>\n",
       "  <tbody>\n",
       "    <tr>\n",
       "      <th>0</th>\n",
       "      <td>False</td>\n",
       "      <td>0.163878</td>\n",
       "      <td>0</td>\n",
       "    </tr>\n",
       "    <tr>\n",
       "      <th>1</th>\n",
       "      <td>False</td>\n",
       "      <td>0.131351</td>\n",
       "      <td>1</td>\n",
       "    </tr>\n",
       "    <tr>\n",
       "      <th>2</th>\n",
       "      <td>False</td>\n",
       "      <td>0.119853</td>\n",
       "      <td>2</td>\n",
       "    </tr>\n",
       "    <tr>\n",
       "      <th>3</th>\n",
       "      <td>True</td>\n",
       "      <td>0.099239</td>\n",
       "      <td>3</td>\n",
       "    </tr>\n",
       "    <tr>\n",
       "      <th>4</th>\n",
       "      <td>False</td>\n",
       "      <td>0.108044</td>\n",
       "      <td>4</td>\n",
       "    </tr>\n",
       "  </tbody>\n",
       "</table>\n",
       "</div>"
      ],
      "text/plain": [
       "   defects  defects_Prob  id\n",
       "0    False      0.163878   0\n",
       "1    False      0.131351   1\n",
       "2    False      0.119853   2\n",
       "3     True      0.099239   3\n",
       "4    False      0.108044   4"
      ]
     },
     "execution_count": 48,
     "metadata": {},
     "output_type": "execute_result"
    }
   ],
   "source": [
    "# creating a dataframe\n",
    "y_train_pred_final = pd.DataFrame({'defects':y_train.values, 'defects_Prob':y_train_pred})\n",
    "y_train_pred_final['id'] = y_train.index\n",
    "y_train_pred_final.head()"
   ]
  },
  {
   "cell_type": "markdown",
   "id": "f5ed55df",
   "metadata": {},
   "source": [
    "Creating new column 'predicted' with 1 if Converted_Prob == 0.5 else 0"
   ]
  },
  {
   "cell_type": "code",
   "execution_count": 49,
   "id": "f55b9979",
   "metadata": {},
   "outputs": [
    {
     "data": {
      "text/html": [
       "<div>\n",
       "<style scoped>\n",
       "    .dataframe tbody tr th:only-of-type {\n",
       "        vertical-align: middle;\n",
       "    }\n",
       "\n",
       "    .dataframe tbody tr th {\n",
       "        vertical-align: top;\n",
       "    }\n",
       "\n",
       "    .dataframe thead th {\n",
       "        text-align: right;\n",
       "    }\n",
       "</style>\n",
       "<table border=\"1\" class=\"dataframe\">\n",
       "  <thead>\n",
       "    <tr style=\"text-align: right;\">\n",
       "      <th></th>\n",
       "      <th>defects</th>\n",
       "      <th>defects_Prob</th>\n",
       "      <th>id</th>\n",
       "      <th>predicted</th>\n",
       "    </tr>\n",
       "  </thead>\n",
       "  <tbody>\n",
       "    <tr>\n",
       "      <th>0</th>\n",
       "      <td>False</td>\n",
       "      <td>0.163878</td>\n",
       "      <td>0</td>\n",
       "      <td>0</td>\n",
       "    </tr>\n",
       "    <tr>\n",
       "      <th>1</th>\n",
       "      <td>False</td>\n",
       "      <td>0.131351</td>\n",
       "      <td>1</td>\n",
       "      <td>0</td>\n",
       "    </tr>\n",
       "    <tr>\n",
       "      <th>2</th>\n",
       "      <td>False</td>\n",
       "      <td>0.119853</td>\n",
       "      <td>2</td>\n",
       "      <td>0</td>\n",
       "    </tr>\n",
       "    <tr>\n",
       "      <th>3</th>\n",
       "      <td>True</td>\n",
       "      <td>0.099239</td>\n",
       "      <td>3</td>\n",
       "      <td>0</td>\n",
       "    </tr>\n",
       "    <tr>\n",
       "      <th>4</th>\n",
       "      <td>False</td>\n",
       "      <td>0.108044</td>\n",
       "      <td>4</td>\n",
       "      <td>0</td>\n",
       "    </tr>\n",
       "  </tbody>\n",
       "</table>\n",
       "</div>"
      ],
      "text/plain": [
       "   defects  defects_Prob  id  predicted\n",
       "0    False      0.163878   0          0\n",
       "1    False      0.131351   1          0\n",
       "2    False      0.119853   2          0\n",
       "3     True      0.099239   3          0\n",
       "4    False      0.108044   4          0"
      ]
     },
     "execution_count": 49,
     "metadata": {},
     "output_type": "execute_result"
    }
   ],
   "source": [
    "y_train_pred_final['predicted'] = y_train_pred_final.defects_Prob.map(lambda x: 1 if x == 0.5 else 0)\n",
    "\n",
    "# Let's see the head\n",
    "y_train_pred_final.head()"
   ]
  },
  {
   "cell_type": "code",
   "execution_count": 50,
   "id": "98cddfe2",
   "metadata": {},
   "outputs": [
    {
     "name": "stdout",
     "output_type": "stream",
     "text": [
      "[[78699     0]\n",
      " [23064     0]]\n"
     ]
    }
   ],
   "source": [
    "from sklearn import metrics\n",
    "# Confusion matrix \n",
    "confusion = metrics.confusion_matrix(y_train_pred_final.defects, y_train_pred_final.predicted )\n",
    "print(confusion)"
   ]
  },
  {
   "cell_type": "code",
   "execution_count": 51,
   "id": "046b1af7",
   "metadata": {},
   "outputs": [
    {
     "name": "stdout",
     "output_type": "stream",
     "text": [
      "0.7733557383331859\n"
     ]
    }
   ],
   "source": [
    "# Let's check the overall accuracy.\n",
    "print(metrics.accuracy_score(y_train_pred_final.defects, y_train_pred_final.predicted))"
   ]
  },
  {
   "cell_type": "markdown",
   "id": "525b18b1",
   "metadata": {},
   "source": [
    "#### Checking VIFs"
   ]
  },
  {
   "cell_type": "code",
   "execution_count": 52,
   "id": "9b18c565",
   "metadata": {},
   "outputs": [
    {
     "data": {
      "text/html": [
       "<div>\n",
       "<style scoped>\n",
       "    .dataframe tbody tr th:only-of-type {\n",
       "        vertical-align: middle;\n",
       "    }\n",
       "\n",
       "    .dataframe tbody tr th {\n",
       "        vertical-align: top;\n",
       "    }\n",
       "\n",
       "    .dataframe thead th {\n",
       "        text-align: right;\n",
       "    }\n",
       "</style>\n",
       "<table border=\"1\" class=\"dataframe\">\n",
       "  <thead>\n",
       "    <tr style=\"text-align: right;\">\n",
       "      <th></th>\n",
       "      <th>Features</th>\n",
       "      <th>VIF</th>\n",
       "    </tr>\n",
       "  </thead>\n",
       "  <tbody>\n",
       "    <tr>\n",
       "      <th>5</th>\n",
       "      <td>d</td>\n",
       "      <td>10.48</td>\n",
       "    </tr>\n",
       "    <tr>\n",
       "      <th>8</th>\n",
       "      <td>uniq_Op</td>\n",
       "      <td>9.26</td>\n",
       "    </tr>\n",
       "    <tr>\n",
       "      <th>9</th>\n",
       "      <td>uniq_Opnd</td>\n",
       "      <td>8.68</td>\n",
       "    </tr>\n",
       "    <tr>\n",
       "      <th>4</th>\n",
       "      <td>n</td>\n",
       "      <td>8.43</td>\n",
       "    </tr>\n",
       "    <tr>\n",
       "      <th>1</th>\n",
       "      <td>v(g)</td>\n",
       "      <td>7.83</td>\n",
       "    </tr>\n",
       "    <tr>\n",
       "      <th>6</th>\n",
       "      <td>i</td>\n",
       "      <td>7.31</td>\n",
       "    </tr>\n",
       "    <tr>\n",
       "      <th>0</th>\n",
       "      <td>loc</td>\n",
       "      <td>5.51</td>\n",
       "    </tr>\n",
       "    <tr>\n",
       "      <th>3</th>\n",
       "      <td>iv(g)</td>\n",
       "      <td>4.27</td>\n",
       "    </tr>\n",
       "    <tr>\n",
       "      <th>2</th>\n",
       "      <td>ev(g)</td>\n",
       "      <td>3.10</td>\n",
       "    </tr>\n",
       "    <tr>\n",
       "      <th>7</th>\n",
       "      <td>lOComment</td>\n",
       "      <td>1.69</td>\n",
       "    </tr>\n",
       "  </tbody>\n",
       "</table>\n",
       "</div>"
      ],
      "text/plain": [
       "    Features    VIF\n",
       "5          d  10.48\n",
       "8    uniq_Op   9.26\n",
       "9  uniq_Opnd   8.68\n",
       "4          n   8.43\n",
       "1       v(g)   7.83\n",
       "6          i   7.31\n",
       "0        loc   5.51\n",
       "3      iv(g)   4.27\n",
       "2      ev(g)   3.10\n",
       "7  lOComment   1.69"
      ]
     },
     "execution_count": 52,
     "metadata": {},
     "output_type": "execute_result"
    }
   ],
   "source": [
    "# Create a dataframe that will contain the names of all the feature variables and their respective VIFs\n",
    "vif = pd.DataFrame()\n",
    "vif['Features'] = X_train[col].columns\n",
    "vif['VIF'] = [variance_inflation_factor(X_train[col].values, i) for i in range(X_train[col].shape[1])]\n",
    "vif['VIF'] = round(vif['VIF'], 2)\n",
    "vif = vif.sort_values(by = \"VIF\", ascending = False)\n",
    "vif"
   ]
  },
  {
   "cell_type": "code",
   "execution_count": 53,
   "id": "4726cb6d",
   "metadata": {},
   "outputs": [],
   "source": [
    "#### as d is having very high p value.Hence we are dropping it."
   ]
  },
  {
   "cell_type": "code",
   "execution_count": 54,
   "id": "301e16e2",
   "metadata": {},
   "outputs": [],
   "source": [
    "col = col.drop('d',1)"
   ]
  },
  {
   "cell_type": "code",
   "execution_count": 55,
   "id": "cac80fc0",
   "metadata": {},
   "outputs": [
    {
     "data": {
      "text/html": [
       "<table class=\"simpletable\">\n",
       "<caption>Generalized Linear Model Regression Results</caption>\n",
       "<tr>\n",
       "  <th>Dep. Variable:</th>        <td>defects</td>     <th>  No. Observations:  </th>  <td>101763</td> \n",
       "</tr>\n",
       "<tr>\n",
       "  <th>Model:</th>                  <td>GLM</td>       <th>  Df Residuals:      </th>  <td>101753</td> \n",
       "</tr>\n",
       "<tr>\n",
       "  <th>Model Family:</th>        <td>Binomial</td>     <th>  Df Model:          </th>  <td>     9</td> \n",
       "</tr>\n",
       "<tr>\n",
       "  <th>Link Function:</th>         <td>Logit</td>      <th>  Scale:             </th> <td>  1.0000</td>\n",
       "</tr>\n",
       "<tr>\n",
       "  <th>Method:</th>                <td>IRLS</td>       <th>  Log-Likelihood:    </th> <td> -46309.</td>\n",
       "</tr>\n",
       "<tr>\n",
       "  <th>Date:</th>            <td>Sun, 15 Oct 2023</td> <th>  Deviance:          </th> <td>  92618.</td>\n",
       "</tr>\n",
       "<tr>\n",
       "  <th>Time:</th>                <td>19:21:10</td>     <th>  Pearson chi2:      </th> <td>1.36e+16</td>\n",
       "</tr>\n",
       "<tr>\n",
       "  <th>No. Iterations:</th>          <td>7</td>        <th>  Pseudo R-squ. (CS):</th>  <td>0.1481</td> \n",
       "</tr>\n",
       "<tr>\n",
       "  <th>Covariance Type:</th>     <td>nonrobust</td>    <th>                     </th>     <td> </td>   \n",
       "</tr>\n",
       "</table>\n",
       "<table class=\"simpletable\">\n",
       "<tr>\n",
       "      <td></td>         <th>coef</th>     <th>std err</th>      <th>z</th>      <th>P>|z|</th>  <th>[0.025</th>    <th>0.975]</th>  \n",
       "</tr>\n",
       "<tr>\n",
       "  <th>const</th>     <td>   -2.7553</td> <td>    0.028</td> <td> -100.186</td> <td> 0.000</td> <td>   -2.809</td> <td>   -2.701</td>\n",
       "</tr>\n",
       "<tr>\n",
       "  <th>loc</th>       <td>    0.0262</td> <td>    0.001</td> <td>   51.892</td> <td> 0.000</td> <td>    0.025</td> <td>    0.027</td>\n",
       "</tr>\n",
       "<tr>\n",
       "  <th>v(g)</th>      <td>    0.0258</td> <td>    0.004</td> <td>    7.147</td> <td> 0.000</td> <td>    0.019</td> <td>    0.033</td>\n",
       "</tr>\n",
       "<tr>\n",
       "  <th>ev(g)</th>     <td>    0.0005</td> <td>    0.003</td> <td>    0.141</td> <td> 0.888</td> <td>   -0.006</td> <td>    0.007</td>\n",
       "</tr>\n",
       "<tr>\n",
       "  <th>iv(g)</th>     <td>    0.0028</td> <td>    0.004</td> <td>    0.677</td> <td> 0.498</td> <td>   -0.005</td> <td>    0.011</td>\n",
       "</tr>\n",
       "<tr>\n",
       "  <th>n</th>         <td>   -0.0044</td> <td>    0.000</td> <td>  -28.682</td> <td> 0.000</td> <td>   -0.005</td> <td>   -0.004</td>\n",
       "</tr>\n",
       "<tr>\n",
       "  <th>i</th>         <td>    0.0042</td> <td>    0.001</td> <td>    4.433</td> <td> 0.000</td> <td>    0.002</td> <td>    0.006</td>\n",
       "</tr>\n",
       "<tr>\n",
       "  <th>lOComment</th> <td>   -0.0070</td> <td>    0.002</td> <td>   -3.459</td> <td> 0.001</td> <td>   -0.011</td> <td>   -0.003</td>\n",
       "</tr>\n",
       "<tr>\n",
       "  <th>uniq_Op</th>   <td>    0.0347</td> <td>    0.002</td> <td>   16.064</td> <td> 0.000</td> <td>    0.030</td> <td>    0.039</td>\n",
       "</tr>\n",
       "<tr>\n",
       "  <th>uniq_Opnd</th> <td>    0.0126</td> <td>    0.002</td> <td>    6.072</td> <td> 0.000</td> <td>    0.009</td> <td>    0.017</td>\n",
       "</tr>\n",
       "</table>"
      ],
      "text/plain": [
       "<class 'statsmodels.iolib.summary.Summary'>\n",
       "\"\"\"\n",
       "                 Generalized Linear Model Regression Results                  \n",
       "==============================================================================\n",
       "Dep. Variable:                defects   No. Observations:               101763\n",
       "Model:                            GLM   Df Residuals:                   101753\n",
       "Model Family:                Binomial   Df Model:                            9\n",
       "Link Function:                  Logit   Scale:                          1.0000\n",
       "Method:                          IRLS   Log-Likelihood:                -46309.\n",
       "Date:                Sun, 15 Oct 2023   Deviance:                       92618.\n",
       "Time:                        19:21:10   Pearson chi2:                 1.36e+16\n",
       "No. Iterations:                     7   Pseudo R-squ. (CS):             0.1481\n",
       "Covariance Type:            nonrobust                                         \n",
       "==============================================================================\n",
       "                 coef    std err          z      P>|z|      [0.025      0.975]\n",
       "------------------------------------------------------------------------------\n",
       "const         -2.7553      0.028   -100.186      0.000      -2.809      -2.701\n",
       "loc            0.0262      0.001     51.892      0.000       0.025       0.027\n",
       "v(g)           0.0258      0.004      7.147      0.000       0.019       0.033\n",
       "ev(g)          0.0005      0.003      0.141      0.888      -0.006       0.007\n",
       "iv(g)          0.0028      0.004      0.677      0.498      -0.005       0.011\n",
       "n             -0.0044      0.000    -28.682      0.000      -0.005      -0.004\n",
       "i              0.0042      0.001      4.433      0.000       0.002       0.006\n",
       "lOComment     -0.0070      0.002     -3.459      0.001      -0.011      -0.003\n",
       "uniq_Op        0.0347      0.002     16.064      0.000       0.030       0.039\n",
       "uniq_Opnd      0.0126      0.002      6.072      0.000       0.009       0.017\n",
       "==============================================================================\n",
       "\"\"\""
      ]
     },
     "execution_count": 55,
     "metadata": {},
     "output_type": "execute_result"
    }
   ],
   "source": [
    "# Let's re-run the model using the selected variables\n",
    "X_train_sm = sm.add_constant(X_train[col])\n",
    "logm3 = sm.GLM(y_train,X_train_sm, family = sm.families.Binomial())\n",
    "res = logm3.fit()\n",
    "res.summary()"
   ]
  },
  {
   "cell_type": "code",
   "execution_count": 56,
   "id": "27e21ffa",
   "metadata": {},
   "outputs": [
    {
     "data": {
      "text/plain": [
       "0    0.162802\n",
       "1    0.134359\n",
       "2    0.123818\n",
       "3    0.100675\n",
       "4    0.107763\n",
       "5    0.171889\n",
       "6    0.179097\n",
       "7    0.128770\n",
       "8    0.262181\n",
       "9    0.102558\n",
       "dtype: float64"
      ]
     },
     "execution_count": 56,
     "metadata": {},
     "output_type": "execute_result"
    }
   ],
   "source": [
    "y_train_pred = res.predict(X_train_sm)\n",
    "y_train_pred[:10]"
   ]
  },
  {
   "cell_type": "code",
   "execution_count": 57,
   "id": "f85ebf2e",
   "metadata": {},
   "outputs": [],
   "source": [
    "y_train_pred_final['defects_Prob'] = y_train_pred"
   ]
  },
  {
   "cell_type": "code",
   "execution_count": 58,
   "id": "28c1286c",
   "metadata": {},
   "outputs": [
    {
     "data": {
      "text/html": [
       "<div>\n",
       "<style scoped>\n",
       "    .dataframe tbody tr th:only-of-type {\n",
       "        vertical-align: middle;\n",
       "    }\n",
       "\n",
       "    .dataframe tbody tr th {\n",
       "        vertical-align: top;\n",
       "    }\n",
       "\n",
       "    .dataframe thead th {\n",
       "        text-align: right;\n",
       "    }\n",
       "</style>\n",
       "<table border=\"1\" class=\"dataframe\">\n",
       "  <thead>\n",
       "    <tr style=\"text-align: right;\">\n",
       "      <th></th>\n",
       "      <th>defects</th>\n",
       "      <th>defects_Prob</th>\n",
       "      <th>id</th>\n",
       "      <th>predicted</th>\n",
       "    </tr>\n",
       "  </thead>\n",
       "  <tbody>\n",
       "    <tr>\n",
       "      <th>0</th>\n",
       "      <td>False</td>\n",
       "      <td>0.162802</td>\n",
       "      <td>0</td>\n",
       "      <td>0</td>\n",
       "    </tr>\n",
       "    <tr>\n",
       "      <th>1</th>\n",
       "      <td>False</td>\n",
       "      <td>0.134359</td>\n",
       "      <td>1</td>\n",
       "      <td>0</td>\n",
       "    </tr>\n",
       "    <tr>\n",
       "      <th>2</th>\n",
       "      <td>False</td>\n",
       "      <td>0.123818</td>\n",
       "      <td>2</td>\n",
       "      <td>0</td>\n",
       "    </tr>\n",
       "    <tr>\n",
       "      <th>3</th>\n",
       "      <td>True</td>\n",
       "      <td>0.100675</td>\n",
       "      <td>3</td>\n",
       "      <td>0</td>\n",
       "    </tr>\n",
       "    <tr>\n",
       "      <th>4</th>\n",
       "      <td>False</td>\n",
       "      <td>0.107763</td>\n",
       "      <td>4</td>\n",
       "      <td>0</td>\n",
       "    </tr>\n",
       "  </tbody>\n",
       "</table>\n",
       "</div>"
      ],
      "text/plain": [
       "   defects  defects_Prob  id  predicted\n",
       "0    False      0.162802   0          0\n",
       "1    False      0.134359   1          0\n",
       "2    False      0.123818   2          0\n",
       "3     True      0.100675   3          0\n",
       "4    False      0.107763   4          0"
      ]
     },
     "execution_count": 58,
     "metadata": {},
     "output_type": "execute_result"
    }
   ],
   "source": [
    "# Creating new column 'predicted' with 1 if Converted_Prob == 0.5 else 0\n",
    "y_train_pred_final['predicted'] = y_train_pred_final.defects_Prob.map(lambda x: 1 if x == 0.5 else 0)\n",
    "y_train_pred_final.head()"
   ]
  },
  {
   "cell_type": "code",
   "execution_count": 59,
   "id": "29d0abff",
   "metadata": {},
   "outputs": [
    {
     "name": "stdout",
     "output_type": "stream",
     "text": [
      "0.7733557383331859\n"
     ]
    }
   ],
   "source": [
    "# Let's check the overall accuracy.\n",
    "print(metrics.accuracy_score(y_train_pred_final.defects, y_train_pred_final.predicted))"
   ]
  },
  {
   "cell_type": "markdown",
   "id": "74c231e7",
   "metadata": {},
   "source": [
    "#### Checking VIF"
   ]
  },
  {
   "cell_type": "code",
   "execution_count": 60,
   "id": "5065bc84",
   "metadata": {},
   "outputs": [
    {
     "data": {
      "text/html": [
       "<div>\n",
       "<style scoped>\n",
       "    .dataframe tbody tr th:only-of-type {\n",
       "        vertical-align: middle;\n",
       "    }\n",
       "\n",
       "    .dataframe tbody tr th {\n",
       "        vertical-align: top;\n",
       "    }\n",
       "\n",
       "    .dataframe thead th {\n",
       "        text-align: right;\n",
       "    }\n",
       "</style>\n",
       "<table border=\"1\" class=\"dataframe\">\n",
       "  <thead>\n",
       "    <tr style=\"text-align: right;\">\n",
       "      <th></th>\n",
       "      <th>Features</th>\n",
       "      <th>VIF</th>\n",
       "    </tr>\n",
       "  </thead>\n",
       "  <tbody>\n",
       "    <tr>\n",
       "      <th>8</th>\n",
       "      <td>uniq_Opnd</td>\n",
       "      <td>8.68</td>\n",
       "    </tr>\n",
       "    <tr>\n",
       "      <th>1</th>\n",
       "      <td>v(g)</td>\n",
       "      <td>7.75</td>\n",
       "    </tr>\n",
       "    <tr>\n",
       "      <th>5</th>\n",
       "      <td>i</td>\n",
       "      <td>6.58</td>\n",
       "    </tr>\n",
       "    <tr>\n",
       "      <th>4</th>\n",
       "      <td>n</td>\n",
       "      <td>5.64</td>\n",
       "    </tr>\n",
       "    <tr>\n",
       "      <th>0</th>\n",
       "      <td>loc</td>\n",
       "      <td>5.50</td>\n",
       "    </tr>\n",
       "    <tr>\n",
       "      <th>3</th>\n",
       "      <td>iv(g)</td>\n",
       "      <td>4.16</td>\n",
       "    </tr>\n",
       "    <tr>\n",
       "      <th>7</th>\n",
       "      <td>uniq_Op</td>\n",
       "      <td>4.08</td>\n",
       "    </tr>\n",
       "    <tr>\n",
       "      <th>2</th>\n",
       "      <td>ev(g)</td>\n",
       "      <td>3.10</td>\n",
       "    </tr>\n",
       "    <tr>\n",
       "      <th>6</th>\n",
       "      <td>lOComment</td>\n",
       "      <td>1.68</td>\n",
       "    </tr>\n",
       "  </tbody>\n",
       "</table>\n",
       "</div>"
      ],
      "text/plain": [
       "    Features   VIF\n",
       "8  uniq_Opnd  8.68\n",
       "1       v(g)  7.75\n",
       "5          i  6.58\n",
       "4          n  5.64\n",
       "0        loc  5.50\n",
       "3      iv(g)  4.16\n",
       "7    uniq_Op  4.08\n",
       "2      ev(g)  3.10\n",
       "6  lOComment  1.68"
      ]
     },
     "execution_count": 60,
     "metadata": {},
     "output_type": "execute_result"
    }
   ],
   "source": [
    "vif = pd.DataFrame()\n",
    "vif['Features'] = X_train[col].columns\n",
    "vif['VIF'] = [variance_inflation_factor(X_train[col].values, i) for i in range(X_train[col].shape[1])]\n",
    "vif['VIF'] = round(vif['VIF'], 2)\n",
    "vif = vif.sort_values(by = \"VIF\", ascending = False)\n",
    "vif"
   ]
  },
  {
   "cell_type": "code",
   "execution_count": 61,
   "id": "d728e33a",
   "metadata": {},
   "outputs": [],
   "source": [
    "#### as uniq_Opnd is having very high p value.Hence we are dropping it."
   ]
  },
  {
   "cell_type": "code",
   "execution_count": 62,
   "id": "ce68f1a9",
   "metadata": {},
   "outputs": [],
   "source": [
    "col=col.drop('uniq_Opnd',1)"
   ]
  },
  {
   "cell_type": "code",
   "execution_count": 63,
   "id": "6060588c",
   "metadata": {},
   "outputs": [
    {
     "data": {
      "text/html": [
       "<table class=\"simpletable\">\n",
       "<caption>Generalized Linear Model Regression Results</caption>\n",
       "<tr>\n",
       "  <th>Dep. Variable:</th>        <td>defects</td>     <th>  No. Observations:  </th>  <td>101763</td> \n",
       "</tr>\n",
       "<tr>\n",
       "  <th>Model:</th>                  <td>GLM</td>       <th>  Df Residuals:      </th>  <td>101754</td> \n",
       "</tr>\n",
       "<tr>\n",
       "  <th>Model Family:</th>        <td>Binomial</td>     <th>  Df Model:          </th>  <td>     8</td> \n",
       "</tr>\n",
       "<tr>\n",
       "  <th>Link Function:</th>         <td>Logit</td>      <th>  Scale:             </th> <td>  1.0000</td>\n",
       "</tr>\n",
       "<tr>\n",
       "  <th>Method:</th>                <td>IRLS</td>       <th>  Log-Likelihood:    </th> <td> -46329.</td>\n",
       "</tr>\n",
       "<tr>\n",
       "  <th>Date:</th>            <td>Sun, 15 Oct 2023</td> <th>  Deviance:          </th> <td>  92658.</td>\n",
       "</tr>\n",
       "<tr>\n",
       "  <th>Time:</th>                <td>19:21:11</td>     <th>  Pearson chi2:      </th> <td>1.13e+16</td>\n",
       "</tr>\n",
       "<tr>\n",
       "  <th>No. Iterations:</th>          <td>7</td>        <th>  Pseudo R-squ. (CS):</th>  <td>0.1477</td> \n",
       "</tr>\n",
       "<tr>\n",
       "  <th>Covariance Type:</th>     <td>nonrobust</td>    <th>                     </th>     <td> </td>   \n",
       "</tr>\n",
       "</table>\n",
       "<table class=\"simpletable\">\n",
       "<tr>\n",
       "      <td></td>         <th>coef</th>     <th>std err</th>      <th>z</th>      <th>P>|z|</th>  <th>[0.025</th>    <th>0.975]</th>  \n",
       "</tr>\n",
       "<tr>\n",
       "  <th>const</th>     <td>   -2.8217</td> <td>    0.025</td> <td> -111.188</td> <td> 0.000</td> <td>   -2.871</td> <td>   -2.772</td>\n",
       "</tr>\n",
       "<tr>\n",
       "  <th>loc</th>       <td>    0.0269</td> <td>    0.000</td> <td>   54.479</td> <td> 0.000</td> <td>    0.026</td> <td>    0.028</td>\n",
       "</tr>\n",
       "<tr>\n",
       "  <th>v(g)</th>      <td>    0.0251</td> <td>    0.004</td> <td>    6.947</td> <td> 0.000</td> <td>    0.018</td> <td>    0.032</td>\n",
       "</tr>\n",
       "<tr>\n",
       "  <th>ev(g)</th>     <td>    0.0002</td> <td>    0.003</td> <td>    0.074</td> <td> 0.941</td> <td>   -0.006</td> <td>    0.007</td>\n",
       "</tr>\n",
       "<tr>\n",
       "  <th>iv(g)</th>     <td>    0.0056</td> <td>    0.004</td> <td>    1.391</td> <td> 0.164</td> <td>   -0.002</td> <td>    0.013</td>\n",
       "</tr>\n",
       "<tr>\n",
       "  <th>n</th>         <td>   -0.0041</td> <td>    0.000</td> <td>  -27.842</td> <td> 0.000</td> <td>   -0.004</td> <td>   -0.004</td>\n",
       "</tr>\n",
       "<tr>\n",
       "  <th>i</th>         <td>    0.0087</td> <td>    0.001</td> <td>   14.194</td> <td> 0.000</td> <td>    0.007</td> <td>    0.010</td>\n",
       "</tr>\n",
       "<tr>\n",
       "  <th>lOComment</th> <td>   -0.0072</td> <td>    0.002</td> <td>   -3.612</td> <td> 0.000</td> <td>   -0.011</td> <td>   -0.003</td>\n",
       "</tr>\n",
       "<tr>\n",
       "  <th>uniq_Op</th>   <td>    0.0418</td> <td>    0.002</td> <td>   23.341</td> <td> 0.000</td> <td>    0.038</td> <td>    0.045</td>\n",
       "</tr>\n",
       "</table>"
      ],
      "text/plain": [
       "<class 'statsmodels.iolib.summary.Summary'>\n",
       "\"\"\"\n",
       "                 Generalized Linear Model Regression Results                  \n",
       "==============================================================================\n",
       "Dep. Variable:                defects   No. Observations:               101763\n",
       "Model:                            GLM   Df Residuals:                   101754\n",
       "Model Family:                Binomial   Df Model:                            8\n",
       "Link Function:                  Logit   Scale:                          1.0000\n",
       "Method:                          IRLS   Log-Likelihood:                -46329.\n",
       "Date:                Sun, 15 Oct 2023   Deviance:                       92658.\n",
       "Time:                        19:21:11   Pearson chi2:                 1.13e+16\n",
       "No. Iterations:                     7   Pseudo R-squ. (CS):             0.1477\n",
       "Covariance Type:            nonrobust                                         \n",
       "==============================================================================\n",
       "                 coef    std err          z      P>|z|      [0.025      0.975]\n",
       "------------------------------------------------------------------------------\n",
       "const         -2.8217      0.025   -111.188      0.000      -2.871      -2.772\n",
       "loc            0.0269      0.000     54.479      0.000       0.026       0.028\n",
       "v(g)           0.0251      0.004      6.947      0.000       0.018       0.032\n",
       "ev(g)          0.0002      0.003      0.074      0.941      -0.006       0.007\n",
       "iv(g)          0.0056      0.004      1.391      0.164      -0.002       0.013\n",
       "n             -0.0041      0.000    -27.842      0.000      -0.004      -0.004\n",
       "i              0.0087      0.001     14.194      0.000       0.007       0.010\n",
       "lOComment     -0.0072      0.002     -3.612      0.000      -0.011      -0.003\n",
       "uniq_Op        0.0418      0.002     23.341      0.000       0.038       0.045\n",
       "==============================================================================\n",
       "\"\"\""
      ]
     },
     "execution_count": 63,
     "metadata": {},
     "output_type": "execute_result"
    }
   ],
   "source": [
    "X_train_sm = sm.add_constant(X_train[col])\n",
    "logm4 = sm.GLM(y_train,X_train_sm, family= sm.families.Binomial())\n",
    "res = logm4.fit()\n",
    "res.summary()"
   ]
  },
  {
   "cell_type": "code",
   "execution_count": 64,
   "id": "1815de52",
   "metadata": {},
   "outputs": [
    {
     "data": {
      "text/plain": [
       "0    0.167127\n",
       "1    0.133232\n",
       "2    0.124469\n",
       "3    0.101465\n",
       "4    0.105842\n",
       "5    0.180853\n",
       "6    0.182069\n",
       "7    0.127420\n",
       "8    0.249890\n",
       "9    0.103905\n",
       "dtype: float64"
      ]
     },
     "execution_count": 64,
     "metadata": {},
     "output_type": "execute_result"
    }
   ],
   "source": [
    "y_train_pred = res.predict(X_train_sm)\n",
    "y_train_pred[:10]"
   ]
  },
  {
   "cell_type": "code",
   "execution_count": 65,
   "id": "48283cc2",
   "metadata": {},
   "outputs": [],
   "source": [
    "y_train_pred_final['defects_Prob'] = y_train_pred"
   ]
  },
  {
   "cell_type": "code",
   "execution_count": 66,
   "id": "9bc05d5d",
   "metadata": {},
   "outputs": [
    {
     "data": {
      "text/html": [
       "<div>\n",
       "<style scoped>\n",
       "    .dataframe tbody tr th:only-of-type {\n",
       "        vertical-align: middle;\n",
       "    }\n",
       "\n",
       "    .dataframe tbody tr th {\n",
       "        vertical-align: top;\n",
       "    }\n",
       "\n",
       "    .dataframe thead th {\n",
       "        text-align: right;\n",
       "    }\n",
       "</style>\n",
       "<table border=\"1\" class=\"dataframe\">\n",
       "  <thead>\n",
       "    <tr style=\"text-align: right;\">\n",
       "      <th></th>\n",
       "      <th>defects</th>\n",
       "      <th>defects_Prob</th>\n",
       "      <th>id</th>\n",
       "      <th>predicted</th>\n",
       "    </tr>\n",
       "  </thead>\n",
       "  <tbody>\n",
       "    <tr>\n",
       "      <th>0</th>\n",
       "      <td>False</td>\n",
       "      <td>0.167127</td>\n",
       "      <td>0</td>\n",
       "      <td>0</td>\n",
       "    </tr>\n",
       "    <tr>\n",
       "      <th>1</th>\n",
       "      <td>False</td>\n",
       "      <td>0.133232</td>\n",
       "      <td>1</td>\n",
       "      <td>0</td>\n",
       "    </tr>\n",
       "    <tr>\n",
       "      <th>2</th>\n",
       "      <td>False</td>\n",
       "      <td>0.124469</td>\n",
       "      <td>2</td>\n",
       "      <td>0</td>\n",
       "    </tr>\n",
       "    <tr>\n",
       "      <th>3</th>\n",
       "      <td>True</td>\n",
       "      <td>0.101465</td>\n",
       "      <td>3</td>\n",
       "      <td>0</td>\n",
       "    </tr>\n",
       "    <tr>\n",
       "      <th>4</th>\n",
       "      <td>False</td>\n",
       "      <td>0.105842</td>\n",
       "      <td>4</td>\n",
       "      <td>0</td>\n",
       "    </tr>\n",
       "  </tbody>\n",
       "</table>\n",
       "</div>"
      ],
      "text/plain": [
       "   defects  defects_Prob  id  predicted\n",
       "0    False      0.167127   0          0\n",
       "1    False      0.133232   1          0\n",
       "2    False      0.124469   2          0\n",
       "3     True      0.101465   3          0\n",
       "4    False      0.105842   4          0"
      ]
     },
     "execution_count": 66,
     "metadata": {},
     "output_type": "execute_result"
    }
   ],
   "source": [
    "# Creating new column 'predicted' with 1 if Converted_Prob == 0.5 else 0\n",
    "y_train_pred_final['predicted'] = y_train_pred_final.defects_Prob.map(lambda x: 1 if x == 0.5 else 0)\n",
    "y_train_pred_final.head()"
   ]
  },
  {
   "cell_type": "code",
   "execution_count": 67,
   "id": "f068b5a8",
   "metadata": {},
   "outputs": [
    {
     "name": "stdout",
     "output_type": "stream",
     "text": [
      "0.7733557383331859\n"
     ]
    }
   ],
   "source": [
    "# Let's check the overall accuracy.\n",
    "print(metrics.accuracy_score(y_train_pred_final.defects, y_train_pred_final.predicted))"
   ]
  },
  {
   "cell_type": "markdown",
   "id": "91169b19",
   "metadata": {},
   "source": [
    "#### Checking VIF"
   ]
  },
  {
   "cell_type": "code",
   "execution_count": 68,
   "id": "167198a1",
   "metadata": {},
   "outputs": [
    {
     "data": {
      "text/html": [
       "<div>\n",
       "<style scoped>\n",
       "    .dataframe tbody tr th:only-of-type {\n",
       "        vertical-align: middle;\n",
       "    }\n",
       "\n",
       "    .dataframe tbody tr th {\n",
       "        vertical-align: top;\n",
       "    }\n",
       "\n",
       "    .dataframe thead th {\n",
       "        text-align: right;\n",
       "    }\n",
       "</style>\n",
       "<table border=\"1\" class=\"dataframe\">\n",
       "  <thead>\n",
       "    <tr style=\"text-align: right;\">\n",
       "      <th></th>\n",
       "      <th>Features</th>\n",
       "      <th>VIF</th>\n",
       "    </tr>\n",
       "  </thead>\n",
       "  <tbody>\n",
       "    <tr>\n",
       "      <th>1</th>\n",
       "      <td>v(g)</td>\n",
       "      <td>7.69</td>\n",
       "    </tr>\n",
       "    <tr>\n",
       "      <th>0</th>\n",
       "      <td>loc</td>\n",
       "      <td>5.50</td>\n",
       "    </tr>\n",
       "    <tr>\n",
       "      <th>4</th>\n",
       "      <td>n</td>\n",
       "      <td>4.83</td>\n",
       "    </tr>\n",
       "    <tr>\n",
       "      <th>5</th>\n",
       "      <td>i</td>\n",
       "      <td>4.82</td>\n",
       "    </tr>\n",
       "    <tr>\n",
       "      <th>3</th>\n",
       "      <td>iv(g)</td>\n",
       "      <td>4.03</td>\n",
       "    </tr>\n",
       "    <tr>\n",
       "      <th>7</th>\n",
       "      <td>uniq_Op</td>\n",
       "      <td>3.91</td>\n",
       "    </tr>\n",
       "    <tr>\n",
       "      <th>2</th>\n",
       "      <td>ev(g)</td>\n",
       "      <td>3.01</td>\n",
       "    </tr>\n",
       "    <tr>\n",
       "      <th>6</th>\n",
       "      <td>lOComment</td>\n",
       "      <td>1.68</td>\n",
       "    </tr>\n",
       "  </tbody>\n",
       "</table>\n",
       "</div>"
      ],
      "text/plain": [
       "    Features   VIF\n",
       "1       v(g)  7.69\n",
       "0        loc  5.50\n",
       "4          n  4.83\n",
       "5          i  4.82\n",
       "3      iv(g)  4.03\n",
       "7    uniq_Op  3.91\n",
       "2      ev(g)  3.01\n",
       "6  lOComment  1.68"
      ]
     },
     "execution_count": 68,
     "metadata": {},
     "output_type": "execute_result"
    }
   ],
   "source": [
    "vif = pd.DataFrame()\n",
    "vif['Features'] = X_train[col].columns\n",
    "vif['VIF'] = [variance_inflation_factor(X_train[col].values, i) for i in range(X_train[col].shape[1])]\n",
    "vif['VIF'] = round(vif['VIF'], 2)\n",
    "vif = vif.sort_values(by = \"VIF\", ascending = False)\n",
    "vif"
   ]
  },
  {
   "cell_type": "code",
   "execution_count": 69,
   "id": "5da11258",
   "metadata": {},
   "outputs": [],
   "source": [
    "col = col.drop('v(g)',1)"
   ]
  },
  {
   "cell_type": "code",
   "execution_count": 70,
   "id": "6e6e3bcb",
   "metadata": {},
   "outputs": [
    {
     "data": {
      "text/html": [
       "<table class=\"simpletable\">\n",
       "<caption>Generalized Linear Model Regression Results</caption>\n",
       "<tr>\n",
       "  <th>Dep. Variable:</th>        <td>defects</td>     <th>  No. Observations:  </th>  <td>101763</td> \n",
       "</tr>\n",
       "<tr>\n",
       "  <th>Model:</th>                  <td>GLM</td>       <th>  Df Residuals:      </th>  <td>101755</td> \n",
       "</tr>\n",
       "<tr>\n",
       "  <th>Model Family:</th>        <td>Binomial</td>     <th>  Df Model:          </th>  <td>     7</td> \n",
       "</tr>\n",
       "<tr>\n",
       "  <th>Link Function:</th>         <td>Logit</td>      <th>  Scale:             </th> <td>  1.0000</td>\n",
       "</tr>\n",
       "<tr>\n",
       "  <th>Method:</th>                <td>IRLS</td>       <th>  Log-Likelihood:    </th> <td> -46351.</td>\n",
       "</tr>\n",
       "<tr>\n",
       "  <th>Date:</th>            <td>Sun, 15 Oct 2023</td> <th>  Deviance:          </th> <td>  92703.</td>\n",
       "</tr>\n",
       "<tr>\n",
       "  <th>Time:</th>                <td>19:21:12</td>     <th>  Pearson chi2:      </th> <td>1.15e+16</td>\n",
       "</tr>\n",
       "<tr>\n",
       "  <th>No. Iterations:</th>          <td>7</td>        <th>  Pseudo R-squ. (CS):</th>  <td>0.1474</td> \n",
       "</tr>\n",
       "<tr>\n",
       "  <th>Covariance Type:</th>     <td>nonrobust</td>    <th>                     </th>     <td> </td>   \n",
       "</tr>\n",
       "</table>\n",
       "<table class=\"simpletable\">\n",
       "<tr>\n",
       "      <td></td>         <th>coef</th>     <th>std err</th>      <th>z</th>      <th>P>|z|</th>  <th>[0.025</th>    <th>0.975]</th>  \n",
       "</tr>\n",
       "<tr>\n",
       "  <th>const</th>     <td>   -2.8108</td> <td>    0.025</td> <td> -111.207</td> <td> 0.000</td> <td>   -2.860</td> <td>   -2.761</td>\n",
       "</tr>\n",
       "<tr>\n",
       "  <th>loc</th>       <td>    0.0281</td> <td>    0.000</td> <td>   60.939</td> <td> 0.000</td> <td>    0.027</td> <td>    0.029</td>\n",
       "</tr>\n",
       "<tr>\n",
       "  <th>ev(g)</th>     <td>    0.0149</td> <td>    0.003</td> <td>    5.929</td> <td> 0.000</td> <td>    0.010</td> <td>    0.020</td>\n",
       "</tr>\n",
       "<tr>\n",
       "  <th>iv(g)</th>     <td>    0.0182</td> <td>    0.004</td> <td>    4.936</td> <td> 0.000</td> <td>    0.011</td> <td>    0.025</td>\n",
       "</tr>\n",
       "<tr>\n",
       "  <th>n</th>         <td>   -0.0040</td> <td>    0.000</td> <td>  -27.189</td> <td> 0.000</td> <td>   -0.004</td> <td>   -0.004</td>\n",
       "</tr>\n",
       "<tr>\n",
       "  <th>i</th>         <td>    0.0076</td> <td>    0.001</td> <td>   12.925</td> <td> 0.000</td> <td>    0.006</td> <td>    0.009</td>\n",
       "</tr>\n",
       "<tr>\n",
       "  <th>lOComment</th> <td>   -0.0083</td> <td>    0.002</td> <td>   -4.159</td> <td> 0.000</td> <td>   -0.012</td> <td>   -0.004</td>\n",
       "</tr>\n",
       "<tr>\n",
       "  <th>uniq_Op</th>   <td>    0.0430</td> <td>    0.002</td> <td>   24.201</td> <td> 0.000</td> <td>    0.039</td> <td>    0.046</td>\n",
       "</tr>\n",
       "</table>"
      ],
      "text/plain": [
       "<class 'statsmodels.iolib.summary.Summary'>\n",
       "\"\"\"\n",
       "                 Generalized Linear Model Regression Results                  \n",
       "==============================================================================\n",
       "Dep. Variable:                defects   No. Observations:               101763\n",
       "Model:                            GLM   Df Residuals:                   101755\n",
       "Model Family:                Binomial   Df Model:                            7\n",
       "Link Function:                  Logit   Scale:                          1.0000\n",
       "Method:                          IRLS   Log-Likelihood:                -46351.\n",
       "Date:                Sun, 15 Oct 2023   Deviance:                       92703.\n",
       "Time:                        19:21:12   Pearson chi2:                 1.15e+16\n",
       "No. Iterations:                     7   Pseudo R-squ. (CS):             0.1474\n",
       "Covariance Type:            nonrobust                                         \n",
       "==============================================================================\n",
       "                 coef    std err          z      P>|z|      [0.025      0.975]\n",
       "------------------------------------------------------------------------------\n",
       "const         -2.8108      0.025   -111.207      0.000      -2.860      -2.761\n",
       "loc            0.0281      0.000     60.939      0.000       0.027       0.029\n",
       "ev(g)          0.0149      0.003      5.929      0.000       0.010       0.020\n",
       "iv(g)          0.0182      0.004      4.936      0.000       0.011       0.025\n",
       "n             -0.0040      0.000    -27.189      0.000      -0.004      -0.004\n",
       "i              0.0076      0.001     12.925      0.000       0.006       0.009\n",
       "lOComment     -0.0083      0.002     -4.159      0.000      -0.012      -0.004\n",
       "uniq_Op        0.0430      0.002     24.201      0.000       0.039       0.046\n",
       "==============================================================================\n",
       "\"\"\""
      ]
     },
     "execution_count": 70,
     "metadata": {},
     "output_type": "execute_result"
    }
   ],
   "source": [
    "X_train_sm = sm.add_constant(X_train[col])\n",
    "logm5 = sm.GLM(y_train , X_train_sm , family = sm.families.Binomial())\n",
    "res = logm5.fit()\n",
    "res.summary()"
   ]
  },
  {
   "cell_type": "code",
   "execution_count": 71,
   "id": "45cfceb3",
   "metadata": {},
   "outputs": [
    {
     "data": {
      "text/plain": [
       "0    0.169042\n",
       "1    0.134720\n",
       "2    0.125625\n",
       "3    0.102992\n",
       "4    0.106925\n",
       "5    0.186662\n",
       "6    0.182660\n",
       "7    0.127088\n",
       "8    0.223924\n",
       "9    0.105571\n",
       "dtype: float64"
      ]
     },
     "execution_count": 71,
     "metadata": {},
     "output_type": "execute_result"
    }
   ],
   "source": [
    "y_train_pred = res.predict(X_train_sm)\n",
    "y_train_pred[:10]"
   ]
  },
  {
   "cell_type": "code",
   "execution_count": 72,
   "id": "18a1bfb1",
   "metadata": {},
   "outputs": [],
   "source": [
    "y_train_pred_final['defects_Prob'] = y_train_pred"
   ]
  },
  {
   "cell_type": "code",
   "execution_count": 73,
   "id": "03258b32",
   "metadata": {},
   "outputs": [
    {
     "data": {
      "text/html": [
       "<div>\n",
       "<style scoped>\n",
       "    .dataframe tbody tr th:only-of-type {\n",
       "        vertical-align: middle;\n",
       "    }\n",
       "\n",
       "    .dataframe tbody tr th {\n",
       "        vertical-align: top;\n",
       "    }\n",
       "\n",
       "    .dataframe thead th {\n",
       "        text-align: right;\n",
       "    }\n",
       "</style>\n",
       "<table border=\"1\" class=\"dataframe\">\n",
       "  <thead>\n",
       "    <tr style=\"text-align: right;\">\n",
       "      <th></th>\n",
       "      <th>defects</th>\n",
       "      <th>defects_Prob</th>\n",
       "      <th>id</th>\n",
       "      <th>predicted</th>\n",
       "    </tr>\n",
       "  </thead>\n",
       "  <tbody>\n",
       "    <tr>\n",
       "      <th>0</th>\n",
       "      <td>False</td>\n",
       "      <td>0.169042</td>\n",
       "      <td>0</td>\n",
       "      <td>0</td>\n",
       "    </tr>\n",
       "    <tr>\n",
       "      <th>1</th>\n",
       "      <td>False</td>\n",
       "      <td>0.134720</td>\n",
       "      <td>1</td>\n",
       "      <td>0</td>\n",
       "    </tr>\n",
       "    <tr>\n",
       "      <th>2</th>\n",
       "      <td>False</td>\n",
       "      <td>0.125625</td>\n",
       "      <td>2</td>\n",
       "      <td>0</td>\n",
       "    </tr>\n",
       "    <tr>\n",
       "      <th>3</th>\n",
       "      <td>True</td>\n",
       "      <td>0.102992</td>\n",
       "      <td>3</td>\n",
       "      <td>0</td>\n",
       "    </tr>\n",
       "    <tr>\n",
       "      <th>4</th>\n",
       "      <td>False</td>\n",
       "      <td>0.106925</td>\n",
       "      <td>4</td>\n",
       "      <td>0</td>\n",
       "    </tr>\n",
       "  </tbody>\n",
       "</table>\n",
       "</div>"
      ],
      "text/plain": [
       "   defects  defects_Prob  id  predicted\n",
       "0    False      0.169042   0          0\n",
       "1    False      0.134720   1          0\n",
       "2    False      0.125625   2          0\n",
       "3     True      0.102992   3          0\n",
       "4    False      0.106925   4          0"
      ]
     },
     "execution_count": 73,
     "metadata": {},
     "output_type": "execute_result"
    }
   ],
   "source": [
    "# Creating new column 'predicted' with 1 if Converted_Prob > 0.5 else 0\n",
    "y_train_pred_final['predicted'] = y_train_pred_final.defects_Prob.map(lambda x : 1 if x==0.5 else 0)\n",
    "y_train_pred_final.head()"
   ]
  },
  {
   "cell_type": "code",
   "execution_count": 74,
   "id": "98c34a60",
   "metadata": {},
   "outputs": [
    {
     "name": "stdout",
     "output_type": "stream",
     "text": [
      "0.7733557383331859\n"
     ]
    }
   ],
   "source": [
    "# Let's check the overall accuracy.\n",
    "print(metrics.accuracy_score(y_train_pred_final.defects, y_train_pred_final.predicted))"
   ]
  },
  {
   "cell_type": "markdown",
   "id": "3e96627c",
   "metadata": {},
   "source": [
    "#### Checking VIF"
   ]
  },
  {
   "cell_type": "code",
   "execution_count": 75,
   "id": "aaa439eb",
   "metadata": {},
   "outputs": [
    {
     "data": {
      "text/html": [
       "<div>\n",
       "<style scoped>\n",
       "    .dataframe tbody tr th:only-of-type {\n",
       "        vertical-align: middle;\n",
       "    }\n",
       "\n",
       "    .dataframe tbody tr th {\n",
       "        vertical-align: top;\n",
       "    }\n",
       "\n",
       "    .dataframe thead th {\n",
       "        text-align: right;\n",
       "    }\n",
       "</style>\n",
       "<table border=\"1\" class=\"dataframe\">\n",
       "  <thead>\n",
       "    <tr style=\"text-align: right;\">\n",
       "      <th></th>\n",
       "      <th>Features</th>\n",
       "      <th>VIF</th>\n",
       "    </tr>\n",
       "  </thead>\n",
       "  <tbody>\n",
       "    <tr>\n",
       "      <th>0</th>\n",
       "      <td>loc</td>\n",
       "      <td>4.95</td>\n",
       "    </tr>\n",
       "    <tr>\n",
       "      <th>3</th>\n",
       "      <td>n</td>\n",
       "      <td>4.68</td>\n",
       "    </tr>\n",
       "    <tr>\n",
       "      <th>4</th>\n",
       "      <td>i</td>\n",
       "      <td>4.63</td>\n",
       "    </tr>\n",
       "    <tr>\n",
       "      <th>6</th>\n",
       "      <td>uniq_Op</td>\n",
       "      <td>3.75</td>\n",
       "    </tr>\n",
       "    <tr>\n",
       "      <th>2</th>\n",
       "      <td>iv(g)</td>\n",
       "      <td>3.15</td>\n",
       "    </tr>\n",
       "    <tr>\n",
       "      <th>1</th>\n",
       "      <td>ev(g)</td>\n",
       "      <td>2.12</td>\n",
       "    </tr>\n",
       "    <tr>\n",
       "      <th>5</th>\n",
       "      <td>lOComment</td>\n",
       "      <td>1.67</td>\n",
       "    </tr>\n",
       "  </tbody>\n",
       "</table>\n",
       "</div>"
      ],
      "text/plain": [
       "    Features   VIF\n",
       "0        loc  4.95\n",
       "3          n  4.68\n",
       "4          i  4.63\n",
       "6    uniq_Op  3.75\n",
       "2      iv(g)  3.15\n",
       "1      ev(g)  2.12\n",
       "5  lOComment  1.67"
      ]
     },
     "execution_count": 75,
     "metadata": {},
     "output_type": "execute_result"
    }
   ],
   "source": [
    "vif = pd.DataFrame()\n",
    "vif['Features'] = X_train[col].columns\n",
    "vif['VIF'] = [variance_inflation_factor(X_train[col].values, i) for i in range(X_train[col].shape[1])]\n",
    "vif['VIF'] = round(vif['VIF'], 2)\n",
    "vif = vif.sort_values(by = \"VIF\", ascending = False)\n",
    "vif"
   ]
  },
  {
   "cell_type": "markdown",
   "id": "58ec5739",
   "metadata": {},
   "source": [
    "#### All variables have a good value of VIF. So we need not drop any more variables and we can proceed with making predictions using this model only"
   ]
  },
  {
   "cell_type": "code",
   "execution_count": 76,
   "id": "6616c605",
   "metadata": {},
   "outputs": [
    {
     "data": {
      "text/plain": [
       "array([[78699,     0],\n",
       "       [23064,     0]], dtype=int64)"
      ]
     },
     "execution_count": 76,
     "metadata": {},
     "output_type": "execute_result"
    }
   ],
   "source": [
    "# Let's take a look at the confusion matrix again \n",
    "confusion = metrics.confusion_matrix(y_train_pred_final.defects, y_train_pred_final.predicted )\n",
    "confusion"
   ]
  },
  {
   "cell_type": "code",
   "execution_count": 136,
   "id": "41067742",
   "metadata": {},
   "outputs": [
    {
     "name": "stdout",
     "output_type": "stream",
     "text": [
      "Before Correcting Class Imbalance\n",
      "Classification Report                 precision    recall  f1-score   support\n",
      "\n",
      "       False       0.77      1.00      0.87     78699\n",
      "        True       0.00      0.00      0.00     23064\n",
      "\n",
      "    accuracy                           0.77    101763\n",
      "   macro avg       0.39      0.50      0.44    101763\n",
      "weighted avg       0.60      0.77      0.67    101763\n",
      "\n"
     ]
    }
   ],
   "source": [
    "print('Before Correcting Class Imbalance')\n",
    "print('Classification Report  ', classification_report(y_train_pred_final.defects,y_train_pred_final.predicted ))"
   ]
  },
  {
   "cell_type": "markdown",
   "id": "3edd3ee0",
   "metadata": {},
   "source": [
    "# Treating Class Balance Using undersampling Technique and again building model and studying the difference"
   ]
  },
  {
   "cell_type": "code",
   "execution_count": 99,
   "id": "f624ef6d",
   "metadata": {},
   "outputs": [],
   "source": [
    "from imblearn.under_sampling import RandomUnderSampler\n",
    "from collections import Counter\n",
    "from sklearn.metrics import accuracy_score,f1_score,recall_score,confusion_matrix,classification_report,precision_score\n",
    "from sklearn.preprocessing import MinMaxScaler"
   ]
  },
  {
   "cell_type": "code",
   "execution_count": 102,
   "id": "1dc8a464",
   "metadata": {},
   "outputs": [],
   "source": [
    "XX = trainData.drop('defects',axis =1)\n",
    "yy = trainData['defects']"
   ]
  },
  {
   "cell_type": "code",
   "execution_count": 104,
   "id": "eb22e5d9",
   "metadata": {},
   "outputs": [],
   "source": [
    "X_train,X_val,y_train,y_val = train_test_split(XX,yy,test_size=0.3,stratify = yy ,random_state=42)"
   ]
  },
  {
   "cell_type": "code",
   "execution_count": 105,
   "id": "336625bc",
   "metadata": {},
   "outputs": [],
   "source": [
    "scaler = MinMaxScaler()"
   ]
  },
  {
   "cell_type": "code",
   "execution_count": 106,
   "id": "79510e1b",
   "metadata": {},
   "outputs": [],
   "source": [
    "X_train = scaler.fit_transform(X_train)\n",
    "X_val = scaler.transform(X_val)"
   ]
  },
  {
   "cell_type": "code",
   "execution_count": 107,
   "id": "6cbd5ed3",
   "metadata": {},
   "outputs": [
    {
     "data": {
      "text/plain": [
       "46128"
      ]
     },
     "execution_count": 107,
     "metadata": {},
     "output_type": "execute_result"
    }
   ],
   "source": [
    "under_sampler = RandomUnderSampler(random_state = 45)\n",
    "X_sampled_us , y_sampled_us = under_sampler.fit_resample(XX,yy)\n",
    "len(X_sampled_us)"
   ]
  },
  {
   "cell_type": "code",
   "execution_count": 108,
   "id": "be24c40a",
   "metadata": {},
   "outputs": [
    {
     "name": "stdout",
     "output_type": "stream",
     "text": [
      "[(False, 23064), (True, 23064)]\n"
     ]
    }
   ],
   "source": [
    "print(sorted(Counter(y_sampled_us).items()))"
   ]
  },
  {
   "cell_type": "code",
   "execution_count": 109,
   "id": "d9953c3e",
   "metadata": {},
   "outputs": [],
   "source": [
    "logreg = LogisticRegression()"
   ]
  },
  {
   "cell_type": "code",
   "execution_count": 110,
   "id": "d93dd3e7",
   "metadata": {},
   "outputs": [],
   "source": [
    "X_train = X_sampled_us \n",
    "y_train = y_sampled_us"
   ]
  },
  {
   "cell_type": "code",
   "execution_count": 111,
   "id": "f3a3958f",
   "metadata": {},
   "outputs": [
    {
     "data": {
      "text/plain": [
       "((46128, 22), (46128,))"
      ]
     },
     "execution_count": 111,
     "metadata": {},
     "output_type": "execute_result"
    }
   ],
   "source": [
    "X_train.shape , y_train.shape"
   ]
  },
  {
   "cell_type": "code",
   "execution_count": 112,
   "id": "4ac9baf4",
   "metadata": {},
   "outputs": [
    {
     "data": {
      "text/html": [
       "<style>#sk-container-id-4 {color: black;}#sk-container-id-4 pre{padding: 0;}#sk-container-id-4 div.sk-toggleable {background-color: white;}#sk-container-id-4 label.sk-toggleable__label {cursor: pointer;display: block;width: 100%;margin-bottom: 0;padding: 0.3em;box-sizing: border-box;text-align: center;}#sk-container-id-4 label.sk-toggleable__label-arrow:before {content: \"▸\";float: left;margin-right: 0.25em;color: #696969;}#sk-container-id-4 label.sk-toggleable__label-arrow:hover:before {color: black;}#sk-container-id-4 div.sk-estimator:hover label.sk-toggleable__label-arrow:before {color: black;}#sk-container-id-4 div.sk-toggleable__content {max-height: 0;max-width: 0;overflow: hidden;text-align: left;background-color: #f0f8ff;}#sk-container-id-4 div.sk-toggleable__content pre {margin: 0.2em;color: black;border-radius: 0.25em;background-color: #f0f8ff;}#sk-container-id-4 input.sk-toggleable__control:checked~div.sk-toggleable__content {max-height: 200px;max-width: 100%;overflow: auto;}#sk-container-id-4 input.sk-toggleable__control:checked~label.sk-toggleable__label-arrow:before {content: \"▾\";}#sk-container-id-4 div.sk-estimator input.sk-toggleable__control:checked~label.sk-toggleable__label {background-color: #d4ebff;}#sk-container-id-4 div.sk-label input.sk-toggleable__control:checked~label.sk-toggleable__label {background-color: #d4ebff;}#sk-container-id-4 input.sk-hidden--visually {border: 0;clip: rect(1px 1px 1px 1px);clip: rect(1px, 1px, 1px, 1px);height: 1px;margin: -1px;overflow: hidden;padding: 0;position: absolute;width: 1px;}#sk-container-id-4 div.sk-estimator {font-family: monospace;background-color: #f0f8ff;border: 1px dotted black;border-radius: 0.25em;box-sizing: border-box;margin-bottom: 0.5em;}#sk-container-id-4 div.sk-estimator:hover {background-color: #d4ebff;}#sk-container-id-4 div.sk-parallel-item::after {content: \"\";width: 100%;border-bottom: 1px solid gray;flex-grow: 1;}#sk-container-id-4 div.sk-label:hover label.sk-toggleable__label {background-color: #d4ebff;}#sk-container-id-4 div.sk-serial::before {content: \"\";position: absolute;border-left: 1px solid gray;box-sizing: border-box;top: 0;bottom: 0;left: 50%;z-index: 0;}#sk-container-id-4 div.sk-serial {display: flex;flex-direction: column;align-items: center;background-color: white;padding-right: 0.2em;padding-left: 0.2em;position: relative;}#sk-container-id-4 div.sk-item {position: relative;z-index: 1;}#sk-container-id-4 div.sk-parallel {display: flex;align-items: stretch;justify-content: center;background-color: white;position: relative;}#sk-container-id-4 div.sk-item::before, #sk-container-id-4 div.sk-parallel-item::before {content: \"\";position: absolute;border-left: 1px solid gray;box-sizing: border-box;top: 0;bottom: 0;left: 50%;z-index: -1;}#sk-container-id-4 div.sk-parallel-item {display: flex;flex-direction: column;z-index: 1;position: relative;background-color: white;}#sk-container-id-4 div.sk-parallel-item:first-child::after {align-self: flex-end;width: 50%;}#sk-container-id-4 div.sk-parallel-item:last-child::after {align-self: flex-start;width: 50%;}#sk-container-id-4 div.sk-parallel-item:only-child::after {width: 0;}#sk-container-id-4 div.sk-dashed-wrapped {border: 1px dashed gray;margin: 0 0.4em 0.5em 0.4em;box-sizing: border-box;padding-bottom: 0.4em;background-color: white;}#sk-container-id-4 div.sk-label label {font-family: monospace;font-weight: bold;display: inline-block;line-height: 1.2em;}#sk-container-id-4 div.sk-label-container {text-align: center;}#sk-container-id-4 div.sk-container {/* jupyter's `normalize.less` sets `[hidden] { display: none; }` but bootstrap.min.css set `[hidden] { display: none !important; }` so we also need the `!important` here to be able to override the default hidden behavior on the sphinx rendered scikit-learn.org. See: https://github.com/scikit-learn/scikit-learn/issues/21755 */display: inline-block !important;position: relative;}#sk-container-id-4 div.sk-text-repr-fallback {display: none;}</style><div id=\"sk-container-id-4\" class=\"sk-top-container\"><div class=\"sk-text-repr-fallback\"><pre>LogisticRegression()</pre><b>In a Jupyter environment, please rerun this cell to show the HTML representation or trust the notebook. <br />On GitHub, the HTML representation is unable to render, please try loading this page with nbviewer.org.</b></div><div class=\"sk-container\" hidden><div class=\"sk-item\"><div class=\"sk-estimator sk-toggleable\"><input class=\"sk-toggleable__control sk-hidden--visually\" id=\"sk-estimator-id-6\" type=\"checkbox\" checked><label for=\"sk-estimator-id-6\" class=\"sk-toggleable__label sk-toggleable__label-arrow\">LogisticRegression</label><div class=\"sk-toggleable__content\"><pre>LogisticRegression()</pre></div></div></div></div></div>"
      ],
      "text/plain": [
       "LogisticRegression()"
      ]
     },
     "execution_count": 112,
     "metadata": {},
     "output_type": "execute_result"
    }
   ],
   "source": [
    "logreg.fit(X_train,y_train)"
   ]
  },
  {
   "cell_type": "code",
   "execution_count": 113,
   "id": "af6be091",
   "metadata": {},
   "outputs": [],
   "source": [
    "y_pred_train_cs = logreg.predict(X_train)"
   ]
  },
  {
   "cell_type": "code",
   "execution_count": 114,
   "id": "6d793ab4",
   "metadata": {},
   "outputs": [
    {
     "name": "stdout",
     "output_type": "stream",
     "text": [
      "After Correcting Class Imbalance\n",
      "Classification Report                 precision    recall  f1-score   support\n",
      "\n",
      "       False       0.67      0.65      0.66     23064\n",
      "        True       0.66      0.69      0.67     23064\n",
      "\n",
      "    accuracy                           0.67     46128\n",
      "   macro avg       0.67      0.67      0.67     46128\n",
      "weighted avg       0.67      0.67      0.67     46128\n",
      "\n"
     ]
    }
   ],
   "source": [
    "print('After Correcting Class Imbalance')\n",
    "# print('Accuracy score  ', accuracy_score(y_train,y_pred_train))\n",
    "print('Classification Report  ', classification_report(y_train,y_pred_train_cs))"
   ]
  },
  {
   "cell_type": "code",
   "execution_count": 122,
   "id": "b99d3b7a",
   "metadata": {},
   "outputs": [
    {
     "name": "stdout",
     "output_type": "stream",
     "text": [
      "roc_curve  0.6675771765522026\n"
     ]
    }
   ],
   "source": [
    "print('roc_curve ',metrics.roc_auc_score(y_train,y_pred_train_cs))"
   ]
  },
  {
   "cell_type": "markdown",
   "id": "b3219523",
   "metadata": {},
   "source": [
    "### testing on unseen data"
   ]
  },
  {
   "cell_type": "code",
   "execution_count": 134,
   "id": "49eb9054",
   "metadata": {},
   "outputs": [],
   "source": [
    "y_pred_test_cs = logreg.predict(X_val)"
   ]
  },
  {
   "cell_type": "code",
   "execution_count": 135,
   "id": "e6feee50",
   "metadata": {},
   "outputs": [
    {
     "name": "stdout",
     "output_type": "stream",
     "text": [
      "After Correcting Class Imbalance\n",
      "Classification Report                 precision    recall  f1-score   support\n",
      "\n",
      "       False       0.90      0.67      0.76     23610\n",
      "        True       0.39      0.74      0.51      6919\n",
      "\n",
      "    accuracy                           0.68     30529\n",
      "   macro avg       0.64      0.70      0.64     30529\n",
      "weighted avg       0.78      0.68      0.71     30529\n",
      "\n",
      "roc_curve  0.7006914371104519\n"
     ]
    }
   ],
   "source": [
    "print('After Correcting Class Imbalance')\n",
    "# print('Accuracy score  ', accuracy_score(y_train,y_pred_train))\n",
    "print('Classification Report  ', classification_report(y_val,y_pred_test_cs))\n",
    "print('roc_curve ',metrics.roc_auc_score(y_val,y_pred_test_cs))"
   ]
  },
  {
   "cell_type": "code",
   "execution_count": 137,
   "id": "f2827a15",
   "metadata": {},
   "outputs": [
    {
     "data": {
      "text/plain": [
       "array([False, False, False, ...,  True, False,  True])"
      ]
     },
     "execution_count": 137,
     "metadata": {},
     "output_type": "execute_result"
    }
   ],
   "source": [
    "y_pred_test_cs"
   ]
  },
  {
   "cell_type": "markdown",
   "id": "085dc101",
   "metadata": {},
   "source": [
    "# Step 9: Plotting the ROC Curve"
   ]
  },
  {
   "cell_type": "code",
   "execution_count": 123,
   "id": "5dc3f0d9",
   "metadata": {},
   "outputs": [],
   "source": [
    "def draw_roc( actual, probs ):\n",
    "    fpr, tpr, thresholds = metrics.roc_curve( actual, probs,\n",
    "                                              drop_intermediate = False )\n",
    "    auc_score = metrics.roc_auc_score( actual, probs )\n",
    "    plt.figure(figsize=(5, 5))\n",
    "    plt.plot( fpr, tpr, label='ROC curve (area = %0.2f)' % auc_score )\n",
    "    plt.plot([0, 1], [0, 1], 'k--')\n",
    "    plt.xlim([0.0, 1.0])\n",
    "    plt.ylim([0.0, 1.05])\n",
    "    plt.xlabel('False Positive Rate or [1 - True Negative Rate]')\n",
    "    plt.ylabel('True Positive Rate')\n",
    "    plt.title('Receiver operating characteristic example')\n",
    "    plt.legend(loc=\"lower right\")\n",
    "    plt.show()\n",
    "\n",
    "    return None"
   ]
  },
  {
   "cell_type": "code",
   "execution_count": 124,
   "id": "c3931d3c",
   "metadata": {},
   "outputs": [],
   "source": [
    "fpr, tpr, thresholds = metrics.roc_curve( y_train_pred_final.defects, y_train_pred_final.defects_Prob, drop_intermediate = False )"
   ]
  },
  {
   "cell_type": "code",
   "execution_count": 125,
   "id": "6c13930c",
   "metadata": {},
   "outputs": [
    {
     "data": {
      "image/png": "[encoded data removed]",
      "text/plain": [
       "<Figure size 500x500 with 1 Axes>"
      ]
     },
     "metadata": {},
     "output_type": "display_data"
    }
   ],
   "source": [
    "draw_roc(y_train_pred_final.defects, y_train_pred_final.defects_Prob)"
   ]
  },
  {
   "cell_type": "code",
   "execution_count": 126,
   "id": "5b7e6b2b",
   "metadata": {},
   "outputs": [
    {
     "name": "stdout",
     "output_type": "stream",
     "text": [
      "roc_curve  0.778763537493278\n"
     ]
    }
   ],
   "source": [
    "print('roc_curve ',metrics.roc_auc_score(y_train_pred_final.defects,y_train_pred_final.defects_Prob))"
   ]
  },
  {
   "cell_type": "code",
   "execution_count": null,
   "id": "4e467df5",
   "metadata": {},
   "outputs": [],
   "source": []
  },
  {
   "cell_type": "code",
   "execution_count": 67,
   "id": "3ded0daf",
   "metadata": {},
   "outputs": [
    {
     "data": {
      "text/html": [
       "<div>\n",
       "<style scoped>\n",
       "    .dataframe tbody tr th:only-of-type {\n",
       "        vertical-align: middle;\n",
       "    }\n",
       "\n",
       "    .dataframe tbody tr th {\n",
       "        vertical-align: top;\n",
       "    }\n",
       "\n",
       "    .dataframe thead th {\n",
       "        text-align: right;\n",
       "    }\n",
       "</style>\n",
       "<table border=\"1\" class=\"dataframe\">\n",
       "  <thead>\n",
       "    <tr style=\"text-align: right;\">\n",
       "      <th></th>\n",
       "      <th>defects</th>\n",
       "      <th>defects_Prob</th>\n",
       "      <th>id</th>\n",
       "      <th>predicted</th>\n",
       "      <th>0.0</th>\n",
       "      <th>0.1</th>\n",
       "      <th>0.2</th>\n",
       "      <th>0.3</th>\n",
       "      <th>0.4</th>\n",
       "      <th>0.5</th>\n",
       "      <th>0.6</th>\n",
       "      <th>0.7</th>\n",
       "      <th>0.8</th>\n",
       "      <th>0.9</th>\n",
       "    </tr>\n",
       "  </thead>\n",
       "  <tbody>\n",
       "    <tr>\n",
       "      <th>0</th>\n",
       "      <td>False</td>\n",
       "      <td>0.169042</td>\n",
       "      <td>0</td>\n",
       "      <td>0</td>\n",
       "      <td>1</td>\n",
       "      <td>1</td>\n",
       "      <td>0</td>\n",
       "      <td>0</td>\n",
       "      <td>0</td>\n",
       "      <td>0</td>\n",
       "      <td>0</td>\n",
       "      <td>0</td>\n",
       "      <td>0</td>\n",
       "      <td>0</td>\n",
       "    </tr>\n",
       "    <tr>\n",
       "      <th>1</th>\n",
       "      <td>False</td>\n",
       "      <td>0.134720</td>\n",
       "      <td>1</td>\n",
       "      <td>0</td>\n",
       "      <td>1</td>\n",
       "      <td>1</td>\n",
       "      <td>0</td>\n",
       "      <td>0</td>\n",
       "      <td>0</td>\n",
       "      <td>0</td>\n",
       "      <td>0</td>\n",
       "      <td>0</td>\n",
       "      <td>0</td>\n",
       "      <td>0</td>\n",
       "    </tr>\n",
       "    <tr>\n",
       "      <th>2</th>\n",
       "      <td>False</td>\n",
       "      <td>0.125625</td>\n",
       "      <td>2</td>\n",
       "      <td>0</td>\n",
       "      <td>1</td>\n",
       "      <td>1</td>\n",
       "      <td>0</td>\n",
       "      <td>0</td>\n",
       "      <td>0</td>\n",
       "      <td>0</td>\n",
       "      <td>0</td>\n",
       "      <td>0</td>\n",
       "      <td>0</td>\n",
       "      <td>0</td>\n",
       "    </tr>\n",
       "    <tr>\n",
       "      <th>3</th>\n",
       "      <td>True</td>\n",
       "      <td>0.102992</td>\n",
       "      <td>3</td>\n",
       "      <td>0</td>\n",
       "      <td>1</td>\n",
       "      <td>1</td>\n",
       "      <td>0</td>\n",
       "      <td>0</td>\n",
       "      <td>0</td>\n",
       "      <td>0</td>\n",
       "      <td>0</td>\n",
       "      <td>0</td>\n",
       "      <td>0</td>\n",
       "      <td>0</td>\n",
       "    </tr>\n",
       "    <tr>\n",
       "      <th>4</th>\n",
       "      <td>False</td>\n",
       "      <td>0.106925</td>\n",
       "      <td>4</td>\n",
       "      <td>0</td>\n",
       "      <td>1</td>\n",
       "      <td>1</td>\n",
       "      <td>0</td>\n",
       "      <td>0</td>\n",
       "      <td>0</td>\n",
       "      <td>0</td>\n",
       "      <td>0</td>\n",
       "      <td>0</td>\n",
       "      <td>0</td>\n",
       "      <td>0</td>\n",
       "    </tr>\n",
       "  </tbody>\n",
       "</table>\n",
       "</div>"
      ],
      "text/plain": [
       "   defects  defects_Prob  id  predicted  0.0  0.1  0.2  0.3  0.4  0.5  0.6  \\\n",
       "0    False      0.169042   0          0    1    1    0    0    0    0    0   \n",
       "1    False      0.134720   1          0    1    1    0    0    0    0    0   \n",
       "2    False      0.125625   2          0    1    1    0    0    0    0    0   \n",
       "3     True      0.102992   3          0    1    1    0    0    0    0    0   \n",
       "4    False      0.106925   4          0    1    1    0    0    0    0    0   \n",
       "\n",
       "   0.7  0.8  0.9  \n",
       "0    0    0    0  \n",
       "1    0    0    0  \n",
       "2    0    0    0  \n",
       "3    0    0    0  \n",
       "4    0    0    0  "
      ]
     },
     "execution_count": 67,
     "metadata": {},
     "output_type": "execute_result"
    }
   ],
   "source": [
    "# Let's create columns with different probability cutoffs \n",
    "numbers = [float(x)/10 for x in range(10)]\n",
    "for i in numbers:\n",
    "    y_train_pred_final[i]= y_train_pred_final.defects_Prob.map(lambda x: 1 if x > i else 0)\n",
    "y_train_pred_final.head()"
   ]
  },
  {
   "cell_type": "code",
   "execution_count": 68,
   "id": "43687de1",
   "metadata": {},
   "outputs": [
    {
     "name": "stdout",
     "output_type": "stream",
     "text": [
      "     prob  accuracy     sensi     speci\n",
      "0.0   0.0  0.226644  1.000000  0.000000\n",
      "0.1   0.1  0.314378  0.965704  0.123496\n",
      "0.2   0.2  0.732683  0.694979  0.743732\n",
      "0.3   0.3  0.805096  0.489898  0.897470\n",
      "0.4   0.4  0.812584  0.354275  0.946899\n",
      "0.5   0.5  0.807563  0.256547  0.969047\n",
      "0.6   0.6  0.799406  0.182232  0.980279\n",
      "0.7   0.7  0.792724  0.131374  0.986544\n",
      "0.8   0.8  0.786602  0.087496  0.991487\n",
      "0.9   0.9  0.782161  0.055541  0.995108\n"
     ]
    }
   ],
   "source": [
    "# Now let's calculate accuracy sensitivity and specificity for various probability cutoffs.\n",
    "cutoff_df = pd.DataFrame( columns = ['prob','accuracy','sensi','speci'])\n",
    "\n",
    "# TP = confusion[1,1] # true positive \n",
    "# TN = confusion[0,0] # true negatives\n",
    "# FP = confusion[0,1] # false positives\n",
    "# FN = confusion[1,0] # false negatives\n",
    "\n",
    "num = [0.0,0.1,0.2,0.3,0.4,0.5,0.6,0.7,0.8,0.9]\n",
    "for i in num:\n",
    "    cm1 = metrics.confusion_matrix(y_train_pred_final.defects, y_train_pred_final[i] )\n",
    "    total1=sum(sum(cm1))\n",
    "    accuracy = (cm1[0,0]+cm1[1,1])/total1\n",
    "    \n",
    "    speci = cm1[0,0]/(cm1[0,0]+cm1[0,1])\n",
    "    sensi = cm1[1,1]/(cm1[1,0]+cm1[1,1])\n",
    "    cutoff_df.loc[i] =[ i ,accuracy,sensi,speci]\n",
    "print(cutoff_df)"
   ]
  },
  {
   "cell_type": "code",
   "execution_count": 69,
   "id": "f4f94493",
   "metadata": {},
   "outputs": [
    {
     "data": {
      "image/png": "[encoded data removed]",
      "text/plain": [
       "<Figure size 640x480 with 1 Axes>"
      ]
     },
     "metadata": {},
     "output_type": "display_data"
    }
   ],
   "source": [
    "# Let's plot accuracy sensitivity and specificity for various probabilities.\n",
    "cutoff_df.plot.line(x='prob', y=['accuracy','sensi','speci'])\n",
    "plt.show()"
   ]
  },
  {
   "cell_type": "code",
   "execution_count": null,
   "id": "a19770f7",
   "metadata": {},
   "outputs": [],
   "source": []
  },
  {
   "cell_type": "code",
   "execution_count": 70,
   "id": "70384e71",
   "metadata": {},
   "outputs": [
    {
     "data": {
      "text/html": [
       "<div>\n",
       "<style scoped>\n",
       "    .dataframe tbody tr th:only-of-type {\n",
       "        vertical-align: middle;\n",
       "    }\n",
       "\n",
       "    .dataframe tbody tr th {\n",
       "        vertical-align: top;\n",
       "    }\n",
       "\n",
       "    .dataframe thead th {\n",
       "        text-align: right;\n",
       "    }\n",
       "</style>\n",
       "<table border=\"1\" class=\"dataframe\">\n",
       "  <thead>\n",
       "    <tr style=\"text-align: right;\">\n",
       "      <th></th>\n",
       "      <th>defects</th>\n",
       "      <th>defects_Prob</th>\n",
       "      <th>id</th>\n",
       "      <th>predicted</th>\n",
       "      <th>0.0</th>\n",
       "      <th>0.1</th>\n",
       "      <th>0.2</th>\n",
       "      <th>0.3</th>\n",
       "      <th>0.4</th>\n",
       "      <th>0.5</th>\n",
       "      <th>0.6</th>\n",
       "      <th>0.7</th>\n",
       "      <th>0.8</th>\n",
       "      <th>0.9</th>\n",
       "      <th>final_predicted</th>\n",
       "    </tr>\n",
       "  </thead>\n",
       "  <tbody>\n",
       "    <tr>\n",
       "      <th>0</th>\n",
       "      <td>False</td>\n",
       "      <td>0.169042</td>\n",
       "      <td>0</td>\n",
       "      <td>0</td>\n",
       "      <td>1</td>\n",
       "      <td>1</td>\n",
       "      <td>0</td>\n",
       "      <td>0</td>\n",
       "      <td>0</td>\n",
       "      <td>0</td>\n",
       "      <td>0</td>\n",
       "      <td>0</td>\n",
       "      <td>0</td>\n",
       "      <td>0</td>\n",
       "      <td>0</td>\n",
       "    </tr>\n",
       "    <tr>\n",
       "      <th>1</th>\n",
       "      <td>False</td>\n",
       "      <td>0.134720</td>\n",
       "      <td>1</td>\n",
       "      <td>0</td>\n",
       "      <td>1</td>\n",
       "      <td>1</td>\n",
       "      <td>0</td>\n",
       "      <td>0</td>\n",
       "      <td>0</td>\n",
       "      <td>0</td>\n",
       "      <td>0</td>\n",
       "      <td>0</td>\n",
       "      <td>0</td>\n",
       "      <td>0</td>\n",
       "      <td>0</td>\n",
       "    </tr>\n",
       "    <tr>\n",
       "      <th>2</th>\n",
       "      <td>False</td>\n",
       "      <td>0.125625</td>\n",
       "      <td>2</td>\n",
       "      <td>0</td>\n",
       "      <td>1</td>\n",
       "      <td>1</td>\n",
       "      <td>0</td>\n",
       "      <td>0</td>\n",
       "      <td>0</td>\n",
       "      <td>0</td>\n",
       "      <td>0</td>\n",
       "      <td>0</td>\n",
       "      <td>0</td>\n",
       "      <td>0</td>\n",
       "      <td>0</td>\n",
       "    </tr>\n",
       "    <tr>\n",
       "      <th>3</th>\n",
       "      <td>True</td>\n",
       "      <td>0.102992</td>\n",
       "      <td>3</td>\n",
       "      <td>0</td>\n",
       "      <td>1</td>\n",
       "      <td>1</td>\n",
       "      <td>0</td>\n",
       "      <td>0</td>\n",
       "      <td>0</td>\n",
       "      <td>0</td>\n",
       "      <td>0</td>\n",
       "      <td>0</td>\n",
       "      <td>0</td>\n",
       "      <td>0</td>\n",
       "      <td>0</td>\n",
       "    </tr>\n",
       "    <tr>\n",
       "      <th>4</th>\n",
       "      <td>False</td>\n",
       "      <td>0.106925</td>\n",
       "      <td>4</td>\n",
       "      <td>0</td>\n",
       "      <td>1</td>\n",
       "      <td>1</td>\n",
       "      <td>0</td>\n",
       "      <td>0</td>\n",
       "      <td>0</td>\n",
       "      <td>0</td>\n",
       "      <td>0</td>\n",
       "      <td>0</td>\n",
       "      <td>0</td>\n",
       "      <td>0</td>\n",
       "      <td>0</td>\n",
       "    </tr>\n",
       "  </tbody>\n",
       "</table>\n",
       "</div>"
      ],
      "text/plain": [
       "   defects  defects_Prob  id  predicted  0.0  0.1  0.2  0.3  0.4  0.5  0.6  \\\n",
       "0    False      0.169042   0          0    1    1    0    0    0    0    0   \n",
       "1    False      0.134720   1          0    1    1    0    0    0    0    0   \n",
       "2    False      0.125625   2          0    1    1    0    0    0    0    0   \n",
       "3     True      0.102992   3          0    1    1    0    0    0    0    0   \n",
       "4    False      0.106925   4          0    1    1    0    0    0    0    0   \n",
       "\n",
       "   0.7  0.8  0.9  final_predicted  \n",
       "0    0    0    0                0  \n",
       "1    0    0    0                0  \n",
       "2    0    0    0                0  \n",
       "3    0    0    0                0  \n",
       "4    0    0    0                0  "
      ]
     },
     "execution_count": 70,
     "metadata": {},
     "output_type": "execute_result"
    }
   ],
   "source": [
    "y_train_pred_final['final_predicted'] = y_train_pred_final.defects_Prob.map( lambda x: 1 if x > 0.2 else 0)\n",
    "y_train_pred_final.head()"
   ]
  },
  {
   "cell_type": "code",
   "execution_count": 71,
   "id": "f8b73066",
   "metadata": {},
   "outputs": [
    {
     "data": {
      "text/plain": [
       "0.7326828021972622"
      ]
     },
     "execution_count": 71,
     "metadata": {},
     "output_type": "execute_result"
    }
   ],
   "source": [
    "# Let's check the overall accuracy.\n",
    "metrics.accuracy_score(y_train_pred_final.defects, y_train_pred_final.final_predicted)"
   ]
  },
  {
   "cell_type": "code",
   "execution_count": 72,
   "id": "d8ed05c0",
   "metadata": {},
   "outputs": [
    {
     "data": {
      "text/plain": [
       "array([[58531, 20168],\n",
       "       [ 7035, 16029]], dtype=int64)"
      ]
     },
     "execution_count": 72,
     "metadata": {},
     "output_type": "execute_result"
    }
   ],
   "source": [
    "confusion2 = metrics.confusion_matrix(y_train_pred_final.defects, y_train_pred_final.final_predicted )\n",
    "confusion2"
   ]
  },
  {
   "cell_type": "code",
   "execution_count": 73,
   "id": "be203e04",
   "metadata": {},
   "outputs": [],
   "source": [
    "TP = confusion2[1,1] # true positive TP\n",
    "TN = confusion2[0,0] # true negatives TN\n",
    "FP = confusion2[0,1] # false positives FP\n",
    "FN = confusion2[1,0] # false negatives FN"
   ]
  },
  {
   "cell_type": "code",
   "execution_count": 74,
   "id": "696ec803",
   "metadata": {},
   "outputs": [
    {
     "data": {
      "text/plain": [
       "0.6949791883454735"
      ]
     },
     "execution_count": 74,
     "metadata": {},
     "output_type": "execute_result"
    }
   ],
   "source": [
    "# Let's see the sensitivity of our logistic regression model\n",
    "TP / float(TP+FN)"
   ]
  },
  {
   "cell_type": "code",
   "execution_count": 75,
   "id": "c10fed14",
   "metadata": {},
   "outputs": [
    {
     "data": {
      "text/plain": [
       "0.7437324489510667"
      ]
     },
     "execution_count": 75,
     "metadata": {},
     "output_type": "execute_result"
    }
   ],
   "source": [
    "# Let us calculate specificity\n",
    "TN / float(TN+FP)"
   ]
  },
  {
   "cell_type": "code",
   "execution_count": 76,
   "id": "0768a093",
   "metadata": {},
   "outputs": [
    {
     "name": "stdout",
     "output_type": "stream",
     "text": [
      "0.2562675510489333\n"
     ]
    }
   ],
   "source": [
    "# Calculate false postive rate - predicting churn when customer does not have churned\n",
    "print(FP/ float(TN+FP))"
   ]
  },
  {
   "cell_type": "code",
   "execution_count": 77,
   "id": "c56b80f4",
   "metadata": {},
   "outputs": [
    {
     "name": "stdout",
     "output_type": "stream",
     "text": [
      "0.4428267535983645\n"
     ]
    }
   ],
   "source": [
    "# Positive predictive value \n",
    "print (TP / float(TP+FP))"
   ]
  },
  {
   "cell_type": "code",
   "execution_count": 78,
   "id": "bba8cb8a",
   "metadata": {},
   "outputs": [
    {
     "name": "stdout",
     "output_type": "stream",
     "text": [
      "0.8927035353689412\n"
     ]
    }
   ],
   "source": [
    "# Negative predictive value\n",
    "print (TN / float(TN+ FN))"
   ]
  },
  {
   "cell_type": "markdown",
   "id": "4bc56612",
   "metadata": {},
   "source": [
    "#### Recall and Percision"
   ]
  },
  {
   "cell_type": "code",
   "execution_count": 79,
   "id": "a7a9a830",
   "metadata": {},
   "outputs": [
    {
     "data": {
      "text/plain": [
       "array([[78699,     0],\n",
       "       [23064,     0]], dtype=int64)"
      ]
     },
     "execution_count": 79,
     "metadata": {},
     "output_type": "execute_result"
    }
   ],
   "source": [
    "#Looking at the confusion matrix again\n",
    "confusion = metrics.confusion_matrix(y_train_pred_final.defects, y_train_pred_final.predicted )\n",
    "confusion"
   ]
  },
  {
   "cell_type": "code",
   "execution_count": 80,
   "id": "2b682c51",
   "metadata": {},
   "outputs": [
    {
     "data": {
      "text/plain": [
       "0.0"
      ]
     },
     "execution_count": 80,
     "metadata": {},
     "output_type": "execute_result"
    }
   ],
   "source": [
    "precision = precision_score(y_train_pred_final.defects, y_train_pred_final.predicted)\n",
    "precision"
   ]
  },
  {
   "cell_type": "code",
   "execution_count": 81,
   "id": "fe6c24c4",
   "metadata": {},
   "outputs": [
    {
     "data": {
      "text/plain": [
       "0.0"
      ]
     },
     "execution_count": 81,
     "metadata": {},
     "output_type": "execute_result"
    }
   ],
   "source": [
    "recall = recall_score(y_train_pred_final.defects, y_train_pred_final.predicted)\n",
    "recall"
   ]
  },
  {
   "cell_type": "code",
   "execution_count": 82,
   "id": "b7a3aa95",
   "metadata": {},
   "outputs": [
    {
     "data": {
      "text/plain": [
       "nan"
      ]
     },
     "execution_count": 82,
     "metadata": {},
     "output_type": "execute_result"
    }
   ],
   "source": [
    "f1_score = 2 * (precision*recall)/(precision+recall)\n",
    "f1_score"
   ]
  },
  {
   "cell_type": "code",
   "execution_count": null,
   "id": "c29173c1",
   "metadata": {},
   "outputs": [],
   "source": []
  },
  {
   "cell_type": "code",
   "execution_count": 83,
   "id": "270ba802",
   "metadata": {},
   "outputs": [
    {
     "data": {
      "text/plain": [
       "(0         False\n",
       " 1         False\n",
       " 2         False\n",
       " 3          True\n",
       " 4         False\n",
       "           ...  \n",
       " 101758    False\n",
       " 101759    False\n",
       " 101760    False\n",
       " 101761    False\n",
       " 101762    False\n",
       " Name: defects, Length: 101763, dtype: bool,\n",
       " 0         0\n",
       " 1         0\n",
       " 2         0\n",
       " 3         0\n",
       " 4         0\n",
       "          ..\n",
       " 101758    0\n",
       " 101759    0\n",
       " 101760    0\n",
       " 101761    0\n",
       " 101762    0\n",
       " Name: predicted, Length: 101763, dtype: int64)"
      ]
     },
     "execution_count": 83,
     "metadata": {},
     "output_type": "execute_result"
    }
   ],
   "source": [
    "y_train_pred_final.defects, y_train_pred_final.predicted"
   ]
  },
  {
   "cell_type": "code",
   "execution_count": 84,
   "id": "e4065d31",
   "metadata": {},
   "outputs": [],
   "source": [
    "p, r, thresholds = precision_recall_curve(y_train_pred_final.defects, y_train_pred_final.defects_Prob)"
   ]
  },
  {
   "cell_type": "code",
   "execution_count": 85,
   "id": "c38e3a2e",
   "metadata": {},
   "outputs": [
    {
     "data": {
      "image/png": "[encoded data removed]",
      "text/plain": [
       "<Figure size 640x480 with 1 Axes>"
      ]
     },
     "metadata": {},
     "output_type": "display_data"
    }
   ],
   "source": [
    "plt.plot(thresholds, p[:-1], \"g-\")\n",
    "plt.plot(thresholds, r[:-1], \"r-\")\n",
    "plt.show()"
   ]
  },
  {
   "cell_type": "markdown",
   "id": "32845d8d",
   "metadata": {},
   "source": [
    "#### Predicting on test set"
   ]
  },
  {
   "cell_type": "code",
   "execution_count": 86,
   "id": "4ca61e9e",
   "metadata": {},
   "outputs": [
    {
     "data": {
      "text/plain": [
       "(67842, 21)"
      ]
     },
     "execution_count": 86,
     "metadata": {},
     "output_type": "execute_result"
    }
   ],
   "source": [
    "X_test_scaled.shape"
   ]
  },
  {
   "cell_type": "code",
   "execution_count": 87,
   "id": "ea9e5d3c",
   "metadata": {},
   "outputs": [
    {
     "data": {
      "text/html": [
       "<div>\n",
       "<style scoped>\n",
       "    .dataframe tbody tr th:only-of-type {\n",
       "        vertical-align: middle;\n",
       "    }\n",
       "\n",
       "    .dataframe tbody tr th {\n",
       "        vertical-align: top;\n",
       "    }\n",
       "\n",
       "    .dataframe thead th {\n",
       "        text-align: right;\n",
       "    }\n",
       "</style>\n",
       "<table border=\"1\" class=\"dataframe\">\n",
       "  <thead>\n",
       "    <tr style=\"text-align: right;\">\n",
       "      <th></th>\n",
       "      <th>loc</th>\n",
       "      <th>ev(g)</th>\n",
       "      <th>iv(g)</th>\n",
       "      <th>n</th>\n",
       "      <th>i</th>\n",
       "      <th>lOComment</th>\n",
       "      <th>uniq_Op</th>\n",
       "    </tr>\n",
       "  </thead>\n",
       "  <tbody>\n",
       "    <tr>\n",
       "      <th>0</th>\n",
       "      <td>33.0</td>\n",
       "      <td>1.0</td>\n",
       "      <td>4.0</td>\n",
       "      <td>144.0</td>\n",
       "      <td>30.05</td>\n",
       "      <td>0</td>\n",
       "      <td>21.0</td>\n",
       "    </tr>\n",
       "    <tr>\n",
       "      <th>1</th>\n",
       "      <td>27.0</td>\n",
       "      <td>8.0</td>\n",
       "      <td>2.0</td>\n",
       "      <td>125.0</td>\n",
       "      <td>27.22</td>\n",
       "      <td>0</td>\n",
       "      <td>18.0</td>\n",
       "    </tr>\n",
       "    <tr>\n",
       "      <th>2</th>\n",
       "      <td>130.0</td>\n",
       "      <td>7.0</td>\n",
       "      <td>10.0</td>\n",
       "      <td>545.0</td>\n",
       "      <td>66.17</td>\n",
       "      <td>9</td>\n",
       "      <td>26.0</td>\n",
       "    </tr>\n",
       "    <tr>\n",
       "      <th>3</th>\n",
       "      <td>65.0</td>\n",
       "      <td>1.0</td>\n",
       "      <td>7.0</td>\n",
       "      <td>156.0</td>\n",
       "      <td>49.89</td>\n",
       "      <td>8</td>\n",
       "      <td>15.0</td>\n",
       "    </tr>\n",
       "    <tr>\n",
       "      <th>4</th>\n",
       "      <td>22.0</td>\n",
       "      <td>1.0</td>\n",
       "      <td>3.0</td>\n",
       "      <td>52.0</td>\n",
       "      <td>26.70</td>\n",
       "      <td>0</td>\n",
       "      <td>12.0</td>\n",
       "    </tr>\n",
       "  </tbody>\n",
       "</table>\n",
       "</div>"
      ],
      "text/plain": [
       "     loc  ev(g)  iv(g)      n      i  lOComment  uniq_Op\n",
       "0   33.0    1.0    4.0  144.0  30.05          0     21.0\n",
       "1   27.0    8.0    2.0  125.0  27.22          0     18.0\n",
       "2  130.0    7.0   10.0  545.0  66.17          9     26.0\n",
       "3   65.0    1.0    7.0  156.0  49.89          8     15.0\n",
       "4   22.0    1.0    3.0   52.0  26.70          0     12.0"
      ]
     },
     "execution_count": 87,
     "metadata": {},
     "output_type": "execute_result"
    }
   ],
   "source": [
    "X_test = X_test[col]\n",
    "X_test.head()"
   ]
  },
  {
   "cell_type": "code",
   "execution_count": 88,
   "id": "ce19a613",
   "metadata": {},
   "outputs": [],
   "source": [
    "X_test_sm = sm.add_constant(X_test)"
   ]
  },
  {
   "cell_type": "code",
   "execution_count": 89,
   "id": "f87cd703",
   "metadata": {},
   "outputs": [
    {
     "data": {
      "text/plain": [
       "0    0.224862\n",
       "1    0.195789\n",
       "2    0.623727\n",
       "3    0.376352\n",
       "4    0.166453\n",
       "5    0.301157\n",
       "6    0.165142\n",
       "7    0.913370\n",
       "8    0.349690\n",
       "9    0.127790\n",
       "dtype: float64"
      ]
     },
     "execution_count": 89,
     "metadata": {},
     "output_type": "execute_result"
    }
   ],
   "source": [
    "y_test_pred = res.predict(X_test_sm)\n",
    "y_test_pred[:10]"
   ]
  },
  {
   "cell_type": "code",
   "execution_count": 90,
   "id": "9ab81cb7",
   "metadata": {},
   "outputs": [],
   "source": [
    "# Converting y_pred to a dataframe which is an array\n",
    "y_pred_1 = pd.DataFrame(y_test_pred)"
   ]
  },
  {
   "cell_type": "code",
   "execution_count": 91,
   "id": "43f01460",
   "metadata": {},
   "outputs": [
    {
     "data": {
      "text/html": [
       "<div>\n",
       "<style scoped>\n",
       "    .dataframe tbody tr th:only-of-type {\n",
       "        vertical-align: middle;\n",
       "    }\n",
       "\n",
       "    .dataframe tbody tr th {\n",
       "        vertical-align: top;\n",
       "    }\n",
       "\n",
       "    .dataframe thead th {\n",
       "        text-align: right;\n",
       "    }\n",
       "</style>\n",
       "<table border=\"1\" class=\"dataframe\">\n",
       "  <thead>\n",
       "    <tr style=\"text-align: right;\">\n",
       "      <th></th>\n",
       "      <th>0</th>\n",
       "    </tr>\n",
       "  </thead>\n",
       "  <tbody>\n",
       "    <tr>\n",
       "      <th>0</th>\n",
       "      <td>0.224862</td>\n",
       "    </tr>\n",
       "    <tr>\n",
       "      <th>1</th>\n",
       "      <td>0.195789</td>\n",
       "    </tr>\n",
       "    <tr>\n",
       "      <th>2</th>\n",
       "      <td>0.623727</td>\n",
       "    </tr>\n",
       "    <tr>\n",
       "      <th>3</th>\n",
       "      <td>0.376352</td>\n",
       "    </tr>\n",
       "    <tr>\n",
       "      <th>4</th>\n",
       "      <td>0.166453</td>\n",
       "    </tr>\n",
       "  </tbody>\n",
       "</table>\n",
       "</div>"
      ],
      "text/plain": [
       "          0\n",
       "0  0.224862\n",
       "1  0.195789\n",
       "2  0.623727\n",
       "3  0.376352\n",
       "4  0.166453"
      ]
     },
     "execution_count": 91,
     "metadata": {},
     "output_type": "execute_result"
    }
   ],
   "source": [
    "# Let's see the head\n",
    "y_pred_1.head()"
   ]
  },
  {
   "cell_type": "code",
   "execution_count": 92,
   "id": "c2d76b66",
   "metadata": {},
   "outputs": [],
   "source": [
    "# Converting y_test to dataframe\n",
    "y_test_df = pd.DataFrame(y_test)"
   ]
  },
  {
   "cell_type": "code",
   "execution_count": 93,
   "id": "afa7aa61",
   "metadata": {},
   "outputs": [],
   "source": [
    "# Putting ID to index\n",
    "y_test_df['id'] = y_test_df.index"
   ]
  },
  {
   "cell_type": "code",
   "execution_count": 94,
   "id": "bcf2dc5d",
   "metadata": {},
   "outputs": [
    {
     "data": {
      "text/html": [
       "<div>\n",
       "<style scoped>\n",
       "    .dataframe tbody tr th:only-of-type {\n",
       "        vertical-align: middle;\n",
       "    }\n",
       "\n",
       "    .dataframe tbody tr th {\n",
       "        vertical-align: top;\n",
       "    }\n",
       "\n",
       "    .dataframe thead th {\n",
       "        text-align: right;\n",
       "    }\n",
       "</style>\n",
       "<table border=\"1\" class=\"dataframe\">\n",
       "  <thead>\n",
       "    <tr style=\"text-align: right;\">\n",
       "      <th></th>\n",
       "      <th>id</th>\n",
       "      <th>loc</th>\n",
       "      <th>v(g)</th>\n",
       "      <th>ev(g)</th>\n",
       "      <th>iv(g)</th>\n",
       "      <th>n</th>\n",
       "      <th>v</th>\n",
       "      <th>l</th>\n",
       "      <th>d</th>\n",
       "      <th>i</th>\n",
       "      <th>...</th>\n",
       "      <th>lOCode</th>\n",
       "      <th>lOComment</th>\n",
       "      <th>lOBlank</th>\n",
       "      <th>locCodeAndComment</th>\n",
       "      <th>uniq_Op</th>\n",
       "      <th>uniq_Opnd</th>\n",
       "      <th>total_Op</th>\n",
       "      <th>total_Opnd</th>\n",
       "      <th>branchCount</th>\n",
       "      <th>0</th>\n",
       "    </tr>\n",
       "  </thead>\n",
       "  <tbody>\n",
       "    <tr>\n",
       "      <th>0</th>\n",
       "      <td>0</td>\n",
       "      <td>33.0</td>\n",
       "      <td>5.0</td>\n",
       "      <td>1.0</td>\n",
       "      <td>4.0</td>\n",
       "      <td>144.0</td>\n",
       "      <td>824.82</td>\n",
       "      <td>0.04</td>\n",
       "      <td>26.96</td>\n",
       "      <td>30.05</td>\n",
       "      <td>...</td>\n",
       "      <td>30</td>\n",
       "      <td>0</td>\n",
       "      <td>3</td>\n",
       "      <td>0</td>\n",
       "      <td>21.0</td>\n",
       "      <td>23.0</td>\n",
       "      <td>87.0</td>\n",
       "      <td>57.0</td>\n",
       "      <td>9.0</td>\n",
       "      <td>0.224862</td>\n",
       "    </tr>\n",
       "    <tr>\n",
       "      <th>1</th>\n",
       "      <td>1</td>\n",
       "      <td>27.0</td>\n",
       "      <td>8.0</td>\n",
       "      <td>8.0</td>\n",
       "      <td>2.0</td>\n",
       "      <td>125.0</td>\n",
       "      <td>646.24</td>\n",
       "      <td>0.04</td>\n",
       "      <td>22.82</td>\n",
       "      <td>27.22</td>\n",
       "      <td>...</td>\n",
       "      <td>23</td>\n",
       "      <td>0</td>\n",
       "      <td>2</td>\n",
       "      <td>0</td>\n",
       "      <td>18.0</td>\n",
       "      <td>19.0</td>\n",
       "      <td>70.0</td>\n",
       "      <td>49.0</td>\n",
       "      <td>15.0</td>\n",
       "      <td>0.195789</td>\n",
       "    </tr>\n",
       "    <tr>\n",
       "      <th>2</th>\n",
       "      <td>2</td>\n",
       "      <td>130.0</td>\n",
       "      <td>11.0</td>\n",
       "      <td>7.0</td>\n",
       "      <td>10.0</td>\n",
       "      <td>545.0</td>\n",
       "      <td>3831.40</td>\n",
       "      <td>0.02</td>\n",
       "      <td>48.15</td>\n",
       "      <td>66.17</td>\n",
       "      <td>...</td>\n",
       "      <td>99</td>\n",
       "      <td>9</td>\n",
       "      <td>17</td>\n",
       "      <td>1</td>\n",
       "      <td>26.0</td>\n",
       "      <td>53.0</td>\n",
       "      <td>333.0</td>\n",
       "      <td>244.0</td>\n",
       "      <td>21.0</td>\n",
       "      <td>0.623727</td>\n",
       "    </tr>\n",
       "    <tr>\n",
       "      <th>3</th>\n",
       "      <td>3</td>\n",
       "      <td>65.0</td>\n",
       "      <td>7.0</td>\n",
       "      <td>1.0</td>\n",
       "      <td>7.0</td>\n",
       "      <td>156.0</td>\n",
       "      <td>855.71</td>\n",
       "      <td>0.06</td>\n",
       "      <td>17.23</td>\n",
       "      <td>49.89</td>\n",
       "      <td>...</td>\n",
       "      <td>45</td>\n",
       "      <td>8</td>\n",
       "      <td>10</td>\n",
       "      <td>0</td>\n",
       "      <td>15.0</td>\n",
       "      <td>26.0</td>\n",
       "      <td>88.0</td>\n",
       "      <td>60.0</td>\n",
       "      <td>13.0</td>\n",
       "      <td>0.376352</td>\n",
       "    </tr>\n",
       "    <tr>\n",
       "      <th>4</th>\n",
       "      <td>4</td>\n",
       "      <td>22.0</td>\n",
       "      <td>3.0</td>\n",
       "      <td>1.0</td>\n",
       "      <td>3.0</td>\n",
       "      <td>52.0</td>\n",
       "      <td>238.42</td>\n",
       "      <td>0.10</td>\n",
       "      <td>9.60</td>\n",
       "      <td>26.70</td>\n",
       "      <td>...</td>\n",
       "      <td>16</td>\n",
       "      <td>0</td>\n",
       "      <td>4</td>\n",
       "      <td>0</td>\n",
       "      <td>12.0</td>\n",
       "      <td>15.0</td>\n",
       "      <td>30.0</td>\n",
       "      <td>24.0</td>\n",
       "      <td>5.0</td>\n",
       "      <td>0.166453</td>\n",
       "    </tr>\n",
       "  </tbody>\n",
       "</table>\n",
       "<p>5 rows × 23 columns</p>\n",
       "</div>"
      ],
      "text/plain": [
       "   id    loc  v(g)  ev(g)  iv(g)      n        v     l      d      i  ...  \\\n",
       "0   0   33.0   5.0    1.0    4.0  144.0   824.82  0.04  26.96  30.05  ...   \n",
       "1   1   27.0   8.0    8.0    2.0  125.0   646.24  0.04  22.82  27.22  ...   \n",
       "2   2  130.0  11.0    7.0   10.0  545.0  3831.40  0.02  48.15  66.17  ...   \n",
       "3   3   65.0   7.0    1.0    7.0  156.0   855.71  0.06  17.23  49.89  ...   \n",
       "4   4   22.0   3.0    1.0    3.0   52.0   238.42  0.10   9.60  26.70  ...   \n",
       "\n",
       "   lOCode  lOComment  lOBlank  locCodeAndComment  uniq_Op  uniq_Opnd  \\\n",
       "0      30          0        3                  0     21.0       23.0   \n",
       "1      23          0        2                  0     18.0       19.0   \n",
       "2      99          9       17                  1     26.0       53.0   \n",
       "3      45          8       10                  0     15.0       26.0   \n",
       "4      16          0        4                  0     12.0       15.0   \n",
       "\n",
       "   total_Op  total_Opnd  branchCount         0  \n",
       "0      87.0        57.0          9.0  0.224862  \n",
       "1      70.0        49.0         15.0  0.195789  \n",
       "2     333.0       244.0         21.0  0.623727  \n",
       "3      88.0        60.0         13.0  0.376352  \n",
       "4      30.0        24.0          5.0  0.166453  \n",
       "\n",
       "[5 rows x 23 columns]"
      ]
     },
     "execution_count": 94,
     "metadata": {},
     "output_type": "execute_result"
    }
   ],
   "source": [
    "# Appending y_test_df and y_pred_1\n",
    "y_pred_final = pd.concat([y_test_df, y_pred_1],axis=1)\n",
    "y_pred_final.head()"
   ]
  },
  {
   "cell_type": "code",
   "execution_count": 95,
   "id": "a8ef1628",
   "metadata": {},
   "outputs": [],
   "source": [
    "# Renaming the column \n",
    "y_pred_final= y_pred_final.rename(columns={ 0 : 'defects_Prob'})"
   ]
  },
  {
   "cell_type": "code",
   "execution_count": 96,
   "id": "ba6df55f",
   "metadata": {},
   "outputs": [
    {
     "data": {
      "text/html": [
       "<div>\n",
       "<style scoped>\n",
       "    .dataframe tbody tr th:only-of-type {\n",
       "        vertical-align: middle;\n",
       "    }\n",
       "\n",
       "    .dataframe tbody tr th {\n",
       "        vertical-align: top;\n",
       "    }\n",
       "\n",
       "    .dataframe thead th {\n",
       "        text-align: right;\n",
       "    }\n",
       "</style>\n",
       "<table border=\"1\" class=\"dataframe\">\n",
       "  <thead>\n",
       "    <tr style=\"text-align: right;\">\n",
       "      <th></th>\n",
       "      <th>id</th>\n",
       "      <th>loc</th>\n",
       "      <th>v(g)</th>\n",
       "      <th>ev(g)</th>\n",
       "      <th>iv(g)</th>\n",
       "      <th>n</th>\n",
       "      <th>v</th>\n",
       "      <th>l</th>\n",
       "      <th>d</th>\n",
       "      <th>i</th>\n",
       "      <th>...</th>\n",
       "      <th>lOCode</th>\n",
       "      <th>lOComment</th>\n",
       "      <th>lOBlank</th>\n",
       "      <th>locCodeAndComment</th>\n",
       "      <th>uniq_Op</th>\n",
       "      <th>uniq_Opnd</th>\n",
       "      <th>total_Op</th>\n",
       "      <th>total_Opnd</th>\n",
       "      <th>branchCount</th>\n",
       "      <th>defects_Prob</th>\n",
       "    </tr>\n",
       "  </thead>\n",
       "  <tbody>\n",
       "    <tr>\n",
       "      <th>0</th>\n",
       "      <td>0</td>\n",
       "      <td>33.0</td>\n",
       "      <td>5.0</td>\n",
       "      <td>1.0</td>\n",
       "      <td>4.0</td>\n",
       "      <td>144.0</td>\n",
       "      <td>824.82</td>\n",
       "      <td>0.04</td>\n",
       "      <td>26.96</td>\n",
       "      <td>30.05</td>\n",
       "      <td>...</td>\n",
       "      <td>30</td>\n",
       "      <td>0</td>\n",
       "      <td>3</td>\n",
       "      <td>0</td>\n",
       "      <td>21.0</td>\n",
       "      <td>23.0</td>\n",
       "      <td>87.0</td>\n",
       "      <td>57.0</td>\n",
       "      <td>9.0</td>\n",
       "      <td>0.224862</td>\n",
       "    </tr>\n",
       "    <tr>\n",
       "      <th>1</th>\n",
       "      <td>1</td>\n",
       "      <td>27.0</td>\n",
       "      <td>8.0</td>\n",
       "      <td>8.0</td>\n",
       "      <td>2.0</td>\n",
       "      <td>125.0</td>\n",
       "      <td>646.24</td>\n",
       "      <td>0.04</td>\n",
       "      <td>22.82</td>\n",
       "      <td>27.22</td>\n",
       "      <td>...</td>\n",
       "      <td>23</td>\n",
       "      <td>0</td>\n",
       "      <td>2</td>\n",
       "      <td>0</td>\n",
       "      <td>18.0</td>\n",
       "      <td>19.0</td>\n",
       "      <td>70.0</td>\n",
       "      <td>49.0</td>\n",
       "      <td>15.0</td>\n",
       "      <td>0.195789</td>\n",
       "    </tr>\n",
       "    <tr>\n",
       "      <th>2</th>\n",
       "      <td>2</td>\n",
       "      <td>130.0</td>\n",
       "      <td>11.0</td>\n",
       "      <td>7.0</td>\n",
       "      <td>10.0</td>\n",
       "      <td>545.0</td>\n",
       "      <td>3831.40</td>\n",
       "      <td>0.02</td>\n",
       "      <td>48.15</td>\n",
       "      <td>66.17</td>\n",
       "      <td>...</td>\n",
       "      <td>99</td>\n",
       "      <td>9</td>\n",
       "      <td>17</td>\n",
       "      <td>1</td>\n",
       "      <td>26.0</td>\n",
       "      <td>53.0</td>\n",
       "      <td>333.0</td>\n",
       "      <td>244.0</td>\n",
       "      <td>21.0</td>\n",
       "      <td>0.623727</td>\n",
       "    </tr>\n",
       "    <tr>\n",
       "      <th>3</th>\n",
       "      <td>3</td>\n",
       "      <td>65.0</td>\n",
       "      <td>7.0</td>\n",
       "      <td>1.0</td>\n",
       "      <td>7.0</td>\n",
       "      <td>156.0</td>\n",
       "      <td>855.71</td>\n",
       "      <td>0.06</td>\n",
       "      <td>17.23</td>\n",
       "      <td>49.89</td>\n",
       "      <td>...</td>\n",
       "      <td>45</td>\n",
       "      <td>8</td>\n",
       "      <td>10</td>\n",
       "      <td>0</td>\n",
       "      <td>15.0</td>\n",
       "      <td>26.0</td>\n",
       "      <td>88.0</td>\n",
       "      <td>60.0</td>\n",
       "      <td>13.0</td>\n",
       "      <td>0.376352</td>\n",
       "    </tr>\n",
       "    <tr>\n",
       "      <th>4</th>\n",
       "      <td>4</td>\n",
       "      <td>22.0</td>\n",
       "      <td>3.0</td>\n",
       "      <td>1.0</td>\n",
       "      <td>3.0</td>\n",
       "      <td>52.0</td>\n",
       "      <td>238.42</td>\n",
       "      <td>0.10</td>\n",
       "      <td>9.60</td>\n",
       "      <td>26.70</td>\n",
       "      <td>...</td>\n",
       "      <td>16</td>\n",
       "      <td>0</td>\n",
       "      <td>4</td>\n",
       "      <td>0</td>\n",
       "      <td>12.0</td>\n",
       "      <td>15.0</td>\n",
       "      <td>30.0</td>\n",
       "      <td>24.0</td>\n",
       "      <td>5.0</td>\n",
       "      <td>0.166453</td>\n",
       "    </tr>\n",
       "  </tbody>\n",
       "</table>\n",
       "<p>5 rows × 23 columns</p>\n",
       "</div>"
      ],
      "text/plain": [
       "   id    loc  v(g)  ev(g)  iv(g)      n        v     l      d      i  ...  \\\n",
       "0   0   33.0   5.0    1.0    4.0  144.0   824.82  0.04  26.96  30.05  ...   \n",
       "1   1   27.0   8.0    8.0    2.0  125.0   646.24  0.04  22.82  27.22  ...   \n",
       "2   2  130.0  11.0    7.0   10.0  545.0  3831.40  0.02  48.15  66.17  ...   \n",
       "3   3   65.0   7.0    1.0    7.0  156.0   855.71  0.06  17.23  49.89  ...   \n",
       "4   4   22.0   3.0    1.0    3.0   52.0   238.42  0.10   9.60  26.70  ...   \n",
       "\n",
       "   lOCode  lOComment  lOBlank  locCodeAndComment  uniq_Op  uniq_Opnd  \\\n",
       "0      30          0        3                  0     21.0       23.0   \n",
       "1      23          0        2                  0     18.0       19.0   \n",
       "2      99          9       17                  1     26.0       53.0   \n",
       "3      45          8       10                  0     15.0       26.0   \n",
       "4      16          0        4                  0     12.0       15.0   \n",
       "\n",
       "   total_Op  total_Opnd  branchCount  defects_Prob  \n",
       "0      87.0        57.0          9.0      0.224862  \n",
       "1      70.0        49.0         15.0      0.195789  \n",
       "2     333.0       244.0         21.0      0.623727  \n",
       "3      88.0        60.0         13.0      0.376352  \n",
       "4      30.0        24.0          5.0      0.166453  \n",
       "\n",
       "[5 rows x 23 columns]"
      ]
     },
     "execution_count": 96,
     "metadata": {},
     "output_type": "execute_result"
    }
   ],
   "source": [
    "# Let's see the head of y_pred_final\n",
    "y_pred_final.head()"
   ]
  },
  {
   "cell_type": "code",
   "execution_count": 97,
   "id": "0d1122c0",
   "metadata": {},
   "outputs": [
    {
     "data": {
      "text/plain": [
       "0        1\n",
       "1        0\n",
       "2        1\n",
       "3        1\n",
       "4        0\n",
       "        ..\n",
       "67837    1\n",
       "67838    0\n",
       "67839    0\n",
       "67840    0\n",
       "67841    1\n",
       "Name: final_predicted, Length: 67842, dtype: int64"
      ]
     },
     "execution_count": 97,
     "metadata": {},
     "output_type": "execute_result"
    }
   ],
   "source": [
    "y_pred_final['final_predicted'] = y_pred_final.defects_Prob.map(lambda x: 1 if x > 0.2 else 0)\n",
    "y_pred_final['final_predicted'] "
   ]
  },
  {
   "cell_type": "code",
   "execution_count": 98,
   "id": "81eed26a",
   "metadata": {},
   "outputs": [
    {
     "data": {
      "text/plain": [
       "(67842, 24)"
      ]
     },
     "execution_count": 98,
     "metadata": {},
     "output_type": "execute_result"
    }
   ],
   "source": [
    "y_pred_final.shape"
   ]
  },
  {
   "cell_type": "code",
   "execution_count": 99,
   "id": "ccdaddf2",
   "metadata": {},
   "outputs": [],
   "source": [
    "f = y_pred_final[['defects_Prob']]"
   ]
  },
  {
   "cell_type": "code",
   "execution_count": 100,
   "id": "e0cef9e1",
   "metadata": {},
   "outputs": [
    {
     "data": {
      "text/plain": [
       "(67842, 1)"
      ]
     },
     "execution_count": 100,
     "metadata": {},
     "output_type": "execute_result"
    }
   ],
   "source": [
    "f.shape"
   ]
  },
  {
   "cell_type": "code",
   "execution_count": 101,
   "id": "cd444abc",
   "metadata": {},
   "outputs": [
    {
     "data": {
      "text/html": [
       "<div>\n",
       "<style scoped>\n",
       "    .dataframe tbody tr th:only-of-type {\n",
       "        vertical-align: middle;\n",
       "    }\n",
       "\n",
       "    .dataframe tbody tr th {\n",
       "        vertical-align: top;\n",
       "    }\n",
       "\n",
       "    .dataframe thead th {\n",
       "        text-align: right;\n",
       "    }\n",
       "</style>\n",
       "<table border=\"1\" class=\"dataframe\">\n",
       "  <thead>\n",
       "    <tr style=\"text-align: right;\">\n",
       "      <th></th>\n",
       "      <th>defects_Prob</th>\n",
       "    </tr>\n",
       "  </thead>\n",
       "  <tbody>\n",
       "    <tr>\n",
       "      <th>0</th>\n",
       "      <td>0.224862</td>\n",
       "    </tr>\n",
       "    <tr>\n",
       "      <th>1</th>\n",
       "      <td>0.195789</td>\n",
       "    </tr>\n",
       "    <tr>\n",
       "      <th>2</th>\n",
       "      <td>0.623727</td>\n",
       "    </tr>\n",
       "    <tr>\n",
       "      <th>3</th>\n",
       "      <td>0.376352</td>\n",
       "    </tr>\n",
       "    <tr>\n",
       "      <th>4</th>\n",
       "      <td>0.166453</td>\n",
       "    </tr>\n",
       "  </tbody>\n",
       "</table>\n",
       "</div>"
      ],
      "text/plain": [
       "   defects_Prob\n",
       "0      0.224862\n",
       "1      0.195789\n",
       "2      0.623727\n",
       "3      0.376352\n",
       "4      0.166453"
      ]
     },
     "execution_count": 101,
     "metadata": {},
     "output_type": "execute_result"
    }
   ],
   "source": [
    "f.head()"
   ]
  },
  {
   "cell_type": "code",
   "execution_count": 102,
   "id": "9ca9d109",
   "metadata": {},
   "outputs": [
    {
     "data": {
      "text/html": [
       "<div>\n",
       "<style scoped>\n",
       "    .dataframe tbody tr th:only-of-type {\n",
       "        vertical-align: middle;\n",
       "    }\n",
       "\n",
       "    .dataframe tbody tr th {\n",
       "        vertical-align: top;\n",
       "    }\n",
       "\n",
       "    .dataframe thead th {\n",
       "        text-align: right;\n",
       "    }\n",
       "</style>\n",
       "<table border=\"1\" class=\"dataframe\">\n",
       "  <thead>\n",
       "    <tr style=\"text-align: right;\">\n",
       "      <th></th>\n",
       "      <th>id</th>\n",
       "      <th>defects</th>\n",
       "    </tr>\n",
       "  </thead>\n",
       "  <tbody>\n",
       "    <tr>\n",
       "      <th>0</th>\n",
       "      <td>101763</td>\n",
       "      <td>0.5</td>\n",
       "    </tr>\n",
       "    <tr>\n",
       "      <th>1</th>\n",
       "      <td>101764</td>\n",
       "      <td>0.5</td>\n",
       "    </tr>\n",
       "    <tr>\n",
       "      <th>2</th>\n",
       "      <td>101765</td>\n",
       "      <td>0.5</td>\n",
       "    </tr>\n",
       "    <tr>\n",
       "      <th>3</th>\n",
       "      <td>101766</td>\n",
       "      <td>0.5</td>\n",
       "    </tr>\n",
       "    <tr>\n",
       "      <th>4</th>\n",
       "      <td>101767</td>\n",
       "      <td>0.5</td>\n",
       "    </tr>\n",
       "  </tbody>\n",
       "</table>\n",
       "</div>"
      ],
      "text/plain": [
       "       id  defects\n",
       "0  101763      0.5\n",
       "1  101764      0.5\n",
       "2  101765      0.5\n",
       "3  101766      0.5\n",
       "4  101767      0.5"
      ]
     },
     "execution_count": 102,
     "metadata": {},
     "output_type": "execute_result"
    }
   ],
   "source": [
    "sol = pd.read_csv('sample_submissionBinaryClassification.csv')\n",
    "sol.head()"
   ]
  },
  {
   "cell_type": "code",
   "execution_count": 103,
   "id": "4d3d9c4d",
   "metadata": {},
   "outputs": [],
   "source": [
    "final_sol = pd.concat([sol,f],axis=1)"
   ]
  },
  {
   "cell_type": "code",
   "execution_count": 104,
   "id": "2ea1591d",
   "metadata": {},
   "outputs": [],
   "source": [
    "s = final_sol[['id','defects_Prob']]"
   ]
  },
  {
   "cell_type": "code",
   "execution_count": 105,
   "id": "2fa8fb26",
   "metadata": {},
   "outputs": [],
   "source": [
    "s.rename(columns = {'defects_Prob':'defects'}, inplace = True)"
   ]
  },
  {
   "cell_type": "code",
   "execution_count": 106,
   "id": "87d2a0ae",
   "metadata": {},
   "outputs": [
    {
     "data": {
      "text/html": [
       "<div>\n",
       "<style scoped>\n",
       "    .dataframe tbody tr th:only-of-type {\n",
       "        vertical-align: middle;\n",
       "    }\n",
       "\n",
       "    .dataframe tbody tr th {\n",
       "        vertical-align: top;\n",
       "    }\n",
       "\n",
       "    .dataframe thead th {\n",
       "        text-align: right;\n",
       "    }\n",
       "</style>\n",
       "<table border=\"1\" class=\"dataframe\">\n",
       "  <thead>\n",
       "    <tr style=\"text-align: right;\">\n",
       "      <th></th>\n",
       "      <th>id</th>\n",
       "      <th>defects</th>\n",
       "    </tr>\n",
       "  </thead>\n",
       "  <tbody>\n",
       "    <tr>\n",
       "      <th>0</th>\n",
       "      <td>101763</td>\n",
       "      <td>0.224862</td>\n",
       "    </tr>\n",
       "    <tr>\n",
       "      <th>1</th>\n",
       "      <td>101764</td>\n",
       "      <td>0.195789</td>\n",
       "    </tr>\n",
       "    <tr>\n",
       "      <th>2</th>\n",
       "      <td>101765</td>\n",
       "      <td>0.623727</td>\n",
       "    </tr>\n",
       "    <tr>\n",
       "      <th>3</th>\n",
       "      <td>101766</td>\n",
       "      <td>0.376352</td>\n",
       "    </tr>\n",
       "    <tr>\n",
       "      <th>4</th>\n",
       "      <td>101767</td>\n",
       "      <td>0.166453</td>\n",
       "    </tr>\n",
       "  </tbody>\n",
       "</table>\n",
       "</div>"
      ],
      "text/plain": [
       "       id   defects\n",
       "0  101763  0.224862\n",
       "1  101764  0.195789\n",
       "2  101765  0.623727\n",
       "3  101766  0.376352\n",
       "4  101767  0.166453"
      ]
     },
     "execution_count": 106,
     "metadata": {},
     "output_type": "execute_result"
    }
   ],
   "source": [
    "s.head()"
   ]
  },
  {
   "cell_type": "code",
   "execution_count": 107,
   "id": "1fcbf88f",
   "metadata": {},
   "outputs": [],
   "source": [
    "g = s.to_csv('Binarysubmission.csv',index=False)"
   ]
  },
  {
   "cell_type": "code",
   "execution_count": null,
   "id": "d886dbe6",
   "metadata": {},
   "outputs": [],
   "source": []
  },
  {
   "cell_type": "code",
   "execution_count": null,
   "id": "b668c27a",
   "metadata": {},
   "outputs": [],
   "source": []
  },
  {
   "cell_type": "code",
   "execution_count": null,
   "id": "24c83283",
   "metadata": {},
   "outputs": [],
   "source": []
  },
  {
   "cell_type": "code",
   "execution_count": null,
   "id": "64a2c0d1",
   "metadata": {},
   "outputs": [],
   "source": []
  },
  {
   "cell_type": "code",
   "execution_count": null,
   "id": "8ec4015c",
   "metadata": {},
   "outputs": [],
   "source": []
  }
 ],
 "metadata": {
  "kernelspec": {
   "display_name": "Python 3 (ipykernel)",
   "language": "python",
   "name": "python3"
  },
  "language_info": {
   "codemirror_mode": {
    "name": "ipython",
    "version": 3
   },
   "file_extension": ".py",
   "mimetype": "text/x-python",
   "name": "python",
   "nbconvert_exporter": "python",
   "pygments_lexer": "ipython3",
   "version": "3.10.9"
  }
 },
 "nbformat": 4,
 "nbformat_minor": 5
}
